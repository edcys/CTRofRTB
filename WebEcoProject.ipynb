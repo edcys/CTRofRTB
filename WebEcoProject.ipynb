{
 "cells": [
  {
   "cell_type": "markdown",
   "metadata": {},
   "source": [
    "# COMPGW02/M041: Web Economics Project\n",
    "\n",
    "## Group 7: Zhilin Cai, Yuncan Zhang, Yao Fu\n",
    "###  {zhilin.cai.16, yuncan.zhang.16, yao.fu.16}@ucl.ac.uk"
   ]
  },
  {
   "cell_type": "code",
   "execution_count": 1,
   "metadata": {
    "collapsed": false
   },
   "outputs": [
    {
     "name": "stderr",
     "output_type": "stream",
     "text": [
      "/usr/local/lib/python2.7/site-packages/IPython/html.py:14: ShimWarning: The `IPython.html` package has been deprecated. You should import from `notebook` instead. `IPython.html.widgets` has moved to `ipywidgets`.\n",
      "  \"`IPython.html.widgets` has moved to `ipywidgets`.\", ShimWarning)\n"
     ]
    }
   ],
   "source": [
    "import pandas as pd\n",
    "import matplotlib.pyplot as plt\n",
    "import numpy as np\n",
    "import seaborn as sns\n",
    "from sklearn.preprocessing import LabelEncoder\n",
    "%matplotlib inline"
   ]
  },
  {
   "cell_type": "code",
   "execution_count": 2,
   "metadata": {
    "collapsed": false
   },
   "outputs": [],
   "source": [
    "df_train_original = pd.read_csv('train.csv')\n",
    "df_validation_original = pd.read_csv('validation.csv')\n",
    "df_test_original = pd.read_csv('test.csv')"
   ]
  },
  {
   "cell_type": "markdown",
   "metadata": {},
   "source": [
    "# Preprocess"
   ]
  },
  {
   "cell_type": "markdown",
   "metadata": {},
   "source": [
    "## Split os and browser"
   ]
  },
  {
   "cell_type": "code",
   "execution_count": 3,
   "metadata": {
    "collapsed": true
   },
   "outputs": [],
   "source": [
    "# split os and browser\n",
    "def split_useragent_os(data):\n",
    "    return data.split('_')[0]\n",
    "def split_useragent_b(data):\n",
    "    return data.split('_')[1]\n",
    "def split_useragent(dataframe):\n",
    "    dataframe['os'] = dataframe['useragent'].apply(split_useragent_os)\n",
    "    dataframe['browser'] = dataframe['useragent'].apply(split_useragent_b)\n",
    "    dataframe.drop(['useragent'], axis=1, inplace=True)\n",
    "\n",
    "split_useragent(df_train_original)\n",
    "split_useragent(df_validation_original)\n",
    "split_useragent(df_test_original)"
   ]
  },
  {
   "cell_type": "markdown",
   "metadata": {},
   "source": [
    "## Drop features"
   ]
  },
  {
   "cell_type": "code",
   "execution_count": 4,
   "metadata": {
    "collapsed": true
   },
   "outputs": [],
   "source": [
    "col_to_drop1 = ['city','slotid','slotprice','IP','domain','usertag','creative','logtype','bidid','userid','url','urlid','bidprice','payprice','keypage']\n",
    "# col_to_drop2 = ['IP','domain','usertag','creative','logtype','bidid','userid','url','urlid','bidprice','payprice','keypage']\n",
    "test_to_drop = ['city','slotid','slotprice','IP','domain','usertag','creative','logtype','bidid','userid','url','urlid','keypage']"
   ]
  },
  {
   "cell_type": "code",
   "execution_count": 5,
   "metadata": {
    "collapsed": false
   },
   "outputs": [],
   "source": [
    "df_train = df_train_original.drop(col_to_drop1, axis=1)\n",
    "df_validation = df_validation_original.drop(col_to_drop1, axis=1)\n",
    "df_test = df_test_original.drop(test_to_drop, axis=1)"
   ]
  },
  {
   "cell_type": "code",
   "execution_count": 6,
   "metadata": {
    "collapsed": false
   },
   "outputs": [
    {
     "name": "stdout",
     "output_type": "stream",
     "text": [
      "<class 'pandas.core.frame.DataFrame'>\n",
      "RangeIndex: 2697738 entries, 0 to 2697737\n",
      "Data columns (total 12 columns):\n",
      "click             int64\n",
      "weekday           int64\n",
      "hour              int64\n",
      "region            int64\n",
      "adexchange        object\n",
      "slotwidth         int64\n",
      "slotheight        int64\n",
      "slotvisibility    object\n",
      "slotformat        object\n",
      "advertiser        int64\n",
      "os                object\n",
      "browser           object\n",
      "dtypes: int64(7), object(5)\n",
      "memory usage: 247.0+ MB\n"
     ]
    }
   ],
   "source": [
    "df_train.info()"
   ]
  },
  {
   "cell_type": "code",
   "execution_count": 7,
   "metadata": {
    "collapsed": false
   },
   "outputs": [],
   "source": [
    "# pd.get_dummies(df_train['adexchange'],prefix='adexchange')"
   ]
  },
  {
   "cell_type": "code",
   "execution_count": 8,
   "metadata": {
    "collapsed": false
   },
   "outputs": [],
   "source": [
    "# print len(df_train.slotformat.unique())\n",
    "# print len(df_test.slotformat.unique())"
   ]
  },
  {
   "cell_type": "code",
   "execution_count": 9,
   "metadata": {
    "collapsed": false
   },
   "outputs": [],
   "source": [
    "# df_train.slotvisibility.unique()"
   ]
  },
  {
   "cell_type": "code",
   "execution_count": 10,
   "metadata": {
    "collapsed": false
   },
   "outputs": [],
   "source": [
    "def onehot(onehot_df, column_name):\n",
    "    dummies = pd.get_dummies(onehot_df[column_name],prefix=column_name)\n",
    "    onehot_df = onehot_df.join(dummies)\n",
    "    onehot_df = onehot_df.drop([column_name], axis=1)\n",
    "    return onehot_df"
   ]
  },
  {
   "cell_type": "code",
   "execution_count": 11,
   "metadata": {
    "collapsed": false
   },
   "outputs": [],
   "source": [
    "column_to_onehot = ['weekday','hour','region','adexchange','slotformat','os','browser','slotwidth','slotheight','slotvisibility']\n",
    "for col_name in column_to_onehot:\n",
    "    df_train = onehot(df_train, col_name)\n",
    "    df_validation = onehot(df_validation, col_name)\n",
    "    df_test = onehot(df_test, col_name)"
   ]
  },
  {
   "cell_type": "code",
   "execution_count": 12,
   "metadata": {
    "collapsed": false
   },
   "outputs": [],
   "source": [
    "from sklearn.linear_model import LogisticRegression as lr\n",
    "from sklearn import metrics\n",
    "model_list = {}\n",
    "train_y = {}\n",
    "train_X = {}\n",
    "val_y = {}\n",
    "val_X = {}\n",
    "test_X = {}\n",
    "auc = {}\n",
    "for advertiser in df_train['advertiser'].unique():\n",
    "    df_one_advertiser = df_train.ix[(df_train['advertiser']==advertiser)]\n",
    "    df_one_advertiser_validation = df_validation.ix[(df_validation['advertiser']==advertiser)]\n",
    "    df_one_advertiser_test = df_test.ix[(df_test['advertiser']==advertiser)]\n",
    "    \n",
    "    train_y[advertiser] = df_one_advertiser['click']\n",
    "    val_y[advertiser] = df_one_advertiser_validation['click']\n",
    "    train_X[advertiser] = df_one_advertiser.drop(['click','advertiser'], axis=1)\n",
    "    val_X[advertiser] = df_one_advertiser_validation.drop(['click','advertiser'], axis=1)\n",
    "    test_X[advertiser] = df_one_advertiser_test.drop(['advertiser'], axis=1)\n",
    "    \n",
    "    lr_instance = lr()\n",
    "    lr_instance.fit(train_X[advertiser], train_y[advertiser])\n",
    "    model_list[advertiser] = lr_instance\n",
    "    \n",
    "    # calculate AUC\n",
    "    fpr, tpr, thresholds = metrics.roc_curve(val_y[advertiser].tolist(), model_list[advertiser].predict_proba(val_X[advertiser])[:,1:].transpose().tolist()[0])\n",
    "    auc[advertiser] = metrics.auc(fpr, tpr)"
   ]
  },
  {
   "cell_type": "code",
   "execution_count": 13,
   "metadata": {
    "collapsed": false
   },
   "outputs": [
    {
     "data": {
      "text/plain": [
       "{1458: 0.57962651104626939,\n",
       " 2259: 0.72047449137892816,\n",
       " 2261: 0.63054994388327723,\n",
       " 2821: 0.58854695307620242,\n",
       " 2997: 0.61731793506094434,\n",
       " 3358: 0.62018313766968647,\n",
       " 3386: 0.6568324508248008,\n",
       " 3427: 0.67442784488239038,\n",
       " 3476: 0.67455293637491132}"
      ]
     },
     "execution_count": 13,
     "metadata": {},
     "output_type": "execute_result"
    }
   ],
   "source": [
    "auc"
   ]
  },
  {
   "cell_type": "code",
   "execution_count": 160,
   "metadata": {
    "collapsed": false
   },
   "outputs": [],
   "source": [
    "# xxx = pd.DataFrame.from_dict(auc.items()).sort_values(0)\n",
    "# xxx[1] = xxx[1].round(4)"
   ]
  },
  {
   "cell_type": "code",
   "execution_count": 166,
   "metadata": {
    "collapsed": false
   },
   "outputs": [],
   "source": [
    "# xxx.to_csv(\"auc.csv\")"
   ]
  },
  {
   "cell_type": "code",
   "execution_count": 14,
   "metadata": {
    "collapsed": false
   },
   "outputs": [
    {
     "data": {
      "text/plain": [
       "array([1458, 3476, 3427, 3358, 2259, 2821, 3386, 2997, 2261])"
      ]
     },
     "execution_count": 14,
     "metadata": {},
     "output_type": "execute_result"
    }
   ],
   "source": [
    "df_train['advertiser'].unique()"
   ]
  },
  {
   "cell_type": "code",
   "execution_count": 15,
   "metadata": {
    "collapsed": false
   },
   "outputs": [],
   "source": [
    "train_avgCTR = {}\n",
    "train_click_num = {}\n",
    "val_click_num = {}\n",
    "for advertiser in df_train['advertiser'].unique():\n",
    "    train_avgCTR[advertiser] = float(train_y[advertiser].value_counts()[1])/float(len(train_y[advertiser]))\n",
    "#     train_avgCTR[advertiser] = format(float(train_y[advertiser].value_counts()[1])/float(len(train_y[advertiser])), '.3%')\n",
    "    train_click_num[advertiser] = train_y[advertiser].value_counts()[1]\n",
    "    val_click_num[advertiser] = val_y[advertiser].value_counts()[1]\n",
    "    "
   ]
  },
  {
   "cell_type": "code",
   "execution_count": 16,
   "metadata": {
    "collapsed": false
   },
   "outputs": [
    {
     "data": {
      "text/plain": [
       "{1458: 0.0008347322656410503,\n",
       " 2259: 0.000306585455585987,\n",
       " 2261: 0.0003067510093766322,\n",
       " 2821: 0.000622256023784008,\n",
       " 2997: 0.004606603409987703,\n",
       " 3358: 0.0007644808420444777,\n",
       " 3386: 0.0007180766777520589,\n",
       " 3427: 0.0007488475456521691,\n",
       " 3476: 0.0005046456234247847}"
      ]
     },
     "execution_count": 16,
     "metadata": {},
     "output_type": "execute_result"
    }
   ],
   "source": [
    "train_avgCTR"
   ]
  },
  {
   "cell_type": "code",
   "execution_count": 17,
   "metadata": {
    "collapsed": false
   },
   "outputs": [
    {
     "data": {
      "text/plain": [
       "{1458: 451,\n",
       " 2259: 45,\n",
       " 2261: 37,\n",
       " 2821: 144,\n",
       " 2997: 251,\n",
       " 3358: 233,\n",
       " 3386: 358,\n",
       " 3427: 340,\n",
       " 3476: 175}"
      ]
     },
     "execution_count": 17,
     "metadata": {},
     "output_type": "execute_result"
    }
   ],
   "source": [
    "train_click_num"
   ]
  },
  {
   "cell_type": "code",
   "execution_count": 18,
   "metadata": {
    "collapsed": false
   },
   "outputs": [
    {
     "data": {
      "text/plain": [
       "{1458: 50,\n",
       " 2259: 11,\n",
       " 2261: 5,\n",
       " 2821: 16,\n",
       " 2997: 26,\n",
       " 3358: 27,\n",
       " 3386: 33,\n",
       " 3427: 45,\n",
       " 3476: 13}"
      ]
     },
     "execution_count": 18,
     "metadata": {},
     "output_type": "execute_result"
    }
   ],
   "source": [
    "val_click_num"
   ]
  },
  {
   "cell_type": "markdown",
   "metadata": {},
   "source": [
    "# Validation"
   ]
  },
  {
   "cell_type": "code",
   "execution_count": 19,
   "metadata": {
    "collapsed": false
   },
   "outputs": [
    {
     "data": {
      "text/plain": [
       "5"
      ]
     },
     "execution_count": 19,
     "metadata": {},
     "output_type": "execute_result"
    }
   ],
   "source": [
    "val_y[advertiser].value_counts()[1]"
   ]
  },
  {
   "cell_type": "code",
   "execution_count": 20,
   "metadata": {
    "collapsed": false
   },
   "outputs": [],
   "source": [
    "val_prop = {}\n",
    "val_average_pctr = {}\n",
    "val_avgCTR = {}\n",
    "for advertiser in df_train['advertiser'].unique():\n",
    "    val_prop[advertiser] = pd.DataFrame(model_list[advertiser].predict_proba(val_X[advertiser]),index = val_X[advertiser].index)\n",
    "    val_average_pctr[advertiser] = format(val_prop[advertiser][1].mean(), '.3%')\n",
    "    val_avgCTR[advertiser] = format(float(val_y[advertiser].value_counts()[1])/float(len(val_y[advertiser])), '.3%')"
   ]
  },
  {
   "cell_type": "code",
   "execution_count": 21,
   "metadata": {
    "collapsed": false
   },
   "outputs": [
    {
     "data": {
      "text/plain": [
       "{1458: '0.084%',\n",
       " 2259: '0.031%',\n",
       " 2261: '0.033%',\n",
       " 2821: '0.063%',\n",
       " 2997: '0.465%',\n",
       " 3358: '0.077%',\n",
       " 3386: '0.072%',\n",
       " 3427: '0.075%',\n",
       " 3476: '0.051%'}"
      ]
     },
     "execution_count": 21,
     "metadata": {},
     "output_type": "execute_result"
    }
   ],
   "source": [
    "val_average_pctr"
   ]
  },
  {
   "cell_type": "code",
   "execution_count": 22,
   "metadata": {
    "collapsed": false
   },
   "outputs": [
    {
     "data": {
      "text/plain": [
       "{1458: '0.083%',\n",
       " 2259: '0.067%',\n",
       " 2261: '0.037%',\n",
       " 2821: '0.062%',\n",
       " 2997: '0.431%',\n",
       " 3358: '0.080%',\n",
       " 3386: '0.060%',\n",
       " 3427: '0.089%',\n",
       " 3476: '0.033%'}"
      ]
     },
     "execution_count": 22,
     "metadata": {},
     "output_type": "execute_result"
    }
   ],
   "source": [
    "val_avgCTR"
   ]
  },
  {
   "cell_type": "code",
   "execution_count": 23,
   "metadata": {
    "collapsed": false
   },
   "outputs": [],
   "source": [
    "df_val_pctr = pd.concat([val_prop[1458],val_prop[3476],val_prop[3427],val_prop[3358],val_prop[2259],val_prop[2821],val_prop[3386],val_prop[2997],val_prop[2261]]).sort_index()"
   ]
  },
  {
   "cell_type": "code",
   "execution_count": 24,
   "metadata": {
    "collapsed": true
   },
   "outputs": [],
   "source": [
    "# to be used\n",
    "df_val_pctr = df_val_pctr.rename(columns={1:'pCTR'})"
   ]
  },
  {
   "cell_type": "code",
   "execution_count": 25,
   "metadata": {
    "collapsed": false
   },
   "outputs": [],
   "source": [
    "# df_val_pctr"
   ]
  },
  {
   "cell_type": "markdown",
   "metadata": {},
   "source": [
    "# Train + Validation ---> avgCTR"
   ]
  },
  {
   "cell_type": "code",
   "execution_count": 26,
   "metadata": {
    "collapsed": true
   },
   "outputs": [],
   "source": [
    "all_avgCTR = {}\n",
    "for advertiser in df_train['advertiser'].unique():\n",
    "    all_avgCTR[advertiser] = float(val_y[advertiser].value_counts()[1]+train_y[advertiser].value_counts()[1])/float(len(val_y[advertiser])+len(train_y[advertiser]))"
   ]
  },
  {
   "cell_type": "code",
   "execution_count": 27,
   "metadata": {
    "collapsed": false
   },
   "outputs": [
    {
     "data": {
      "text/plain": [
       "{1458: 0.0008345576844272536,\n",
       " 2259: 0.0003431435626880396,\n",
       " 2261: 0.00031345856749434657,\n",
       " 2821: 0.000622451837789051,\n",
       " 2997: 0.004576923712430396,\n",
       " 3358: 0.0007677883266644027,\n",
       " 3386: 0.0007060948081264108,\n",
       " 3427: 0.0007632649500804898,\n",
       " 3476: 0.0004875303734015876}"
      ]
     },
     "execution_count": 27,
     "metadata": {},
     "output_type": "execute_result"
    }
   ],
   "source": [
    "# to be used\n",
    "all_avgCTR"
   ]
  },
  {
   "cell_type": "markdown",
   "metadata": {},
   "source": [
    "# Test"
   ]
  },
  {
   "cell_type": "code",
   "execution_count": 28,
   "metadata": {
    "collapsed": false
   },
   "outputs": [],
   "source": [
    "test_prop ={}\n",
    "test_average_pctr = {}\n",
    "for advertiser in df_train['advertiser'].unique():\n",
    "    test_prop[advertiser] = pd.DataFrame(model_list[advertiser].predict_proba(test_X[advertiser]),index = test_X[advertiser].index)\n",
    "    test_average_pctr[advertiser] = format(test_prop[advertiser][1].mean(), '.3%')"
   ]
  },
  {
   "cell_type": "code",
   "execution_count": 29,
   "metadata": {
    "collapsed": false
   },
   "outputs": [
    {
     "data": {
      "text/plain": [
       "{1458: '0.084%',\n",
       " 2259: '0.032%',\n",
       " 2261: '0.033%',\n",
       " 2821: '0.063%',\n",
       " 2997: '0.460%',\n",
       " 3358: '0.078%',\n",
       " 3386: '0.073%',\n",
       " 3427: '0.075%',\n",
       " 3476: '0.051%'}"
      ]
     },
     "execution_count": 29,
     "metadata": {},
     "output_type": "execute_result"
    }
   ],
   "source": [
    "test_average_pctr"
   ]
  },
  {
   "cell_type": "code",
   "execution_count": 30,
   "metadata": {
    "collapsed": false
   },
   "outputs": [],
   "source": [
    "df_test_pctr = pd.concat([test_prop[1458],test_prop[3476],test_prop[3427],test_prop[3358],test_prop[2259],test_prop[2821],test_prop[3386],test_prop[2997],test_prop[2261]]).sort_index()"
   ]
  },
  {
   "cell_type": "code",
   "execution_count": 31,
   "metadata": {
    "collapsed": false
   },
   "outputs": [],
   "source": [
    "# to be used\n",
    "df_test_pctr = df_test_pctr.rename(columns={1:'pCTR'})"
   ]
  },
  {
   "cell_type": "code",
   "execution_count": 32,
   "metadata": {
    "collapsed": false
   },
   "outputs": [],
   "source": [
    "# test_avgCTR = len(df_test_original.ix[(df_test_original['click']==1)])/len(df_test_original)"
   ]
  },
  {
   "cell_type": "code",
   "execution_count": 33,
   "metadata": {
    "collapsed": false
   },
   "outputs": [],
   "source": [
    "# df_test_pctr"
   ]
  },
  {
   "cell_type": "markdown",
   "metadata": {},
   "source": [
    "# Basic Statistics"
   ]
  },
  {
   "cell_type": "code",
   "execution_count": 579,
   "metadata": {
    "collapsed": false
   },
   "outputs": [],
   "source": [
    "def evaluate_result(data_with_predbid):\n",
    "    data_win_click = data_with_predbid.ix[( data_with_predbid['bidprice']> data_with_predbid['payprice']) & (data_with_predbid['click']==1 )]\n",
    "    data_win = data_with_predbid.ix[( data_with_predbid['bidprice']> data_with_predbid['payprice'])]\n",
    "    \n",
    "    # calculate \n",
    "    # CPM(cost of all win bids/num of win imps) \n",
    "    # CTR(click/win imps) \n",
    "    # eCPC(cost of all win bids/num of clicks)\n",
    "    # Click\n",
    "    # Cost(cost of all won bids)\n",
    "    data_win_click_group = data_win_click.groupby('advertiser')\n",
    "    data_win_group = data_win.groupby('advertiser')\n",
    "    \n",
    "    click_data = data_win_click_group.sum()\n",
    "    win_data = data_win_group.sum()[['click','logtype','payprice']]\n",
    "    \n",
    "    win_data = win_data.rename(columns={'payprice':'cost'})\n",
    "    win_data = win_data.rename(columns={'logtype':'Imps'})\n",
    "    \n",
    "    click_data['eCPC'] = (win_data['cost']/click_data['click']).round(2)\n",
    "    win_data['CPM'] = (win_data['cost']/win_data['Imps']).round(2)\n",
    "    win_data['CTR'] = win_data['click']/win_data['Imps']\n",
    "    \n",
    "    basic_report = pd.concat([click_data['click'],win_data['Imps'],win_data['cost'],win_data[['CPM','CTR']], click_data['eCPC']],axis=1)\n",
    "    \n",
    "    x = basic_report.sum()\n",
    "    basic_report.loc[9] = [x.click,x.Imps,x.cost,win_data.sum()['cost']/win_data.sum()['Imps'],x['click']/x['Imps'],x['cost']/x['click']]\n",
    "    basic_report = basic_report.rename(index={9: 'Total'})\n",
    "    basic_report['CTR'] = (basic_report['CTR'] *100).round(3).astype(str) + '%'\n",
    "#     basic_report['click'] = basic_report['click'].astype(int)\n",
    "#     basic_report['Imps'] = basic_report['Imps'].astype(int)\n",
    "    basic_report['cost'] = basic_report['cost']/1000\n",
    "    basic_report['CPM'] = basic_report['CPM'].map('{:.2f}'.format)\n",
    "    basic_report['eCPC'] = (basic_report['eCPC']/1000).map('{:.2f}'.format)\n",
    "    return basic_report"
   ]
  },
  {
   "cell_type": "code",
   "execution_count": 552,
   "metadata": {
    "collapsed": false
   },
   "outputs": [
    {
     "data": {
      "text/html": [
       "<div>\n",
       "<table border=\"1\" class=\"dataframe\">\n",
       "  <thead>\n",
       "    <tr style=\"text-align: right;\">\n",
       "      <th></th>\n",
       "      <th>click</th>\n",
       "      <th>Imps</th>\n",
       "      <th>cost</th>\n",
       "      <th>CPM</th>\n",
       "      <th>CTR</th>\n",
       "      <th>eCPC</th>\n",
       "    </tr>\n",
       "    <tr>\n",
       "      <th>advertiser</th>\n",
       "      <th></th>\n",
       "      <th></th>\n",
       "      <th></th>\n",
       "      <th></th>\n",
       "      <th></th>\n",
       "      <th></th>\n",
       "    </tr>\n",
       "  </thead>\n",
       "  <tbody>\n",
       "    <tr>\n",
       "      <th>1458</th>\n",
       "      <td>451.0</td>\n",
       "      <td>540293.0</td>\n",
       "      <td>37231.239</td>\n",
       "      <td>68.91</td>\n",
       "      <td>0.083%</td>\n",
       "      <td>82.55</td>\n",
       "    </tr>\n",
       "    <tr>\n",
       "      <th>2259</th>\n",
       "      <td>45.0</td>\n",
       "      <td>146778.0</td>\n",
       "      <td>13649.026</td>\n",
       "      <td>92.99</td>\n",
       "      <td>0.031%</td>\n",
       "      <td>303.31</td>\n",
       "    </tr>\n",
       "    <tr>\n",
       "      <th>2261</th>\n",
       "      <td>37.0</td>\n",
       "      <td>120619.0</td>\n",
       "      <td>10789.152</td>\n",
       "      <td>89.45</td>\n",
       "      <td>0.031%</td>\n",
       "      <td>291.60</td>\n",
       "    </tr>\n",
       "    <tr>\n",
       "      <th>2821</th>\n",
       "      <td>144.0</td>\n",
       "      <td>231416.0</td>\n",
       "      <td>20625.766</td>\n",
       "      <td>89.13</td>\n",
       "      <td>0.062%</td>\n",
       "      <td>143.23</td>\n",
       "    </tr>\n",
       "    <tr>\n",
       "      <th>2997</th>\n",
       "      <td>251.0</td>\n",
       "      <td>54487.0</td>\n",
       "      <td>3413.227</td>\n",
       "      <td>62.64</td>\n",
       "      <td>0.461%</td>\n",
       "      <td>13.60</td>\n",
       "    </tr>\n",
       "    <tr>\n",
       "      <th>3358</th>\n",
       "      <td>204.0</td>\n",
       "      <td>289982.0</td>\n",
       "      <td>24517.382</td>\n",
       "      <td>84.55</td>\n",
       "      <td>0.07%</td>\n",
       "      <td>120.18</td>\n",
       "    </tr>\n",
       "    <tr>\n",
       "      <th>3386</th>\n",
       "      <td>358.0</td>\n",
       "      <td>498554.0</td>\n",
       "      <td>38341.028</td>\n",
       "      <td>76.90</td>\n",
       "      <td>0.072%</td>\n",
       "      <td>107.10</td>\n",
       "    </tr>\n",
       "    <tr>\n",
       "      <th>3427</th>\n",
       "      <td>323.0</td>\n",
       "      <td>439787.0</td>\n",
       "      <td>33297.891</td>\n",
       "      <td>75.71</td>\n",
       "      <td>0.073%</td>\n",
       "      <td>103.09</td>\n",
       "    </tr>\n",
       "    <tr>\n",
       "      <th>3476</th>\n",
       "      <td>173.0</td>\n",
       "      <td>342243.0</td>\n",
       "      <td>26328.601</td>\n",
       "      <td>76.93</td>\n",
       "      <td>0.051%</td>\n",
       "      <td>152.19</td>\n",
       "    </tr>\n",
       "    <tr>\n",
       "      <th>Total</th>\n",
       "      <td>1986.0</td>\n",
       "      <td>2664159.0</td>\n",
       "      <td>208193.312</td>\n",
       "      <td>78.15</td>\n",
       "      <td>0.075%</td>\n",
       "      <td>104.83</td>\n",
       "    </tr>\n",
       "  </tbody>\n",
       "</table>\n",
       "</div>"
      ],
      "text/plain": [
       "             click       Imps        cost    CPM     CTR    eCPC\n",
       "advertiser                                                      \n",
       "1458         451.0   540293.0   37231.239  68.91  0.083%   82.55\n",
       "2259          45.0   146778.0   13649.026  92.99  0.031%  303.31\n",
       "2261          37.0   120619.0   10789.152  89.45  0.031%  291.60\n",
       "2821         144.0   231416.0   20625.766  89.13  0.062%  143.23\n",
       "2997         251.0    54487.0    3413.227  62.64  0.461%   13.60\n",
       "3358         204.0   289982.0   24517.382  84.55   0.07%  120.18\n",
       "3386         358.0   498554.0   38341.028  76.90  0.072%  107.10\n",
       "3427         323.0   439787.0   33297.891  75.71  0.073%  103.09\n",
       "3476         173.0   342243.0   26328.601  76.93  0.051%  152.19\n",
       "Total       1986.0  2664159.0  208193.312  78.15  0.075%  104.83"
      ]
     },
     "execution_count": 552,
     "metadata": {},
     "output_type": "execute_result"
    }
   ],
   "source": [
    "evaluate_result(df_train_original)\n",
    "# .to_csv('train_stats')"
   ]
  },
  {
   "cell_type": "code",
   "execution_count": 70,
   "metadata": {
    "collapsed": false
   },
   "outputs": [
    {
     "data": {
      "text/html": [
       "<div>\n",
       "<table border=\"1\" class=\"dataframe\">\n",
       "  <thead>\n",
       "    <tr style=\"text-align: right;\">\n",
       "      <th></th>\n",
       "      <th>click</th>\n",
       "      <th>Imps</th>\n",
       "      <th>cost</th>\n",
       "      <th>CPM</th>\n",
       "      <th>CTR</th>\n",
       "      <th>eCPC</th>\n",
       "    </tr>\n",
       "    <tr>\n",
       "      <th>advertiser</th>\n",
       "      <th></th>\n",
       "      <th></th>\n",
       "      <th></th>\n",
       "      <th></th>\n",
       "      <th></th>\n",
       "      <th></th>\n",
       "    </tr>\n",
       "  </thead>\n",
       "  <tbody>\n",
       "    <tr>\n",
       "      <th>1458</th>\n",
       "      <td>50</td>\n",
       "      <td>60025</td>\n",
       "      <td>4139</td>\n",
       "      <td>68.96</td>\n",
       "      <td>0.083%</td>\n",
       "      <td>82.78</td>\n",
       "    </tr>\n",
       "    <tr>\n",
       "      <th>2259</th>\n",
       "      <td>11</td>\n",
       "      <td>16419</td>\n",
       "      <td>1519</td>\n",
       "      <td>92.55</td>\n",
       "      <td>0.067%</td>\n",
       "      <td>138.15</td>\n",
       "    </tr>\n",
       "    <tr>\n",
       "      <th>2261</th>\n",
       "      <td>5</td>\n",
       "      <td>13370</td>\n",
       "      <td>1196</td>\n",
       "      <td>89.47</td>\n",
       "      <td>0.037%</td>\n",
       "      <td>239.25</td>\n",
       "    </tr>\n",
       "    <tr>\n",
       "      <th>2821</th>\n",
       "      <td>16</td>\n",
       "      <td>25632</td>\n",
       "      <td>2281</td>\n",
       "      <td>89.01</td>\n",
       "      <td>0.062%</td>\n",
       "      <td>142.59</td>\n",
       "    </tr>\n",
       "    <tr>\n",
       "      <th>2997</th>\n",
       "      <td>26</td>\n",
       "      <td>6034</td>\n",
       "      <td>387</td>\n",
       "      <td>64.20</td>\n",
       "      <td>0.431%</td>\n",
       "      <td>14.90</td>\n",
       "    </tr>\n",
       "    <tr>\n",
       "      <th>3358</th>\n",
       "      <td>27</td>\n",
       "      <td>33853</td>\n",
       "      <td>3125</td>\n",
       "      <td>92.34</td>\n",
       "      <td>0.08%</td>\n",
       "      <td>115.77</td>\n",
       "    </tr>\n",
       "    <tr>\n",
       "      <th>3386</th>\n",
       "      <td>33</td>\n",
       "      <td>55196</td>\n",
       "      <td>4255</td>\n",
       "      <td>77.10</td>\n",
       "      <td>0.06%</td>\n",
       "      <td>128.95</td>\n",
       "    </tr>\n",
       "    <tr>\n",
       "      <th>3427</th>\n",
       "      <td>45</td>\n",
       "      <td>50381</td>\n",
       "      <td>4077</td>\n",
       "      <td>80.93</td>\n",
       "      <td>0.089%</td>\n",
       "      <td>90.61</td>\n",
       "    </tr>\n",
       "    <tr>\n",
       "      <th>3476</th>\n",
       "      <td>13</td>\n",
       "      <td>38839</td>\n",
       "      <td>3062</td>\n",
       "      <td>78.85</td>\n",
       "      <td>0.033%</td>\n",
       "      <td>235.58</td>\n",
       "    </tr>\n",
       "    <tr>\n",
       "      <th>Total</th>\n",
       "      <td>226</td>\n",
       "      <td>299749</td>\n",
       "      <td>24045</td>\n",
       "      <td>80.22</td>\n",
       "      <td>0.075%</td>\n",
       "      <td>106.39</td>\n",
       "    </tr>\n",
       "  </tbody>\n",
       "</table>\n",
       "</div>"
      ],
      "text/plain": [
       "            click    Imps   cost    CPM     CTR    eCPC\n",
       "advertiser                                             \n",
       "1458           50   60025   4139  68.96  0.083%   82.78\n",
       "2259           11   16419   1519  92.55  0.067%  138.15\n",
       "2261            5   13370   1196  89.47  0.037%  239.25\n",
       "2821           16   25632   2281  89.01  0.062%  142.59\n",
       "2997           26    6034    387  64.20  0.431%   14.90\n",
       "3358           27   33853   3125  92.34   0.08%  115.77\n",
       "3386           33   55196   4255  77.10   0.06%  128.95\n",
       "3427           45   50381   4077  80.93  0.089%   90.61\n",
       "3476           13   38839   3062  78.85  0.033%  235.58\n",
       "Total         226  299749  24045  80.22  0.075%  106.39"
      ]
     },
     "execution_count": 70,
     "metadata": {},
     "output_type": "execute_result"
    }
   ],
   "source": [
    "evaluate_result(df_validation_original)\n",
    "# .to_csv('val_stats')"
   ]
  },
  {
   "cell_type": "markdown",
   "metadata": {},
   "source": [
    "# CTR Distribution against different features"
   ]
  },
  {
   "cell_type": "code",
   "execution_count": 35,
   "metadata": {
    "collapsed": true
   },
   "outputs": [],
   "source": [
    "def plot_ctr(advertiser1,advertiser2,category):\n",
    " \n",
    "    df_clicked1 = df_train_original.ix[(df_train_original['advertiser']==advertiser1)]\n",
    "\n",
    "    cost_weekday1 = df_clicked1.groupby(df_train_original[category])\n",
    "\n",
    "    dfeCPC1 = pd.DataFrame(cost_weekday1.sum().click/cost_weekday1.sum().logtype).rename(columns={0:advertiser1})\n",
    "    \n",
    "    df_clicked2 = df_train_original.ix[(df_train_original['advertiser']==advertiser2)]\n",
    "\n",
    "    cost_weekday2 = df_clicked2.groupby(df_train_original[category])\n",
    "\n",
    "    dfeCPC2 = pd.DataFrame(cost_weekday2.sum().click/cost_weekday2.sum().logtype).rename(columns={0:advertiser2})\n",
    "    plt.figure\n",
    "    pd.concat([dfeCPC1,dfeCPC2],axis=1).plot()\n",
    "    plt.ylabel('CTR')"
   ]
  },
  {
   "cell_type": "code",
   "execution_count": 91,
   "metadata": {
    "collapsed": false
   },
   "outputs": [
    {
     "data": {
      "image/png": "[encoded data removed]",
      "text/plain": [
       "<matplotlib.figure.Figure at 0x159d9e710>"
      ]
     },
     "metadata": {},
     "output_type": "display_data"
    },
    {
     "data": {
      "image/png": "[encoded data removed]",
      "text/plain": [
       "<matplotlib.figure.Figure at 0x15a315750>"
      ]
     },
     "metadata": {},
     "output_type": "display_data"
    },
    {
     "data": {
      "image/png": "[encoded data removed]",
      "text/plain": [
       "<matplotlib.figure.Figure at 0x159d9e290>"
      ]
     },
     "metadata": {},
     "output_type": "display_data"
    },
    {
     "data": {
      "image/png": "[encoded data removed]",
      "text/plain": [
       "<matplotlib.figure.Figure at 0x159d9ef10>"
      ]
     },
     "metadata": {},
     "output_type": "display_data"
    },
    {
     "data": {
      "image/png": "[encoded data removed]",
      "text/plain": [
       "<matplotlib.figure.Figure at 0x1576d0ad0>"
      ]
     },
     "metadata": {},
     "output_type": "display_data"
    },
    {
     "data": {
      "image/png": "[encoded data removed]",
      "text/plain": [
       "<matplotlib.figure.Figure at 0x1576d0b10>"
      ]
     },
     "metadata": {},
     "output_type": "display_data"
    }
   ],
   "source": [
    "plot_ctr(1458,3358,'adexchange')\n",
    "\n",
    "plot_ctr(1458,3358,'os')\n",
    "\n",
    "plot_ctr(1458,3358,'browser')\n",
    "\n",
    "plot_ctr(1458,3358,'hour')\n",
    "\n",
    "plot_ctr(1458,3358,'weekday')\n",
    "\n",
    "plot_ctr(1458,3358,'region')"
   ]
  },
  {
   "cell_type": "code",
   "execution_count": null,
   "metadata": {
    "collapsed": true
   },
   "outputs": [],
   "source": []
  },
  {
   "cell_type": "markdown",
   "metadata": {},
   "source": [
    "# payprice(market price) against different features"
   ]
  },
  {
   "cell_type": "code",
   "execution_count": 37,
   "metadata": {
    "collapsed": true
   },
   "outputs": [],
   "source": [
    "def plot_payprice(advertiser1,advertiser2,category):\n",
    " \n",
    "    df_clicked1 = df_train_original.ix[(df_train_original['advertiser']==advertiser1)]\n",
    "    \n",
    "    cost_weekday1 = df_clicked1['payprice'].groupby(df_train_original[category])\n",
    "\n",
    "    dfeCPC1 = pd.DataFrame(cost_weekday1.mean()).rename(columns={'payprice':advertiser1})\n",
    "    \n",
    "    df_clicked2 = df_train_original.ix[(df_train_original['advertiser']==advertiser2)]\n",
    "\n",
    "    cost_weekday2 = df_clicked2['payprice'].groupby(df_train_original[category])\n",
    "\n",
    "    dfeCPC2 = pd.DataFrame(cost_weekday2.mean()).rename(columns={'payprice':advertiser2})\n",
    "    \n",
    "    plt.figure\n",
    "    pd.concat([dfeCPC1,dfeCPC2],axis=1).plot()\n",
    "    plt.ylabel('Price')"
   ]
  },
  {
   "cell_type": "code",
   "execution_count": 90,
   "metadata": {
    "collapsed": false
   },
   "outputs": [
    {
     "data": {
      "image/png": "[encoded data removed]",
      "text/plain": [
       "<matplotlib.figure.Figure at 0x157dd4dd0>"
      ]
     },
     "metadata": {},
     "output_type": "display_data"
    },
    {
     "data": {
      "image/png": "[encoded data removed]",
      "text/plain": [
       "<matplotlib.figure.Figure at 0x15904a990>"
      ]
     },
     "metadata": {},
     "output_type": "display_data"
    },
    {
     "data": {
      "image/png": "[encoded data removed]",
      "text/plain": [
       "<matplotlib.figure.Figure at 0x1576edc10>"
      ]
     },
     "metadata": {},
     "output_type": "display_data"
    },
    {
     "data": {
      "image/png": "[encoded data removed]",
      "text/plain": [
       "<matplotlib.figure.Figure at 0x158453e90>"
      ]
     },
     "metadata": {},
     "output_type": "display_data"
    },
    {
     "data": {
      "image/png": "[encoded data removed]",
      "text/plain": [
       "<matplotlib.figure.Figure at 0x158498c10>"
      ]
     },
     "metadata": {},
     "output_type": "display_data"
    },
    {
     "data": {
      "image/png": "[encoded data removed]",
      "text/plain": [
       "<matplotlib.figure.Figure at 0x158114950>"
      ]
     },
     "metadata": {},
     "output_type": "display_data"
    }
   ],
   "source": [
    "plot_payprice(1458,3358,'adexchange')\n",
    "\n",
    "plot_payprice(1458,3358,'os')\n",
    "\n",
    "plot_payprice(1458,3358,'weekday')\n",
    "\n",
    "plot_payprice(1458,3358,'hour')\n",
    "\n",
    "plot_payprice(1458,3358,'browser')\n",
    "\n",
    "plot_payprice(1458,3358,'region')"
   ]
  },
  {
   "cell_type": "markdown",
   "metadata": {},
   "source": [
    "# eCPC against different features"
   ]
  },
  {
   "cell_type": "code",
   "execution_count": 77,
   "metadata": {
    "collapsed": true
   },
   "outputs": [],
   "source": [
    "def calc_eCPC(advertiser,category):\n",
    "    df_clicked = df_train_original.ix[(df_train_original['click']==1)]\n",
    "\n",
    "    cost_weekday = df_train_original['payprice'].groupby(df_train_original[category])\n",
    "    click_weekday = df_clicked['click'].groupby(df_train_original[category])\n",
    "\n",
    "    dfeCPC = pd.DataFrame((cost_weekday.sum()/click_weekday.sum())/1000).rename(columns={0:'eCPC'})\n",
    "    \n",
    "    plt.figure\n",
    "    dfeCPC.plot.bar(legend=False)\n",
    "    plt.ylabel('eCPC')"
   ]
  },
  {
   "cell_type": "code",
   "execution_count": 78,
   "metadata": {
    "collapsed": false
   },
   "outputs": [
    {
     "data": {
      "image/png": "[encoded data removed]",
      "text/plain": [
       "<matplotlib.figure.Figure at 0x10fbed3d0>"
      ]
     },
     "metadata": {},
     "output_type": "display_data"
    },
    {
     "data": {
      "image/png": "[encoded data removed]",
      "text/plain": [
       "<matplotlib.figure.Figure at 0x1563c0890>"
      ]
     },
     "metadata": {},
     "output_type": "display_data"
    },
    {
     "data": {
      "image/png": "[encoded data removed]",
      "text/plain": [
       "<matplotlib.figure.Figure at 0x1563c0910>"
      ]
     },
     "metadata": {},
     "output_type": "display_data"
    },
    {
     "data": {
      "image/png": "[encoded data removed]",
      "text/plain": [
       "<matplotlib.figure.Figure at 0x1563c0b50>"
      ]
     },
     "metadata": {},
     "output_type": "display_data"
    },
    {
     "data": {
      "image/png": "[encoded data removed]",
      "text/plain": [
       "<matplotlib.figure.Figure at 0x1563c0990>"
      ]
     },
     "metadata": {},
     "output_type": "display_data"
    },
    {
     "data": {
      "image/png": "[encoded data removed]",
      "text/plain": [
       "<matplotlib.figure.Figure at 0x1583aac10>"
      ]
     },
     "metadata": {},
     "output_type": "display_data"
    }
   ],
   "source": [
    "calc_eCPC(3358,'adexchange')\n",
    "\n",
    "calc_eCPC(3358,'os')\n",
    "\n",
    "calc_eCPC(3358,'weekday')\n",
    "\n",
    "calc_eCPC(3358,'hour')\n",
    "\n",
    "calc_eCPC(3358,'browser')\n",
    "\n",
    "calc_eCPC(3358,'region')"
   ]
  },
  {
   "cell_type": "code",
   "execution_count": null,
   "metadata": {
    "collapsed": true
   },
   "outputs": [],
   "source": []
  },
  {
   "cell_type": "markdown",
   "metadata": {
    "collapsed": true
   },
   "source": [
    "# Bidding Strategy"
   ]
  },
  {
   "cell_type": "markdown",
   "metadata": {},
   "source": [
    "## Constant strategy"
   ]
  },
  {
   "cell_type": "code",
   "execution_count": 577,
   "metadata": {
    "collapsed": true
   },
   "outputs": [],
   "source": [
    "def constant_bidding(constant):\n",
    "    ad_go_through = -1\n",
    "    impression = 0.0\n",
    "    clicks = 0\n",
    "    cost = 0.0\n",
    "    budget = 25000000\n",
    "    \n",
    "    budget = budget / 4\n",
    "    \n",
    "    for click, pay_price in df_validation_original[['click','payprice']].values:\n",
    "        ad_go_through += 1\n",
    "        if constant > pay_price:\n",
    "            impression += 1.0\n",
    "            clicks += click\n",
    "            cost += pay_price\n",
    "        if cost >= budget:\n",
    "            break\n",
    "    return impression, clicks, cost, ad_go_through"
   ]
  },
  {
   "cell_type": "code",
   "execution_count": 564,
   "metadata": {
    "collapsed": true
   },
   "outputs": [],
   "source": [
    "const = pd.DataFrame()\n",
    "const['constants'] = np.arange(0,302,2)\n",
    "\n",
    "im = []\n",
    "clks = []\n",
    "ct = []\n",
    "agt = []\n",
    "for con in const['constants']:\n",
    "    [imps, clicks, cost,ad_go_through] = constant_bidding(con)\n",
    "    im.append(imps)\n",
    "    clks.append(clicks)\n",
    "    ct.append(cost)\n",
    "    agt.append(ad_go_through)"
   ]
  },
  {
   "cell_type": "code",
   "execution_count": 565,
   "metadata": {
    "collapsed": false
   },
   "outputs": [],
   "source": [
    "const['imps_won'] = im\n",
    "const['total_spend'] = ct\n",
    "# const['cost'] = cc\n",
    "const['clicks'] = clks\n",
    "const['ad_go_through'] = agt\n",
    "const['CTR'] = const['clicks']/const['imps_won']\n",
    "const['eCPC'] = (const['total_spend']/const['clicks'])/1000\n",
    "const['CPM'] =  const['total_spend']/const['imps_won']\n",
    "const = const.set_index('constants')"
   ]
  },
  {
   "cell_type": "code",
   "execution_count": 566,
   "metadata": {
    "collapsed": true
   },
   "outputs": [],
   "source": [
    "def eva_plot(dataframe, xlabel):\n",
    "    pic = plt.figure(figsize=(11,11))\n",
    "    pic1 =pic.add_subplot(2,2,1)\n",
    "    dataframe['clicks'].plot()\n",
    "    plt.ylabel('Clicks')\n",
    "    plt.xlabel(xlabel)\n",
    "\n",
    "    pic2 =pic.add_subplot(2,2,2)\n",
    "    dataframe['CTR'].plot()\n",
    "    plt.ylabel('CTR')\n",
    "    plt.xlabel(xlabel)\n",
    "\n",
    "    pic3 =pic.add_subplot(2,2,3)\n",
    "    dataframe['eCPC'].plot()\n",
    "    plt.ylabel('eCPC')\n",
    "    plt.xlabel(xlabel)\n",
    "\n",
    "    pic4 =pic.add_subplot(2,2,4)\n",
    "    dataframe['CPM'].plot()\n",
    "    plt.ylabel('CPM')\n",
    "    plt.xlabel(xlabel)"
   ]
  },
  {
   "cell_type": "code",
   "execution_count": 567,
   "metadata": {
    "collapsed": false
   },
   "outputs": [
    {
     "data": {
      "image/png": "[encoded data removed]",
      "text/plain": [
       "<matplotlib.figure.Figure at 0x1d2e73350>"
      ]
     },
     "metadata": {},
     "output_type": "display_data"
    }
   ],
   "source": [
    "eva_plot(const,'Constant Bid')"
   ]
  },
  {
   "cell_type": "code",
   "execution_count": 568,
   "metadata": {
    "collapsed": false
   },
   "outputs": [
    {
     "data": {
      "text/html": [
       "<div>\n",
       "<table border=\"1\" class=\"dataframe\">\n",
       "  <thead>\n",
       "    <tr style=\"text-align: right;\">\n",
       "      <th></th>\n",
       "      <th>imps_won</th>\n",
       "      <th>total_spend</th>\n",
       "      <th>clicks</th>\n",
       "      <th>ad_go_through</th>\n",
       "      <th>CTR</th>\n",
       "      <th>eCPC</th>\n",
       "      <th>CPM</th>\n",
       "    </tr>\n",
       "    <tr>\n",
       "      <th>constants</th>\n",
       "      <th></th>\n",
       "      <th></th>\n",
       "      <th></th>\n",
       "      <th></th>\n",
       "      <th></th>\n",
       "      <th></th>\n",
       "      <th></th>\n",
       "    </tr>\n",
       "  </thead>\n",
       "  <tbody>\n",
       "    <tr>\n",
       "      <th>152</th>\n",
       "      <td>105117.0</td>\n",
       "      <td>6250019.0</td>\n",
       "      <td>85</td>\n",
       "      <td>122454</td>\n",
       "      <td>0.000809</td>\n",
       "      <td>73.529635</td>\n",
       "      <td>59.457738</td>\n",
       "    </tr>\n",
       "    <tr>\n",
       "      <th>156</th>\n",
       "      <td>104179.0</td>\n",
       "      <td>6250027.0</td>\n",
       "      <td>85</td>\n",
       "      <td>120674</td>\n",
       "      <td>0.000816</td>\n",
       "      <td>73.529729</td>\n",
       "      <td>59.993156</td>\n",
       "    </tr>\n",
       "    <tr>\n",
       "      <th>158</th>\n",
       "      <td>103566.0</td>\n",
       "      <td>6250026.0</td>\n",
       "      <td>85</td>\n",
       "      <td>119533</td>\n",
       "      <td>0.000821</td>\n",
       "      <td>73.529718</td>\n",
       "      <td>60.348242</td>\n",
       "    </tr>\n",
       "  </tbody>\n",
       "</table>\n",
       "</div>"
      ],
      "text/plain": [
       "           imps_won  total_spend  clicks  ad_go_through       CTR       eCPC  \\\n",
       "constants                                                                      \n",
       "152        105117.0    6250019.0      85         122454  0.000809  73.529635   \n",
       "156        104179.0    6250027.0      85         120674  0.000816  73.529729   \n",
       "158        103566.0    6250026.0      85         119533  0.000821  73.529718   \n",
       "\n",
       "                 CPM  \n",
       "constants             \n",
       "152        59.457738  \n",
       "156        59.993156  \n",
       "158        60.348242  "
      ]
     },
     "execution_count": 568,
     "metadata": {},
     "output_type": "execute_result"
    }
   ],
   "source": [
    "const.ix[(const['clicks']==const['clicks'].max())]"
   ]
  },
  {
   "cell_type": "code",
   "execution_count": 569,
   "metadata": {
    "collapsed": false
   },
   "outputs": [
    {
     "data": {
      "text/html": [
       "<div>\n",
       "<table border=\"1\" class=\"dataframe\">\n",
       "  <thead>\n",
       "    <tr style=\"text-align: right;\">\n",
       "      <th></th>\n",
       "      <th>imps_won</th>\n",
       "      <th>total_spend</th>\n",
       "      <th>clicks</th>\n",
       "      <th>ad_go_through</th>\n",
       "      <th>CTR</th>\n",
       "      <th>eCPC</th>\n",
       "      <th>CPM</th>\n",
       "    </tr>\n",
       "    <tr>\n",
       "      <th>constants</th>\n",
       "      <th></th>\n",
       "      <th></th>\n",
       "      <th></th>\n",
       "      <th></th>\n",
       "      <th></th>\n",
       "      <th></th>\n",
       "      <th></th>\n",
       "    </tr>\n",
       "  </thead>\n",
       "  <tbody>\n",
       "    <tr>\n",
       "      <th>298</th>\n",
       "      <td>78228.0</td>\n",
       "      <td>6250065.0</td>\n",
       "      <td>70</td>\n",
       "      <td>78286</td>\n",
       "      <td>0.000895</td>\n",
       "      <td>89.286643</td>\n",
       "      <td>79.895498</td>\n",
       "    </tr>\n",
       "  </tbody>\n",
       "</table>\n",
       "</div>"
      ],
      "text/plain": [
       "           imps_won  total_spend  clicks  ad_go_through       CTR       eCPC  \\\n",
       "constants                                                                      \n",
       "298         78228.0    6250065.0      70          78286  0.000895  89.286643   \n",
       "\n",
       "                 CPM  \n",
       "constants             \n",
       "298        79.895498  "
      ]
     },
     "execution_count": 569,
     "metadata": {},
     "output_type": "execute_result"
    }
   ],
   "source": [
    "const.ix[(const['CTR']==const['CTR'].max())]"
   ]
  },
  {
   "cell_type": "code",
   "execution_count": 571,
   "metadata": {
    "collapsed": false
   },
   "outputs": [],
   "source": [
    "df_val_const = df_validation_original.copy()"
   ]
  },
  {
   "cell_type": "code",
   "execution_count": 618,
   "metadata": {
    "collapsed": false
   },
   "outputs": [],
   "source": [
    "df_val_const['bidprice'] = 88"
   ]
  },
  {
   "cell_type": "code",
   "execution_count": 619,
   "metadata": {
    "collapsed": false
   },
   "outputs": [
    {
     "data": {
      "text/html": [
       "<div>\n",
       "<table border=\"1\" class=\"dataframe\">\n",
       "  <thead>\n",
       "    <tr style=\"text-align: right;\">\n",
       "      <th></th>\n",
       "      <th>click</th>\n",
       "      <th>Imps</th>\n",
       "      <th>cost</th>\n",
       "      <th>CPM</th>\n",
       "      <th>CTR</th>\n",
       "      <th>eCPC</th>\n",
       "    </tr>\n",
       "    <tr>\n",
       "      <th>advertiser</th>\n",
       "      <th></th>\n",
       "      <th></th>\n",
       "      <th></th>\n",
       "      <th></th>\n",
       "      <th></th>\n",
       "      <th></th>\n",
       "    </tr>\n",
       "  </thead>\n",
       "  <tbody>\n",
       "    <tr>\n",
       "      <th>1458</th>\n",
       "      <td>14.0</td>\n",
       "      <td>15797.0</td>\n",
       "      <td>762.518</td>\n",
       "      <td>48.27</td>\n",
       "      <td>0.089%</td>\n",
       "      <td>54.47</td>\n",
       "    </tr>\n",
       "    <tr>\n",
       "      <th>2259</th>\n",
       "      <td>1.0</td>\n",
       "      <td>3133.0</td>\n",
       "      <td>122.636</td>\n",
       "      <td>39.14</td>\n",
       "      <td>0.032%</td>\n",
       "      <td>122.64</td>\n",
       "    </tr>\n",
       "    <tr>\n",
       "      <th>2261</th>\n",
       "      <td>2.0</td>\n",
       "      <td>2560.0</td>\n",
       "      <td>91.288</td>\n",
       "      <td>35.66</td>\n",
       "      <td>0.078%</td>\n",
       "      <td>45.64</td>\n",
       "    </tr>\n",
       "    <tr>\n",
       "      <th>2821</th>\n",
       "      <td>2.0</td>\n",
       "      <td>5026.0</td>\n",
       "      <td>191.034</td>\n",
       "      <td>38.01</td>\n",
       "      <td>0.04%</td>\n",
       "      <td>95.52</td>\n",
       "    </tr>\n",
       "    <tr>\n",
       "      <th>2997</th>\n",
       "      <td>4.0</td>\n",
       "      <td>1463.0</td>\n",
       "      <td>47.923</td>\n",
       "      <td>32.76</td>\n",
       "      <td>0.273%</td>\n",
       "      <td>11.98</td>\n",
       "    </tr>\n",
       "    <tr>\n",
       "      <th>3358</th>\n",
       "      <td>3.0</td>\n",
       "      <td>6213.0</td>\n",
       "      <td>298.679</td>\n",
       "      <td>48.07</td>\n",
       "      <td>0.048%</td>\n",
       "      <td>99.56</td>\n",
       "    </tr>\n",
       "    <tr>\n",
       "      <th>3386</th>\n",
       "      <td>7.0</td>\n",
       "      <td>13497.0</td>\n",
       "      <td>641.234</td>\n",
       "      <td>47.51</td>\n",
       "      <td>0.052%</td>\n",
       "      <td>91.60</td>\n",
       "    </tr>\n",
       "    <tr>\n",
       "      <th>3427</th>\n",
       "      <td>12.0</td>\n",
       "      <td>10531.0</td>\n",
       "      <td>506.942</td>\n",
       "      <td>48.14</td>\n",
       "      <td>0.114%</td>\n",
       "      <td>42.25</td>\n",
       "    </tr>\n",
       "    <tr>\n",
       "      <th>3476</th>\n",
       "      <td>9.0</td>\n",
       "      <td>9265.0</td>\n",
       "      <td>462.691</td>\n",
       "      <td>49.94</td>\n",
       "      <td>0.097%</td>\n",
       "      <td>51.41</td>\n",
       "    </tr>\n",
       "    <tr>\n",
       "      <th>Total</th>\n",
       "      <td>54.0</td>\n",
       "      <td>67485.0</td>\n",
       "      <td>3124.945</td>\n",
       "      <td>46.31</td>\n",
       "      <td>0.08%</td>\n",
       "      <td>57.87</td>\n",
       "    </tr>\n",
       "  </tbody>\n",
       "</table>\n",
       "</div>"
      ],
      "text/plain": [
       "            click     Imps      cost    CPM     CTR    eCPC\n",
       "advertiser                                                 \n",
       "1458         14.0  15797.0   762.518  48.27  0.089%   54.47\n",
       "2259          1.0   3133.0   122.636  39.14  0.032%  122.64\n",
       "2261          2.0   2560.0    91.288  35.66  0.078%   45.64\n",
       "2821          2.0   5026.0   191.034  38.01   0.04%   95.52\n",
       "2997          4.0   1463.0    47.923  32.76  0.273%   11.98\n",
       "3358          3.0   6213.0   298.679  48.07  0.048%   99.56\n",
       "3386          7.0  13497.0   641.234  47.51  0.052%   91.60\n",
       "3427         12.0  10531.0   506.942  48.14  0.114%   42.25\n",
       "3476          9.0   9265.0   462.691  49.94  0.097%   51.41\n",
       "Total        54.0  67485.0  3124.945  46.31   0.08%   57.87"
      ]
     },
     "execution_count": 619,
     "metadata": {},
     "output_type": "execute_result"
    }
   ],
   "source": [
    "evaluate_result(df_val_const[:97549])"
   ]
  },
  {
   "cell_type": "markdown",
   "metadata": {},
   "source": [
    "## Random Strategy"
   ]
  },
  {
   "cell_type": "code",
   "execution_count": 443,
   "metadata": {
    "collapsed": false
   },
   "outputs": [],
   "source": [
    "from random import randrange\n",
    "def random_bidding(upperbound):\n",
    "    ad_go_through = -1\n",
    "    impression = 0.0\n",
    "    clicks = 0\n",
    "    cost = 0.0\n",
    "#     click_cost = 0.0\n",
    "    budget = 25000 * 1000\n",
    "    \n",
    "    budget = budget / 4\n",
    "    \n",
    "    for click, pay_price in df_validation_original[['click','payprice']].values:\n",
    "        bidprice = randrange(0,upperbound)\n",
    "        ad_go_through += 1\n",
    "        if bidprice > pay_price:\n",
    "            impression += 1.0\n",
    "            clicks += click\n",
    "            cost += pay_price\n",
    "        if cost >= budget:\n",
    "            break\n",
    "    return impression, clicks, cost, ad_go_through"
   ]
  },
  {
   "cell_type": "code",
   "execution_count": 444,
   "metadata": {
    "collapsed": true
   },
   "outputs": [],
   "source": [
    "random = pd.DataFrame()\n",
    "random['upperbound'] = np.arange(2,302,2)\n",
    "\n",
    "im = []\n",
    "clks = []\n",
    "ct = []\n",
    "agt = []\n",
    "# cc = []\n",
    "for rand in random['upperbound']:\n",
    "    [imps, clicks, cost, ad_go_through] = random_bidding(rand)\n",
    "    im.append(imps)\n",
    "    clks.append(clicks)\n",
    "    ct.append(cost)\n",
    "#     cc.append(click_cost)\n",
    "    agt.append(ad_go_through)"
   ]
  },
  {
   "cell_type": "code",
   "execution_count": 445,
   "metadata": {
    "collapsed": false
   },
   "outputs": [],
   "source": [
    "random['imps_won'] = im\n",
    "random['total_spend'] = ct\n",
    "# random['cost'] = cc\n",
    "random['clicks'] = clks\n",
    "random['ad_go_through'] = agt\n",
    "random['CTR'] = random['clicks']/random['imps_won']\n",
    "random['eCPC'] = (random['total_spend']/random['clicks'])/1000\n",
    "random['CPM'] = random['total_spend']/random['imps_won']\n",
    "random = random.set_index('upperbound')"
   ]
  },
  {
   "cell_type": "code",
   "execution_count": 446,
   "metadata": {
    "collapsed": false
   },
   "outputs": [
    {
     "data": {
      "image/png": "[encoded data removed]",
      "text/plain": [
       "<matplotlib.figure.Figure at 0x18c671490>"
      ]
     },
     "metadata": {},
     "output_type": "display_data"
    }
   ],
   "source": [
    "eva_plot(random,'Upperbound')"
   ]
  },
  {
   "cell_type": "code",
   "execution_count": 447,
   "metadata": {
    "collapsed": false
   },
   "outputs": [
    {
     "data": {
      "text/html": [
       "<div>\n",
       "<table border=\"1\" class=\"dataframe\">\n",
       "  <thead>\n",
       "    <tr style=\"text-align: right;\">\n",
       "      <th></th>\n",
       "      <th>imps_won</th>\n",
       "      <th>total_spend</th>\n",
       "      <th>clicks</th>\n",
       "      <th>ad_go_through</th>\n",
       "      <th>CTR</th>\n",
       "      <th>eCPC</th>\n",
       "      <th>CPM</th>\n",
       "    </tr>\n",
       "    <tr>\n",
       "      <th>upperbound</th>\n",
       "      <th></th>\n",
       "      <th></th>\n",
       "      <th></th>\n",
       "      <th></th>\n",
       "      <th></th>\n",
       "      <th></th>\n",
       "      <th></th>\n",
       "    </tr>\n",
       "  </thead>\n",
       "  <tbody>\n",
       "    <tr>\n",
       "      <th>232</th>\n",
       "      <td>112058.0</td>\n",
       "      <td>6250029.0</td>\n",
       "      <td>90</td>\n",
       "      <td>171705</td>\n",
       "      <td>0.000803</td>\n",
       "      <td>69.444767</td>\n",
       "      <td>55.774947</td>\n",
       "    </tr>\n",
       "  </tbody>\n",
       "</table>\n",
       "</div>"
      ],
      "text/plain": [
       "            imps_won  total_spend  clicks  ad_go_through       CTR       eCPC  \\\n",
       "upperbound                                                                      \n",
       "232         112058.0    6250029.0      90         171705  0.000803  69.444767   \n",
       "\n",
       "                  CPM  \n",
       "upperbound             \n",
       "232         55.774947  "
      ]
     },
     "execution_count": 447,
     "metadata": {},
     "output_type": "execute_result"
    }
   ],
   "source": [
    "random.ix[(random['clicks']==random['clicks'].max())]"
   ]
  },
  {
   "cell_type": "code",
   "execution_count": 448,
   "metadata": {
    "collapsed": false
   },
   "outputs": [
    {
     "data": {
      "text/html": [
       "<div>\n",
       "<table border=\"1\" class=\"dataframe\">\n",
       "  <thead>\n",
       "    <tr style=\"text-align: right;\">\n",
       "      <th></th>\n",
       "      <th>imps_won</th>\n",
       "      <th>total_spend</th>\n",
       "      <th>clicks</th>\n",
       "      <th>ad_go_through</th>\n",
       "      <th>CTR</th>\n",
       "      <th>eCPC</th>\n",
       "      <th>CPM</th>\n",
       "    </tr>\n",
       "    <tr>\n",
       "      <th>upperbound</th>\n",
       "      <th></th>\n",
       "      <th></th>\n",
       "      <th></th>\n",
       "      <th></th>\n",
       "      <th></th>\n",
       "      <th></th>\n",
       "      <th></th>\n",
       "    </tr>\n",
       "  </thead>\n",
       "  <tbody>\n",
       "    <tr>\n",
       "      <th>232</th>\n",
       "      <td>112058.0</td>\n",
       "      <td>6250029.0</td>\n",
       "      <td>90</td>\n",
       "      <td>171705</td>\n",
       "      <td>0.000803</td>\n",
       "      <td>69.444767</td>\n",
       "      <td>55.774947</td>\n",
       "    </tr>\n",
       "  </tbody>\n",
       "</table>\n",
       "</div>"
      ],
      "text/plain": [
       "            imps_won  total_spend  clicks  ad_go_through       CTR       eCPC  \\\n",
       "upperbound                                                                      \n",
       "232         112058.0    6250029.0      90         171705  0.000803  69.444767   \n",
       "\n",
       "                  CPM  \n",
       "upperbound             \n",
       "232         55.774947  "
      ]
     },
     "execution_count": 448,
     "metadata": {},
     "output_type": "execute_result"
    }
   ],
   "source": [
    "random.ix[(random['CTR']==random['CTR'][:].max())]"
   ]
  },
  {
   "cell_type": "code",
   "execution_count": 331,
   "metadata": {
    "collapsed": true
   },
   "outputs": [],
   "source": [
    "df_val_rand = df_validation_original.copy()"
   ]
  },
  {
   "cell_type": "code",
   "execution_count": 633,
   "metadata": {
    "collapsed": false
   },
   "outputs": [],
   "source": [
    "random_list = [randrange(0,168) for i in range(len(df_validation_original))]"
   ]
  },
  {
   "cell_type": "code",
   "execution_count": 634,
   "metadata": {
    "collapsed": false
   },
   "outputs": [],
   "source": [
    "df_val_rand['bidprice'] = random_list"
   ]
  },
  {
   "cell_type": "code",
   "execution_count": 635,
   "metadata": {
    "collapsed": false
   },
   "outputs": [
    {
     "data": {
      "text/html": [
       "<div>\n",
       "<table border=\"1\" class=\"dataframe\">\n",
       "  <thead>\n",
       "    <tr style=\"text-align: right;\">\n",
       "      <th></th>\n",
       "      <th>click</th>\n",
       "      <th>Imps</th>\n",
       "      <th>cost</th>\n",
       "      <th>CPM</th>\n",
       "      <th>CTR</th>\n",
       "      <th>eCPC</th>\n",
       "    </tr>\n",
       "    <tr>\n",
       "      <th>advertiser</th>\n",
       "      <th></th>\n",
       "      <th></th>\n",
       "      <th></th>\n",
       "      <th></th>\n",
       "      <th></th>\n",
       "      <th></th>\n",
       "    </tr>\n",
       "  </thead>\n",
       "  <tbody>\n",
       "    <tr>\n",
       "      <th>1458</th>\n",
       "      <td>12.0</td>\n",
       "      <td>14268.0</td>\n",
       "      <td>671.188</td>\n",
       "      <td>47.04</td>\n",
       "      <td>0.084%</td>\n",
       "      <td>55.93</td>\n",
       "    </tr>\n",
       "    <tr>\n",
       "      <th>2259</th>\n",
       "      <td>3.0</td>\n",
       "      <td>3183.0</td>\n",
       "      <td>135.538</td>\n",
       "      <td>42.58</td>\n",
       "      <td>0.094%</td>\n",
       "      <td>45.18</td>\n",
       "    </tr>\n",
       "    <tr>\n",
       "      <th>2261</th>\n",
       "      <td>2.0</td>\n",
       "      <td>2663.0</td>\n",
       "      <td>101.852</td>\n",
       "      <td>38.25</td>\n",
       "      <td>0.075%</td>\n",
       "      <td>50.93</td>\n",
       "    </tr>\n",
       "    <tr>\n",
       "      <th>2821</th>\n",
       "      <td>2.0</td>\n",
       "      <td>5257.0</td>\n",
       "      <td>218.044</td>\n",
       "      <td>41.48</td>\n",
       "      <td>0.038%</td>\n",
       "      <td>109.02</td>\n",
       "    </tr>\n",
       "    <tr>\n",
       "      <th>2997</th>\n",
       "      <td>3.0</td>\n",
       "      <td>1553.0</td>\n",
       "      <td>54.516</td>\n",
       "      <td>35.10</td>\n",
       "      <td>0.193%</td>\n",
       "      <td>18.17</td>\n",
       "    </tr>\n",
       "    <tr>\n",
       "      <th>3358</th>\n",
       "      <td>2.0</td>\n",
       "      <td>6478.0</td>\n",
       "      <td>351.836</td>\n",
       "      <td>54.31</td>\n",
       "      <td>0.031%</td>\n",
       "      <td>175.92</td>\n",
       "    </tr>\n",
       "    <tr>\n",
       "      <th>3386</th>\n",
       "      <td>5.0</td>\n",
       "      <td>12699.0</td>\n",
       "      <td>602.711</td>\n",
       "      <td>47.46</td>\n",
       "      <td>0.039%</td>\n",
       "      <td>120.54</td>\n",
       "    </tr>\n",
       "    <tr>\n",
       "      <th>3427</th>\n",
       "      <td>12.0</td>\n",
       "      <td>10699.0</td>\n",
       "      <td>557.616</td>\n",
       "      <td>52.12</td>\n",
       "      <td>0.112%</td>\n",
       "      <td>46.47</td>\n",
       "    </tr>\n",
       "    <tr>\n",
       "      <th>3476</th>\n",
       "      <td>6.0</td>\n",
       "      <td>8504.0</td>\n",
       "      <td>423.006</td>\n",
       "      <td>49.74</td>\n",
       "      <td>0.071%</td>\n",
       "      <td>70.50</td>\n",
       "    </tr>\n",
       "    <tr>\n",
       "      <th>Total</th>\n",
       "      <td>47.0</td>\n",
       "      <td>65304.0</td>\n",
       "      <td>3116.307</td>\n",
       "      <td>47.72</td>\n",
       "      <td>0.072%</td>\n",
       "      <td>66.30</td>\n",
       "    </tr>\n",
       "  </tbody>\n",
       "</table>\n",
       "</div>"
      ],
      "text/plain": [
       "            click     Imps      cost    CPM     CTR    eCPC\n",
       "advertiser                                                 \n",
       "1458         12.0  14268.0   671.188  47.04  0.084%   55.93\n",
       "2259          3.0   3183.0   135.538  42.58  0.094%   45.18\n",
       "2261          2.0   2663.0   101.852  38.25  0.075%   50.93\n",
       "2821          2.0   5257.0   218.044  41.48  0.038%  109.02\n",
       "2997          3.0   1553.0    54.516  35.10  0.193%   18.17\n",
       "3358          2.0   6478.0   351.836  54.31  0.031%  175.92\n",
       "3386          5.0  12699.0   602.711  47.46  0.039%  120.54\n",
       "3427         12.0  10699.0   557.616  52.12  0.112%   46.47\n",
       "3476          6.0   8504.0   423.006  49.74  0.071%   70.50\n",
       "Total        47.0  65304.0  3116.307  47.72  0.072%   66.30"
      ]
     },
     "execution_count": 635,
     "metadata": {},
     "output_type": "execute_result"
    }
   ],
   "source": [
    "evaluate_result(df_val_rand[:118568])"
   ]
  },
  {
   "cell_type": "markdown",
   "metadata": {
    "collapsed": true
   },
   "source": [
    "## Linear strategy"
   ]
  },
  {
   "cell_type": "code",
   "execution_count": 661,
   "metadata": {
    "collapsed": false
   },
   "outputs": [],
   "source": [
    "# group_t =df_train_original.groupby('advertiser').sum()"
   ]
  },
  {
   "cell_type": "code",
   "execution_count": 662,
   "metadata": {
    "collapsed": false
   },
   "outputs": [],
   "source": [
    "# group_t['1/eCPC'] = group_t['click']/group_t['payprice']"
   ]
  },
  {
   "cell_type": "code",
   "execution_count": 660,
   "metadata": {
    "collapsed": false
   },
   "outputs": [
    {
     "data": {
      "text/html": [
       "<div>\n",
       "<table border=\"1\" class=\"dataframe\">\n",
       "  <thead>\n",
       "    <tr style=\"text-align: right;\">\n",
       "      <th></th>\n",
       "      <th>click</th>\n",
       "      <th>weekday</th>\n",
       "      <th>hour</th>\n",
       "      <th>logtype</th>\n",
       "      <th>region</th>\n",
       "      <th>city</th>\n",
       "      <th>slotwidth</th>\n",
       "      <th>slotheight</th>\n",
       "      <th>slotprice</th>\n",
       "      <th>bidprice</th>\n",
       "      <th>payprice</th>\n",
       "      <th>1/eCPC</th>\n",
       "      <th>portion</th>\n",
       "    </tr>\n",
       "    <tr>\n",
       "      <th>advertiser</th>\n",
       "      <th></th>\n",
       "      <th></th>\n",
       "      <th></th>\n",
       "      <th></th>\n",
       "      <th></th>\n",
       "      <th></th>\n",
       "      <th></th>\n",
       "      <th></th>\n",
       "      <th></th>\n",
       "      <th></th>\n",
       "      <th></th>\n",
       "      <th></th>\n",
       "      <th></th>\n",
       "    </tr>\n",
       "  </thead>\n",
       "  <tbody>\n",
       "    <tr>\n",
       "      <th>1458</th>\n",
       "      <td>451</td>\n",
       "      <td>1619852</td>\n",
       "      <td>7590685</td>\n",
       "      <td>540293</td>\n",
       "      <td>77974781</td>\n",
       "      <td>80684945</td>\n",
       "      <td>322379786</td>\n",
       "      <td>110521980</td>\n",
       "      <td>15271374</td>\n",
       "      <td>162087900</td>\n",
       "      <td>37231239</td>\n",
       "      <td>0.000012</td>\n",
       "      <td>0.091370</td>\n",
       "    </tr>\n",
       "    <tr>\n",
       "      <th>2259</th>\n",
       "      <td>45</td>\n",
       "      <td>455924</td>\n",
       "      <td>1540185</td>\n",
       "      <td>146778</td>\n",
       "      <td>31704048</td>\n",
       "      <td>32707361</td>\n",
       "      <td>74279068</td>\n",
       "      <td>28250370</td>\n",
       "      <td>3615396</td>\n",
       "      <td>42288044</td>\n",
       "      <td>13649026</td>\n",
       "      <td>0.000003</td>\n",
       "      <td>0.024868</td>\n",
       "    </tr>\n",
       "    <tr>\n",
       "      <th>2261</th>\n",
       "      <td>37</td>\n",
       "      <td>531400</td>\n",
       "      <td>1442088</td>\n",
       "      <td>120619</td>\n",
       "      <td>16943924</td>\n",
       "      <td>17464225</td>\n",
       "      <td>60003679</td>\n",
       "      <td>26229065</td>\n",
       "      <td>3223072</td>\n",
       "      <td>34725172</td>\n",
       "      <td>10789152</td>\n",
       "      <td>0.000003</td>\n",
       "      <td>0.025867</td>\n",
       "    </tr>\n",
       "    <tr>\n",
       "      <th>2821</th>\n",
       "      <td>144</td>\n",
       "      <td>151806</td>\n",
       "      <td>3715050</td>\n",
       "      <td>231416</td>\n",
       "      <td>32692416</td>\n",
       "      <td>33772485</td>\n",
       "      <td>141614202</td>\n",
       "      <td>42812220</td>\n",
       "      <td>5421799</td>\n",
       "      <td>67161076</td>\n",
       "      <td>20625766</td>\n",
       "      <td>0.000007</td>\n",
       "      <td>0.052661</td>\n",
       "    </tr>\n",
       "    <tr>\n",
       "      <th>2997</th>\n",
       "      <td>251</td>\n",
       "      <td>192624</td>\n",
       "      <td>934708</td>\n",
       "      <td>54487</td>\n",
       "      <td>8322619</td>\n",
       "      <td>8566371</td>\n",
       "      <td>17435840</td>\n",
       "      <td>2724350</td>\n",
       "      <td>1853120</td>\n",
       "      <td>15092899</td>\n",
       "      <td>3413227</td>\n",
       "      <td>0.000074</td>\n",
       "      <td>0.554679</td>\n",
       "    </tr>\n",
       "    <tr>\n",
       "      <th>3358</th>\n",
       "      <td>233</td>\n",
       "      <td>985970</td>\n",
       "      <td>3667205</td>\n",
       "      <td>304782</td>\n",
       "      <td>46602394</td>\n",
       "      <td>48081059</td>\n",
       "      <td>169569034</td>\n",
       "      <td>60263930</td>\n",
       "      <td>5119362</td>\n",
       "      <td>70940083</td>\n",
       "      <td>28145288</td>\n",
       "      <td>0.000008</td>\n",
       "      <td>0.062443</td>\n",
       "    </tr>\n",
       "    <tr>\n",
       "      <th>3386</th>\n",
       "      <td>358</td>\n",
       "      <td>1496773</td>\n",
       "      <td>6871877</td>\n",
       "      <td>498554</td>\n",
       "      <td>72431348</td>\n",
       "      <td>74871299</td>\n",
       "      <td>289702752</td>\n",
       "      <td>91452960</td>\n",
       "      <td>14699725</td>\n",
       "      <td>149566200</td>\n",
       "      <td>38341028</td>\n",
       "      <td>0.000009</td>\n",
       "      <td>0.070429</td>\n",
       "    </tr>\n",
       "    <tr>\n",
       "      <th>3427</th>\n",
       "      <td>340</td>\n",
       "      <td>1412606</td>\n",
       "      <td>6233567</td>\n",
       "      <td>454031</td>\n",
       "      <td>66341694</td>\n",
       "      <td>68599585</td>\n",
       "      <td>279496546</td>\n",
       "      <td>80995770</td>\n",
       "      <td>13045946</td>\n",
       "      <td>107242176</td>\n",
       "      <td>36820111</td>\n",
       "      <td>0.000009</td>\n",
       "      <td>0.069651</td>\n",
       "    </tr>\n",
       "    <tr>\n",
       "      <th>3476</th>\n",
       "      <td>175</td>\n",
       "      <td>952625</td>\n",
       "      <td>4332311</td>\n",
       "      <td>346778</td>\n",
       "      <td>50162115</td>\n",
       "      <td>51766045</td>\n",
       "      <td>198459390</td>\n",
       "      <td>66349320</td>\n",
       "      <td>9199370</td>\n",
       "      <td>85917235</td>\n",
       "      <td>27481402</td>\n",
       "      <td>0.000006</td>\n",
       "      <td>0.048032</td>\n",
       "    </tr>\n",
       "  </tbody>\n",
       "</table>\n",
       "</div>"
      ],
      "text/plain": [
       "            click  weekday     hour  logtype    region      city  slotwidth  \\\n",
       "advertiser                                                                    \n",
       "1458          451  1619852  7590685   540293  77974781  80684945  322379786   \n",
       "2259           45   455924  1540185   146778  31704048  32707361   74279068   \n",
       "2261           37   531400  1442088   120619  16943924  17464225   60003679   \n",
       "2821          144   151806  3715050   231416  32692416  33772485  141614202   \n",
       "2997          251   192624   934708    54487   8322619   8566371   17435840   \n",
       "3358          233   985970  3667205   304782  46602394  48081059  169569034   \n",
       "3386          358  1496773  6871877   498554  72431348  74871299  289702752   \n",
       "3427          340  1412606  6233567   454031  66341694  68599585  279496546   \n",
       "3476          175   952625  4332311   346778  50162115  51766045  198459390   \n",
       "\n",
       "            slotheight  slotprice   bidprice  payprice    1/eCPC   portion  \n",
       "advertiser                                                                  \n",
       "1458         110521980   15271374  162087900  37231239  0.000012  0.091370  \n",
       "2259          28250370    3615396   42288044  13649026  0.000003  0.024868  \n",
       "2261          26229065    3223072   34725172  10789152  0.000003  0.025867  \n",
       "2821          42812220    5421799   67161076  20625766  0.000007  0.052661  \n",
       "2997           2724350    1853120   15092899   3413227  0.000074  0.554679  \n",
       "3358          60263930    5119362   70940083  28145288  0.000008  0.062443  \n",
       "3386          91452960   14699725  149566200  38341028  0.000009  0.070429  \n",
       "3427          80995770   13045946  107242176  36820111  0.000009  0.069651  \n",
       "3476          66349320    9199370   85917235  27481402  0.000006  0.048032  "
      ]
     },
     "execution_count": 660,
     "metadata": {},
     "output_type": "execute_result"
    }
   ],
   "source": [
    "# group_t['portion'] = group_t['1/eCPC'] / group_t['1/eCPC'].sum()\n",
    "# group_t"
   ]
  },
  {
   "cell_type": "markdown",
   "metadata": {},
   "source": [
    "### Validation"
   ]
  },
  {
   "cell_type": "code",
   "execution_count": 101,
   "metadata": {
    "collapsed": true
   },
   "outputs": [],
   "source": [
    "# predbid = basebid * pCTR / avgCTR"
   ]
  },
  {
   "cell_type": "code",
   "execution_count": 981,
   "metadata": {
    "collapsed": false
   },
   "outputs": [],
   "source": [
    "df_val_pctr['advertiser'] = df_validation_original['advertiser']"
   ]
  },
  {
   "cell_type": "code",
   "execution_count": 982,
   "metadata": {
    "collapsed": true
   },
   "outputs": [],
   "source": [
    "def div(data):\n",
    "    return data['pCTR']/all_avgCTR[data['advertiser']]"
   ]
  },
  {
   "cell_type": "code",
   "execution_count": 983,
   "metadata": {
    "collapsed": false
   },
   "outputs": [],
   "source": [
    "df_val_pctr['division'] = df_val_pctr.apply(div,axis=1)"
   ]
  },
  {
   "cell_type": "code",
   "execution_count": 999,
   "metadata": {
    "collapsed": true
   },
   "outputs": [],
   "source": [
    "def linear_bidding(constant,adv):\n",
    "    ad_go_through = -1\n",
    "    impression = 0.0\n",
    "    clicks = 0\n",
    "    cost = 0.0\n",
    "    budget = 25000000\n",
    "    \n",
    "    budget = budget / 4\n",
    "    \n",
    "    \n",
    "    \n",
    "    if adv == 1458:\n",
    "        budget = 0.091370*budget\n",
    "    if adv == 2259:\n",
    "        budget = 0.024868*budget  \n",
    "    if adv == 2261:\n",
    "        budget = 0.025867*budget  \n",
    "    if adv == 2821:\n",
    "        budget = 0.052661*budget\n",
    "    if adv == 2997:\n",
    "        budget = 0.554679*budget  \n",
    "    if adv == 3358:\n",
    "        budget = 0.062443*budget\n",
    "    if adv == 3386:\n",
    "        budget = 0.070429*budget\n",
    "    if adv == 3427:\n",
    "        budget = 0.069651*budget  \n",
    "    if adv == 3476:\n",
    "        budget = 0.048032*budget\n",
    "           \n",
    "    for click, pay_price in df_validation_original.ix[(df_validation_original['advertiser']==adv)][['click','payprice']].values:\n",
    "        ad_go_through += 1\n",
    "        if constant[ad_go_through] > pay_price:\n",
    "            impression += 1.0\n",
    "            clicks += click\n",
    "            cost += pay_price\n",
    "        if cost >= budget:\n",
    "            break\n",
    "    return impression, clicks, cost, ad_go_through"
   ]
  },
  {
   "cell_type": "code",
   "execution_count": 1000,
   "metadata": {
    "collapsed": true
   },
   "outputs": [],
   "source": [
    "# def linear_bidding(constant,adv):\n",
    "#     ad_go_through = -1\n",
    "#     impression = 0.0\n",
    "#     clicks = 0\n",
    "#     cost = 0.0\n",
    "#     budget = 25000000\n",
    "    \n",
    "#     budget = budget / 4\n",
    "    \n",
    "    \n",
    "    \n",
    "#     if adv == 1458:\n",
    "#         budget = float(37231239)/216496239*budget\n",
    "#     if adv == 2259:\n",
    "#         budget = float(13649026)/216496239*budget  \n",
    "#     if adv == 2261:\n",
    "#         budget = float(10789152)/216496239*budget  \n",
    "#     if adv == 2821:\n",
    "#         budget = float(20625766)/216496239*budget\n",
    "#     if adv == 2997:\n",
    "#         budget = float(3413227)/216496239*budget  \n",
    "#     if adv == 3358:\n",
    "#         budget = float(28145288)/216496239*budget\n",
    "#     if adv == 3386:\n",
    "#         budget = float(38341028)/216496239*budget\n",
    "#     if adv == 3427:\n",
    "#         budget = float(36820111)/216496239*budget  \n",
    "#     if adv == 3476:\n",
    "#         budget = float(27481402)/216496239*budget\n",
    "           \n",
    "#     for click, pay_price in df_validation_original.ix[(df_validation_original['advertiser']==adv)][['click','payprice']].values:\n",
    "#         ad_go_through += 1\n",
    "#         if constant[ad_go_through] > pay_price:\n",
    "#             impression += 1.0\n",
    "#             clicks += click\n",
    "#             cost += pay_price\n",
    "#         if cost >= budget:\n",
    "#             break\n",
    "#     return impression, clicks, cost, ad_go_through"
   ]
  },
  {
   "cell_type": "code",
   "execution_count": 1001,
   "metadata": {
    "collapsed": false
   },
   "outputs": [],
   "source": [
    "bp = {}\n",
    "basebid = {}\n",
    "adv_list_linear = {}\n",
    "for adv in df_train['advertiser'].unique():\n",
    "    \n",
    "    const = pd.DataFrame()\n",
    "    const['base_bid'] = np.arange(0,302,2)\n",
    "\n",
    "    im = []\n",
    "    clks = []\n",
    "    ct = []\n",
    "    agt = []\n",
    "    for base_bid in const['base_bid']:\n",
    "\n",
    "        bid_price = base_bid * df_val_pctr.ix[(df_val_pctr['advertiser']==adv)]['division']\n",
    "\n",
    "        [imps, clicks, cost, ad_go_through] = linear_bidding(bid_price.reset_index(drop=1),adv)\n",
    "        im.append(imps)\n",
    "        clks.append(clicks)\n",
    "        ct.append(cost)\n",
    "        agt.append(ad_go_through)\n",
    "    const['imps_won'] = im\n",
    "    const['total_spend'] = ct\n",
    "    const['clicks'] = clks\n",
    "    const['ad_go_through'] = agt\n",
    "    const['CTR'] = const['clicks']/const['imps_won']\n",
    "    const = const.set_index('base_bid')\n",
    "    \n",
    "    adv_list_linear[adv] = const\n",
    "    basebid[adv] = const.ix[(const['clicks']==const['clicks'].max())].reset_index()['base_bid'][0]\n",
    "    bp[adv] = basebid[adv] * df_val_pctr.ix[(df_val_pctr['advertiser']==adv)]['division']"
   ]
  },
  {
   "cell_type": "code",
   "execution_count": 1002,
   "metadata": {
    "collapsed": true
   },
   "outputs": [],
   "source": [
    "# val_pred_bid_price_1_4 = val_pred_bid_price.copy()"
   ]
  },
  {
   "cell_type": "code",
   "execution_count": 1003,
   "metadata": {
    "collapsed": true
   },
   "outputs": [],
   "source": [
    "# val_pred_bid_price_1_8 = val_pred_bid_price.copy()"
   ]
  },
  {
   "cell_type": "code",
   "execution_count": 1004,
   "metadata": {
    "collapsed": true
   },
   "outputs": [],
   "source": [
    "# val_pred_bid_price_1_2 = val_pred_bid_price.copy()"
   ]
  },
  {
   "cell_type": "code",
   "execution_count": 1005,
   "metadata": {
    "collapsed": true
   },
   "outputs": [],
   "source": [
    "# df_val_linear_1_4_ecpc = df_val_linear.copy()"
   ]
  },
  {
   "cell_type": "code",
   "execution_count": 1006,
   "metadata": {
    "collapsed": true
   },
   "outputs": [],
   "source": [
    "# df_val_linear_1_4_cost = df_val_linear.copy()"
   ]
  },
  {
   "cell_type": "code",
   "execution_count": 1007,
   "metadata": {
    "collapsed": true
   },
   "outputs": [],
   "source": [
    "val_pred_bid_price = pd.concat([bp[1458],bp[3476],bp[3427],bp[3358],bp[2259],bp[2821],bp[3386],bp[2997],bp[2261]]).sort_index()"
   ]
  },
  {
   "cell_type": "code",
   "execution_count": 1008,
   "metadata": {
    "collapsed": false
   },
   "outputs": [
    {
     "data": {
      "text/plain": [
       "{1458: 136,\n",
       " 2259: 46,\n",
       " 2261: 74,\n",
       " 2821: 44,\n",
       " 2997: 240,\n",
       " 3358: 50,\n",
       " 3386: 36,\n",
       " 3427: 78,\n",
       " 3476: 60}"
      ]
     },
     "execution_count": 1008,
     "metadata": {},
     "output_type": "execute_result"
    }
   ],
   "source": [
    "basebid"
   ]
  },
  {
   "cell_type": "code",
   "execution_count": 1009,
   "metadata": {
    "collapsed": false
   },
   "outputs": [],
   "source": [
    "df_val_linear = df_validation_original.copy()"
   ]
  },
  {
   "cell_type": "code",
   "execution_count": 1010,
   "metadata": {
    "collapsed": true
   },
   "outputs": [],
   "source": [
    "df_val_linear['bidprice'] = val_pred_bid_price"
   ]
  },
  {
   "cell_type": "code",
   "execution_count": 1011,
   "metadata": {
    "collapsed": false
   },
   "outputs": [],
   "source": [
    "ad_go_through = -1\n",
    "impression = 0.0\n",
    "clicks = 0\n",
    "cost = 0.0\n",
    "budget = 25000 * 1000\n",
    "\n",
    "budget = budget/4\n",
    "\n",
    "for click, pay_price in df_validation_original[['click','payprice']].values:\n",
    "    ad_go_through += 1\n",
    "    if val_pred_bid_price[ad_go_through] > pay_price:\n",
    "        impression += 1.0\n",
    "        clicks += click\n",
    "        cost += pay_price\n",
    "    if cost >= budget:\n",
    "        break\n",
    "    if ad_go_through == 299749:\n",
    "        break"
   ]
  },
  {
   "cell_type": "code",
   "execution_count": 1012,
   "metadata": {
    "collapsed": false
   },
   "outputs": [],
   "source": [
    "linear_report = {}\n",
    "linear_report.update({\"click\":clicks})\n",
    "linear_report.update({\"impression\":impression})\n",
    "linear_report.update({\"ad_go_through\":ad_go_through})\n",
    "linear_report.update({\"Total_spend\":cost})\n",
    "# linear_report.update({\"cost\":click_cost})\n",
    "linear_report.update({\"CTR\":clicks/impression})\n",
    "linear_report.update({\"CPM\":cost/impression})"
   ]
  },
  {
   "cell_type": "code",
   "execution_count": 1013,
   "metadata": {
    "collapsed": false
   },
   "outputs": [
    {
     "data": {
      "text/plain": [
       "{'CPM': 46.134874520954384,\n",
       " 'CTR': 0.0009271850661392014,\n",
       " 'Total_spend': 5970960.0,\n",
       " 'ad_go_through': 299748,\n",
       " 'click': 120,\n",
       " 'impression': 129424.0}"
      ]
     },
     "execution_count": 1013,
     "metadata": {},
     "output_type": "execute_result"
    }
   ],
   "source": [
    "linear_report"
   ]
  },
  {
   "cell_type": "code",
   "execution_count": 1014,
   "metadata": {
    "collapsed": false
   },
   "outputs": [
    {
     "data": {
      "text/html": [
       "<div>\n",
       "<table border=\"1\" class=\"dataframe\">\n",
       "  <thead>\n",
       "    <tr style=\"text-align: right;\">\n",
       "      <th></th>\n",
       "      <th>click</th>\n",
       "      <th>Imps</th>\n",
       "      <th>cost</th>\n",
       "      <th>CPM</th>\n",
       "      <th>CTR</th>\n",
       "      <th>eCPC</th>\n",
       "    </tr>\n",
       "    <tr>\n",
       "      <th>advertiser</th>\n",
       "      <th></th>\n",
       "      <th></th>\n",
       "      <th></th>\n",
       "      <th></th>\n",
       "      <th></th>\n",
       "      <th></th>\n",
       "    </tr>\n",
       "  </thead>\n",
       "  <tbody>\n",
       "    <tr>\n",
       "      <th>1458</th>\n",
       "      <td>35.0</td>\n",
       "      <td>48846.0</td>\n",
       "      <td>2594.313</td>\n",
       "      <td>53.11</td>\n",
       "      <td>0.072%</td>\n",
       "      <td>74.12</td>\n",
       "    </tr>\n",
       "    <tr>\n",
       "      <th>2259</th>\n",
       "      <td>4.0</td>\n",
       "      <td>4380.0</td>\n",
       "      <td>135.818</td>\n",
       "      <td>31.01</td>\n",
       "      <td>0.091%</td>\n",
       "      <td>33.95</td>\n",
       "    </tr>\n",
       "    <tr>\n",
       "      <th>2261</th>\n",
       "      <td>3.0</td>\n",
       "      <td>6416.0</td>\n",
       "      <td>258.602</td>\n",
       "      <td>40.31</td>\n",
       "      <td>0.047%</td>\n",
       "      <td>86.20</td>\n",
       "    </tr>\n",
       "    <tr>\n",
       "      <th>2821</th>\n",
       "      <td>5.0</td>\n",
       "      <td>8150.0</td>\n",
       "      <td>259.526</td>\n",
       "      <td>31.84</td>\n",
       "      <td>0.061%</td>\n",
       "      <td>51.91</td>\n",
       "    </tr>\n",
       "    <tr>\n",
       "      <th>2997</th>\n",
       "      <td>22.0</td>\n",
       "      <td>5425.0</td>\n",
       "      <td>284.096</td>\n",
       "      <td>52.37</td>\n",
       "      <td>0.406%</td>\n",
       "      <td>12.91</td>\n",
       "    </tr>\n",
       "    <tr>\n",
       "      <th>3358</th>\n",
       "      <td>8.0</td>\n",
       "      <td>8095.0</td>\n",
       "      <td>334.468</td>\n",
       "      <td>41.32</td>\n",
       "      <td>0.099%</td>\n",
       "      <td>41.81</td>\n",
       "    </tr>\n",
       "    <tr>\n",
       "      <th>3386</th>\n",
       "      <td>10.0</td>\n",
       "      <td>10569.0</td>\n",
       "      <td>335.695</td>\n",
       "      <td>31.76</td>\n",
       "      <td>0.095%</td>\n",
       "      <td>33.57</td>\n",
       "    </tr>\n",
       "    <tr>\n",
       "      <th>3427</th>\n",
       "      <td>23.0</td>\n",
       "      <td>21602.0</td>\n",
       "      <td>1027.767</td>\n",
       "      <td>47.58</td>\n",
       "      <td>0.106%</td>\n",
       "      <td>44.69</td>\n",
       "    </tr>\n",
       "    <tr>\n",
       "      <th>3476</th>\n",
       "      <td>10.0</td>\n",
       "      <td>15940.0</td>\n",
       "      <td>740.663</td>\n",
       "      <td>46.47</td>\n",
       "      <td>0.063%</td>\n",
       "      <td>74.07</td>\n",
       "    </tr>\n",
       "    <tr>\n",
       "      <th>Total</th>\n",
       "      <td>120.0</td>\n",
       "      <td>129423.0</td>\n",
       "      <td>5970.948</td>\n",
       "      <td>46.14</td>\n",
       "      <td>0.093%</td>\n",
       "      <td>49.76</td>\n",
       "    </tr>\n",
       "  </tbody>\n",
       "</table>\n",
       "</div>"
      ],
      "text/plain": [
       "            click      Imps      cost    CPM     CTR   eCPC\n",
       "advertiser                                                 \n",
       "1458         35.0   48846.0  2594.313  53.11  0.072%  74.12\n",
       "2259          4.0    4380.0   135.818  31.01  0.091%  33.95\n",
       "2261          3.0    6416.0   258.602  40.31  0.047%  86.20\n",
       "2821          5.0    8150.0   259.526  31.84  0.061%  51.91\n",
       "2997         22.0    5425.0   284.096  52.37  0.406%  12.91\n",
       "3358          8.0    8095.0   334.468  41.32  0.099%  41.81\n",
       "3386         10.0   10569.0   335.695  31.76  0.095%  33.57\n",
       "3427         23.0   21602.0  1027.767  47.58  0.106%  44.69\n",
       "3476         10.0   15940.0   740.663  46.47  0.063%  74.07\n",
       "Total       120.0  129423.0  5970.948  46.14  0.093%  49.76"
      ]
     },
     "execution_count": 1014,
     "metadata": {},
     "output_type": "execute_result"
    }
   ],
   "source": [
    "evaluate_result(df_val_linear[:linear_report['ad_go_through']])"
   ]
  },
  {
   "cell_type": "markdown",
   "metadata": {},
   "source": [
    "# Compare constant, random and linear strategy"
   ]
  },
  {
   "cell_type": "code",
   "execution_count": 116,
   "metadata": {
    "collapsed": true
   },
   "outputs": [],
   "source": [
    "def test_performance(bidding_strategy,portion_of_budget):\n",
    "    ad_go_through = -1\n",
    "    clicks = 0\n",
    "    cost = 0.0\n",
    "    budget = 25000 * 1000\n",
    "\n",
    "    budget = budget * portion_of_budget\n",
    "\n",
    "    for click, pay_price in df_validation_original[['click','payprice']].values:\n",
    "        ad_go_through += 1\n",
    "        if bidding_strategy['bidprice'][ad_go_through] > pay_price:\n",
    "            cost += pay_price\n",
    "        if cost >= budget:\n",
    "            break\n",
    "        if ad_go_through == 299749:\n",
    "            break\n",
    "\n",
    "#     return ad_go_through\n",
    "    return evaluate_result(bidding_strategy[:ad_go_through])"
   ]
  },
  {
   "cell_type": "markdown",
   "metadata": {},
   "source": [
    "## 1/2 budget"
   ]
  },
  {
   "cell_type": "code",
   "execution_count": 287,
   "metadata": {
    "collapsed": false
   },
   "outputs": [
    {
     "data": {
      "text/html": [
       "<div>\n",
       "<table border=\"1\" class=\"dataframe\">\n",
       "  <thead>\n",
       "    <tr style=\"text-align: right;\">\n",
       "      <th></th>\n",
       "      <th>click</th>\n",
       "      <th>Imps</th>\n",
       "      <th>cost</th>\n",
       "      <th>CPM</th>\n",
       "      <th>CTR</th>\n",
       "      <th>eCPC</th>\n",
       "    </tr>\n",
       "    <tr>\n",
       "      <th>advertiser</th>\n",
       "      <th></th>\n",
       "      <th></th>\n",
       "      <th></th>\n",
       "      <th></th>\n",
       "      <th></th>\n",
       "      <th></th>\n",
       "    </tr>\n",
       "  </thead>\n",
       "  <tbody>\n",
       "    <tr>\n",
       "      <th>1458</th>\n",
       "      <td>33.0</td>\n",
       "      <td>49126</td>\n",
       "      <td>2577</td>\n",
       "      <td>52.47</td>\n",
       "      <td>0.067%</td>\n",
       "      <td>78.11</td>\n",
       "    </tr>\n",
       "    <tr>\n",
       "      <th>2259</th>\n",
       "      <td>5.0</td>\n",
       "      <td>10672</td>\n",
       "      <td>537</td>\n",
       "      <td>50.33</td>\n",
       "      <td>0.047%</td>\n",
       "      <td>107.43</td>\n",
       "    </tr>\n",
       "    <tr>\n",
       "      <th>2261</th>\n",
       "      <td>2.0</td>\n",
       "      <td>8859</td>\n",
       "      <td>416</td>\n",
       "      <td>46.96</td>\n",
       "      <td>0.023%</td>\n",
       "      <td>208.01</td>\n",
       "    </tr>\n",
       "    <tr>\n",
       "      <th>2821</th>\n",
       "      <td>7.0</td>\n",
       "      <td>17205</td>\n",
       "      <td>838</td>\n",
       "      <td>48.72</td>\n",
       "      <td>0.041%</td>\n",
       "      <td>119.75</td>\n",
       "    </tr>\n",
       "    <tr>\n",
       "      <th>2997</th>\n",
       "      <td>14.0</td>\n",
       "      <td>4742</td>\n",
       "      <td>197</td>\n",
       "      <td>41.60</td>\n",
       "      <td>0.295%</td>\n",
       "      <td>14.09</td>\n",
       "    </tr>\n",
       "    <tr>\n",
       "      <th>3358</th>\n",
       "      <td>16.0</td>\n",
       "      <td>24456</td>\n",
       "      <td>1553</td>\n",
       "      <td>63.52</td>\n",
       "      <td>0.065%</td>\n",
       "      <td>97.08</td>\n",
       "    </tr>\n",
       "    <tr>\n",
       "      <th>3386</th>\n",
       "      <td>23.0</td>\n",
       "      <td>42974</td>\n",
       "      <td>2328</td>\n",
       "      <td>54.19</td>\n",
       "      <td>0.054%</td>\n",
       "      <td>101.24</td>\n",
       "    </tr>\n",
       "    <tr>\n",
       "      <th>3427</th>\n",
       "      <td>32.0</td>\n",
       "      <td>39385</td>\n",
       "      <td>2371</td>\n",
       "      <td>60.22</td>\n",
       "      <td>0.081%</td>\n",
       "      <td>74.12</td>\n",
       "    </tr>\n",
       "    <tr>\n",
       "      <th>3476</th>\n",
       "      <td>13.0</td>\n",
       "      <td>30219</td>\n",
       "      <td>1736</td>\n",
       "      <td>57.47</td>\n",
       "      <td>0.043%</td>\n",
       "      <td>133.60</td>\n",
       "    </tr>\n",
       "    <tr>\n",
       "      <th>Total</th>\n",
       "      <td>145.0</td>\n",
       "      <td>227638</td>\n",
       "      <td>12557</td>\n",
       "      <td>55.16</td>\n",
       "      <td>0.064%</td>\n",
       "      <td>86.60</td>\n",
       "    </tr>\n",
       "  </tbody>\n",
       "</table>\n",
       "</div>"
      ],
      "text/plain": [
       "            click    Imps   cost    CPM     CTR    eCPC\n",
       "advertiser                                             \n",
       "1458         33.0   49126   2577  52.47  0.067%   78.11\n",
       "2259          5.0   10672    537  50.33  0.047%  107.43\n",
       "2261          2.0    8859    416  46.96  0.023%  208.01\n",
       "2821          7.0   17205    838  48.72  0.041%  119.75\n",
       "2997         14.0    4742    197  41.60  0.295%   14.09\n",
       "3358         16.0   24456   1553  63.52  0.065%   97.08\n",
       "3386         23.0   42974   2328  54.19  0.054%  101.24\n",
       "3427         32.0   39385   2371  60.22  0.081%   74.12\n",
       "3476         13.0   30219   1736  57.47  0.043%  133.60\n",
       "Total       145.0  227638  12557  55.16  0.064%   86.60"
      ]
     },
     "execution_count": 287,
     "metadata": {},
     "output_type": "execute_result"
    }
   ],
   "source": [
    "# const bid = 130\n",
    "# agt = \n",
    "const_1_2_result = test_performance(df_val_const,0.5)\n",
    "const_1_2_result"
   ]
  },
  {
   "cell_type": "code",
   "execution_count": 324,
   "metadata": {
    "collapsed": false
   },
   "outputs": [
    {
     "data": {
      "text/html": [
       "<div>\n",
       "<table border=\"1\" class=\"dataframe\">\n",
       "  <thead>\n",
       "    <tr style=\"text-align: right;\">\n",
       "      <th></th>\n",
       "      <th>click</th>\n",
       "      <th>Imps</th>\n",
       "      <th>cost</th>\n",
       "      <th>CPM</th>\n",
       "      <th>CTR</th>\n",
       "      <th>eCPC</th>\n",
       "    </tr>\n",
       "    <tr>\n",
       "      <th>advertiser</th>\n",
       "      <th></th>\n",
       "      <th></th>\n",
       "      <th></th>\n",
       "      <th></th>\n",
       "      <th></th>\n",
       "      <th></th>\n",
       "    </tr>\n",
       "  </thead>\n",
       "  <tbody>\n",
       "    <tr>\n",
       "      <th>1458</th>\n",
       "      <td>31.0</td>\n",
       "      <td>43686</td>\n",
       "      <td>2345</td>\n",
       "      <td>53.70</td>\n",
       "      <td>0.071%</td>\n",
       "      <td>75.67</td>\n",
       "    </tr>\n",
       "    <tr>\n",
       "      <th>2259</th>\n",
       "      <td>5.0</td>\n",
       "      <td>10437</td>\n",
       "      <td>619</td>\n",
       "      <td>59.40</td>\n",
       "      <td>0.048%</td>\n",
       "      <td>124.00</td>\n",
       "    </tr>\n",
       "    <tr>\n",
       "      <th>2261</th>\n",
       "      <td>3.0</td>\n",
       "      <td>8690</td>\n",
       "      <td>476</td>\n",
       "      <td>54.84</td>\n",
       "      <td>0.035%</td>\n",
       "      <td>158.84</td>\n",
       "    </tr>\n",
       "    <tr>\n",
       "      <th>2821</th>\n",
       "      <td>9.0</td>\n",
       "      <td>16619</td>\n",
       "      <td>936</td>\n",
       "      <td>56.38</td>\n",
       "      <td>0.054%</td>\n",
       "      <td>104.10</td>\n",
       "    </tr>\n",
       "    <tr>\n",
       "      <th>2997</th>\n",
       "      <td>14.0</td>\n",
       "      <td>4485</td>\n",
       "      <td>194</td>\n",
       "      <td>43.35</td>\n",
       "      <td>0.312%</td>\n",
       "      <td>13.89</td>\n",
       "    </tr>\n",
       "    <tr>\n",
       "      <th>3358</th>\n",
       "      <td>11.0</td>\n",
       "      <td>21354</td>\n",
       "      <td>1434</td>\n",
       "      <td>67.18</td>\n",
       "      <td>0.052%</td>\n",
       "      <td>130.41</td>\n",
       "    </tr>\n",
       "    <tr>\n",
       "      <th>3386</th>\n",
       "      <td>21.0</td>\n",
       "      <td>38635</td>\n",
       "      <td>2177</td>\n",
       "      <td>56.36</td>\n",
       "      <td>0.054%</td>\n",
       "      <td>103.69</td>\n",
       "    </tr>\n",
       "    <tr>\n",
       "      <th>3427</th>\n",
       "      <td>28.0</td>\n",
       "      <td>34316</td>\n",
       "      <td>2127</td>\n",
       "      <td>62.00</td>\n",
       "      <td>0.082%</td>\n",
       "      <td>75.98</td>\n",
       "    </tr>\n",
       "    <tr>\n",
       "      <th>3476</th>\n",
       "      <td>10.0</td>\n",
       "      <td>26669</td>\n",
       "      <td>1593</td>\n",
       "      <td>59.76</td>\n",
       "      <td>0.037%</td>\n",
       "      <td>159.38</td>\n",
       "    </tr>\n",
       "    <tr>\n",
       "      <th>Total</th>\n",
       "      <td>132.0</td>\n",
       "      <td>204891</td>\n",
       "      <td>11906</td>\n",
       "      <td>58.11</td>\n",
       "      <td>0.064%</td>\n",
       "      <td>90.20</td>\n",
       "    </tr>\n",
       "  </tbody>\n",
       "</table>\n",
       "</div>"
      ],
      "text/plain": [
       "            click    Imps   cost    CPM     CTR    eCPC\n",
       "advertiser                                             \n",
       "1458         31.0   43686   2345  53.70  0.071%   75.67\n",
       "2259          5.0   10437    619  59.40  0.048%  124.00\n",
       "2261          3.0    8690    476  54.84  0.035%  158.84\n",
       "2821          9.0   16619    936  56.38  0.054%  104.10\n",
       "2997         14.0    4485    194  43.35  0.312%   13.89\n",
       "3358         11.0   21354   1434  67.18  0.052%  130.41\n",
       "3386         21.0   38635   2177  56.36  0.054%  103.69\n",
       "3427         28.0   34316   2127  62.00  0.082%   75.98\n",
       "3476         10.0   26669   1593  59.76  0.037%  159.38\n",
       "Total       132.0  204891  11906  58.11  0.064%   90.20"
      ]
     },
     "execution_count": 324,
     "metadata": {},
     "output_type": "execute_result"
    }
   ],
   "source": [
    "# rand ub = 252\n",
    "# agt = all\n",
    "rand_1_2_result = test_performance(df_val_rand,0.5)\n",
    "rand_1_2_result"
   ]
  },
  {
   "cell_type": "code",
   "execution_count": 528,
   "metadata": {
    "collapsed": false
   },
   "outputs": [
    {
     "data": {
      "text/html": [
       "<div>\n",
       "<table border=\"1\" class=\"dataframe\">\n",
       "  <thead>\n",
       "    <tr style=\"text-align: right;\">\n",
       "      <th></th>\n",
       "      <th>click</th>\n",
       "      <th>Imps</th>\n",
       "      <th>cost</th>\n",
       "      <th>CPM</th>\n",
       "      <th>CTR</th>\n",
       "      <th>eCPC</th>\n",
       "    </tr>\n",
       "    <tr>\n",
       "      <th>advertiser</th>\n",
       "      <th></th>\n",
       "      <th></th>\n",
       "      <th></th>\n",
       "      <th></th>\n",
       "      <th></th>\n",
       "      <th></th>\n",
       "    </tr>\n",
       "  </thead>\n",
       "  <tbody>\n",
       "    <tr>\n",
       "      <th>1458</th>\n",
       "      <td>35.0</td>\n",
       "      <td>48619</td>\n",
       "      <td>2782</td>\n",
       "      <td>57.23</td>\n",
       "      <td>0.072%</td>\n",
       "      <td>79.50</td>\n",
       "    </tr>\n",
       "    <tr>\n",
       "      <th>2259</th>\n",
       "      <td>6.0</td>\n",
       "      <td>9949</td>\n",
       "      <td>653</td>\n",
       "      <td>65.69</td>\n",
       "      <td>0.06%</td>\n",
       "      <td>108.93</td>\n",
       "    </tr>\n",
       "    <tr>\n",
       "      <th>2261</th>\n",
       "      <td>4.0</td>\n",
       "      <td>8696</td>\n",
       "      <td>530</td>\n",
       "      <td>60.97</td>\n",
       "      <td>0.046%</td>\n",
       "      <td>132.56</td>\n",
       "    </tr>\n",
       "    <tr>\n",
       "      <th>2821</th>\n",
       "      <td>10.0</td>\n",
       "      <td>16855</td>\n",
       "      <td>1028</td>\n",
       "      <td>61.05</td>\n",
       "      <td>0.059%</td>\n",
       "      <td>102.90</td>\n",
       "    </tr>\n",
       "    <tr>\n",
       "      <th>2997</th>\n",
       "      <td>14.0</td>\n",
       "      <td>4116</td>\n",
       "      <td>154</td>\n",
       "      <td>37.60</td>\n",
       "      <td>0.34%</td>\n",
       "      <td>11.06</td>\n",
       "    </tr>\n",
       "    <tr>\n",
       "      <th>3358</th>\n",
       "      <td>15.0</td>\n",
       "      <td>19308</td>\n",
       "      <td>1235</td>\n",
       "      <td>64.00</td>\n",
       "      <td>0.078%</td>\n",
       "      <td>82.38</td>\n",
       "    </tr>\n",
       "    <tr>\n",
       "      <th>3386</th>\n",
       "      <td>21.0</td>\n",
       "      <td>35746</td>\n",
       "      <td>2000</td>\n",
       "      <td>55.97</td>\n",
       "      <td>0.059%</td>\n",
       "      <td>95.28</td>\n",
       "    </tr>\n",
       "    <tr>\n",
       "      <th>3427</th>\n",
       "      <td>36.0</td>\n",
       "      <td>34448</td>\n",
       "      <td>2136</td>\n",
       "      <td>62.01</td>\n",
       "      <td>0.105%</td>\n",
       "      <td>59.34</td>\n",
       "    </tr>\n",
       "    <tr>\n",
       "      <th>3476</th>\n",
       "      <td>13.0</td>\n",
       "      <td>29905</td>\n",
       "      <td>1977</td>\n",
       "      <td>66.12</td>\n",
       "      <td>0.043%</td>\n",
       "      <td>152.10</td>\n",
       "    </tr>\n",
       "    <tr>\n",
       "      <th>Total</th>\n",
       "      <td>154.0</td>\n",
       "      <td>207642</td>\n",
       "      <td>12499</td>\n",
       "      <td>60.20</td>\n",
       "      <td>0.074%</td>\n",
       "      <td>81.17</td>\n",
       "    </tr>\n",
       "  </tbody>\n",
       "</table>\n",
       "</div>"
      ],
      "text/plain": [
       "            click    Imps   cost    CPM     CTR    eCPC\n",
       "advertiser                                             \n",
       "1458         35.0   48619   2782  57.23  0.072%   79.50\n",
       "2259          6.0    9949    653  65.69   0.06%  108.93\n",
       "2261          4.0    8696    530  60.97  0.046%  132.56\n",
       "2821         10.0   16855   1028  61.05  0.059%  102.90\n",
       "2997         14.0    4116    154  37.60   0.34%   11.06\n",
       "3358         15.0   19308   1235  64.00  0.078%   82.38\n",
       "3386         21.0   35746   2000  55.97  0.059%   95.28\n",
       "3427         36.0   34448   2136  62.01  0.105%   59.34\n",
       "3476         13.0   29905   1977  66.12  0.043%  152.10\n",
       "Total       154.0  207642  12499  60.20  0.074%   81.17"
      ]
     },
     "execution_count": 528,
     "metadata": {},
     "output_type": "execute_result"
    }
   ],
   "source": [
    "linear_1_2_result = test_performance(df_val_linear,0.5)\n",
    "linear_1_2_result"
   ]
  },
  {
   "cell_type": "code",
   "execution_count": null,
   "metadata": {
    "collapsed": true
   },
   "outputs": [],
   "source": []
  },
  {
   "cell_type": "code",
   "execution_count": null,
   "metadata": {
    "collapsed": true
   },
   "outputs": [],
   "source": []
  },
  {
   "cell_type": "markdown",
   "metadata": {},
   "source": [
    "## 1/4 budget"
   ]
  },
  {
   "cell_type": "code",
   "execution_count": 299,
   "metadata": {
    "collapsed": false
   },
   "outputs": [
    {
     "data": {
      "text/html": [
       "<div>\n",
       "<table border=\"1\" class=\"dataframe\">\n",
       "  <thead>\n",
       "    <tr style=\"text-align: right;\">\n",
       "      <th></th>\n",
       "      <th>click</th>\n",
       "      <th>Imps</th>\n",
       "      <th>cost</th>\n",
       "      <th>CPM</th>\n",
       "      <th>CTR</th>\n",
       "      <th>eCPC</th>\n",
       "    </tr>\n",
       "    <tr>\n",
       "      <th>advertiser</th>\n",
       "      <th></th>\n",
       "      <th></th>\n",
       "      <th></th>\n",
       "      <th></th>\n",
       "      <th></th>\n",
       "      <th></th>\n",
       "    </tr>\n",
       "  </thead>\n",
       "  <tbody>\n",
       "    <tr>\n",
       "      <th>1458</th>\n",
       "      <td>21.0</td>\n",
       "      <td>22139</td>\n",
       "      <td>1277</td>\n",
       "      <td>57.70</td>\n",
       "      <td>0.095%</td>\n",
       "      <td>60.83</td>\n",
       "    </tr>\n",
       "    <tr>\n",
       "      <th>2259</th>\n",
       "      <td>4.0</td>\n",
       "      <td>5301</td>\n",
       "      <td>344</td>\n",
       "      <td>64.90</td>\n",
       "      <td>0.075%</td>\n",
       "      <td>86.01</td>\n",
       "    </tr>\n",
       "    <tr>\n",
       "      <th>2261</th>\n",
       "      <td>2.0</td>\n",
       "      <td>4112</td>\n",
       "      <td>231</td>\n",
       "      <td>56.37</td>\n",
       "      <td>0.049%</td>\n",
       "      <td>115.89</td>\n",
       "    </tr>\n",
       "    <tr>\n",
       "      <th>2821</th>\n",
       "      <td>3.0</td>\n",
       "      <td>8255</td>\n",
       "      <td>492</td>\n",
       "      <td>59.65</td>\n",
       "      <td>0.036%</td>\n",
       "      <td>164.15</td>\n",
       "    </tr>\n",
       "    <tr>\n",
       "      <th>2997</th>\n",
       "      <td>8.0</td>\n",
       "      <td>2171</td>\n",
       "      <td>103</td>\n",
       "      <td>47.70</td>\n",
       "      <td>0.368%</td>\n",
       "      <td>12.94</td>\n",
       "    </tr>\n",
       "    <tr>\n",
       "      <th>3358</th>\n",
       "      <td>7.0</td>\n",
       "      <td>11228</td>\n",
       "      <td>778</td>\n",
       "      <td>69.36</td>\n",
       "      <td>0.062%</td>\n",
       "      <td>111.25</td>\n",
       "    </tr>\n",
       "    <tr>\n",
       "      <th>3386</th>\n",
       "      <td>10.0</td>\n",
       "      <td>19757</td>\n",
       "      <td>1174</td>\n",
       "      <td>59.45</td>\n",
       "      <td>0.051%</td>\n",
       "      <td>117.46</td>\n",
       "    </tr>\n",
       "    <tr>\n",
       "      <th>3427</th>\n",
       "      <td>20.0</td>\n",
       "      <td>17705</td>\n",
       "      <td>1145</td>\n",
       "      <td>64.69</td>\n",
       "      <td>0.113%</td>\n",
       "      <td>57.27</td>\n",
       "    </tr>\n",
       "    <tr>\n",
       "      <th>3476</th>\n",
       "      <td>11.0</td>\n",
       "      <td>13772</td>\n",
       "      <td>867</td>\n",
       "      <td>63.01</td>\n",
       "      <td>0.08%</td>\n",
       "      <td>78.89</td>\n",
       "    </tr>\n",
       "    <tr>\n",
       "      <th>Total</th>\n",
       "      <td>86.0</td>\n",
       "      <td>104440</td>\n",
       "      <td>6415</td>\n",
       "      <td>61.43</td>\n",
       "      <td>0.082%</td>\n",
       "      <td>74.60</td>\n",
       "    </tr>\n",
       "  </tbody>\n",
       "</table>\n",
       "</div>"
      ],
      "text/plain": [
       "            click    Imps  cost    CPM     CTR    eCPC\n",
       "advertiser                                            \n",
       "1458         21.0   22139  1277  57.70  0.095%   60.83\n",
       "2259          4.0    5301   344  64.90  0.075%   86.01\n",
       "2261          2.0    4112   231  56.37  0.049%  115.89\n",
       "2821          3.0    8255   492  59.65  0.036%  164.15\n",
       "2997          8.0    2171   103  47.70  0.368%   12.94\n",
       "3358          7.0   11228   778  69.36  0.062%  111.25\n",
       "3386         10.0   19757  1174  59.45  0.051%  117.46\n",
       "3427         20.0   17705  1145  64.69  0.113%   57.27\n",
       "3476         11.0   13772   867  63.01   0.08%   78.89\n",
       "Total        86.0  104440  6415  61.43  0.082%   74.60"
      ]
     },
     "execution_count": 299,
     "metadata": {},
     "output_type": "execute_result"
    }
   ],
   "source": [
    "# const bid = 160\n",
    "# agt = evaluate_result(df_val_const[:119237])\n",
    "const_1_4_result = test_performance(df_val_const,0.25)\n",
    "const_1_4_result "
   ]
  },
  {
   "cell_type": "code",
   "execution_count": 285,
   "metadata": {
    "collapsed": false
   },
   "outputs": [
    {
     "data": {
      "text/html": [
       "<div>\n",
       "<table border=\"1\" class=\"dataframe\">\n",
       "  <thead>\n",
       "    <tr style=\"text-align: right;\">\n",
       "      <th></th>\n",
       "      <th>click</th>\n",
       "      <th>Imps</th>\n",
       "      <th>cost</th>\n",
       "      <th>CPM</th>\n",
       "      <th>CTR</th>\n",
       "      <th>eCPC</th>\n",
       "    </tr>\n",
       "    <tr>\n",
       "      <th>advertiser</th>\n",
       "      <th></th>\n",
       "      <th></th>\n",
       "      <th></th>\n",
       "      <th></th>\n",
       "      <th></th>\n",
       "      <th></th>\n",
       "    </tr>\n",
       "  </thead>\n",
       "  <tbody>\n",
       "    <tr>\n",
       "      <th>1458</th>\n",
       "      <td>19.0</td>\n",
       "      <td>24572</td>\n",
       "      <td>1287</td>\n",
       "      <td>52.40</td>\n",
       "      <td>0.077%</td>\n",
       "      <td>67.77</td>\n",
       "    </tr>\n",
       "    <tr>\n",
       "      <th>2259</th>\n",
       "      <td>4.0</td>\n",
       "      <td>5682</td>\n",
       "      <td>311</td>\n",
       "      <td>54.80</td>\n",
       "      <td>0.07%</td>\n",
       "      <td>77.84</td>\n",
       "    </tr>\n",
       "    <tr>\n",
       "      <th>2261</th>\n",
       "      <td>1.0</td>\n",
       "      <td>4740</td>\n",
       "      <td>241</td>\n",
       "      <td>50.92</td>\n",
       "      <td>0.021%</td>\n",
       "      <td>241.36</td>\n",
       "    </tr>\n",
       "    <tr>\n",
       "      <th>2821</th>\n",
       "      <td>2.0</td>\n",
       "      <td>9142</td>\n",
       "      <td>479</td>\n",
       "      <td>52.48</td>\n",
       "      <td>0.022%</td>\n",
       "      <td>239.87</td>\n",
       "    </tr>\n",
       "    <tr>\n",
       "      <th>2997</th>\n",
       "      <td>6.0</td>\n",
       "      <td>2533</td>\n",
       "      <td>102</td>\n",
       "      <td>40.40</td>\n",
       "      <td>0.237%</td>\n",
       "      <td>17.06</td>\n",
       "    </tr>\n",
       "    <tr>\n",
       "      <th>3358</th>\n",
       "      <td>8.0</td>\n",
       "      <td>11802</td>\n",
       "      <td>754</td>\n",
       "      <td>63.95</td>\n",
       "      <td>0.068%</td>\n",
       "      <td>94.35</td>\n",
       "    </tr>\n",
       "    <tr>\n",
       "      <th>3386</th>\n",
       "      <td>8.0</td>\n",
       "      <td>21334</td>\n",
       "      <td>1148</td>\n",
       "      <td>53.86</td>\n",
       "      <td>0.037%</td>\n",
       "      <td>143.62</td>\n",
       "    </tr>\n",
       "    <tr>\n",
       "      <th>3427</th>\n",
       "      <td>13.0</td>\n",
       "      <td>18952</td>\n",
       "      <td>1125</td>\n",
       "      <td>59.37</td>\n",
       "      <td>0.069%</td>\n",
       "      <td>86.55</td>\n",
       "    </tr>\n",
       "    <tr>\n",
       "      <th>3476</th>\n",
       "      <td>9.0</td>\n",
       "      <td>14871</td>\n",
       "      <td>851</td>\n",
       "      <td>57.24</td>\n",
       "      <td>0.061%</td>\n",
       "      <td>94.58</td>\n",
       "    </tr>\n",
       "    <tr>\n",
       "      <th>Total</th>\n",
       "      <td>70.0</td>\n",
       "      <td>113628</td>\n",
       "      <td>6302</td>\n",
       "      <td>55.47</td>\n",
       "      <td>0.062%</td>\n",
       "      <td>90.04</td>\n",
       "    </tr>\n",
       "  </tbody>\n",
       "</table>\n",
       "</div>"
      ],
      "text/plain": [
       "            click    Imps  cost    CPM     CTR    eCPC\n",
       "advertiser                                            \n",
       "1458         19.0   24572  1287  52.40  0.077%   67.77\n",
       "2259          4.0    5682   311  54.80   0.07%   77.84\n",
       "2261          1.0    4740   241  50.92  0.021%  241.36\n",
       "2821          2.0    9142   479  52.48  0.022%  239.87\n",
       "2997          6.0    2533   102  40.40  0.237%   17.06\n",
       "3358          8.0   11802   754  63.95  0.068%   94.35\n",
       "3386          8.0   21334  1148  53.86  0.037%  143.62\n",
       "3427         13.0   18952  1125  59.37  0.069%   86.55\n",
       "3476          9.0   14871   851  57.24  0.061%   94.58\n",
       "Total        70.0  113628  6302  55.47  0.062%   90.04"
      ]
     },
     "execution_count": 285,
     "metadata": {},
     "output_type": "execute_result"
    }
   ],
   "source": [
    "rand_1_4_result = test_performance(df_val_rand,0.25)\n",
    "rand_1_4_result "
   ]
  },
  {
   "cell_type": "code",
   "execution_count": 679,
   "metadata": {
    "collapsed": false
   },
   "outputs": [
    {
     "data": {
      "text/html": [
       "<div>\n",
       "<table border=\"1\" class=\"dataframe\">\n",
       "  <thead>\n",
       "    <tr style=\"text-align: right;\">\n",
       "      <th></th>\n",
       "      <th>click</th>\n",
       "      <th>Imps</th>\n",
       "      <th>cost</th>\n",
       "      <th>CPM</th>\n",
       "      <th>CTR</th>\n",
       "      <th>eCPC</th>\n",
       "    </tr>\n",
       "    <tr>\n",
       "      <th>advertiser</th>\n",
       "      <th></th>\n",
       "      <th></th>\n",
       "      <th></th>\n",
       "      <th></th>\n",
       "      <th></th>\n",
       "      <th></th>\n",
       "    </tr>\n",
       "  </thead>\n",
       "  <tbody>\n",
       "    <tr>\n",
       "      <th>1458</th>\n",
       "      <td>35.0</td>\n",
       "      <td>48846.0</td>\n",
       "      <td>2594.313</td>\n",
       "      <td>53.11</td>\n",
       "      <td>0.072%</td>\n",
       "      <td>74.12</td>\n",
       "    </tr>\n",
       "    <tr>\n",
       "      <th>2259</th>\n",
       "      <td>4.0</td>\n",
       "      <td>4380.0</td>\n",
       "      <td>135.818</td>\n",
       "      <td>31.01</td>\n",
       "      <td>0.091%</td>\n",
       "      <td>33.95</td>\n",
       "    </tr>\n",
       "    <tr>\n",
       "      <th>2261</th>\n",
       "      <td>3.0</td>\n",
       "      <td>6416.0</td>\n",
       "      <td>258.602</td>\n",
       "      <td>40.31</td>\n",
       "      <td>0.047%</td>\n",
       "      <td>86.20</td>\n",
       "    </tr>\n",
       "    <tr>\n",
       "      <th>2821</th>\n",
       "      <td>5.0</td>\n",
       "      <td>8150.0</td>\n",
       "      <td>259.526</td>\n",
       "      <td>31.84</td>\n",
       "      <td>0.061%</td>\n",
       "      <td>51.91</td>\n",
       "    </tr>\n",
       "    <tr>\n",
       "      <th>2997</th>\n",
       "      <td>22.0</td>\n",
       "      <td>5425.0</td>\n",
       "      <td>284.096</td>\n",
       "      <td>52.37</td>\n",
       "      <td>0.406%</td>\n",
       "      <td>12.91</td>\n",
       "    </tr>\n",
       "    <tr>\n",
       "      <th>3358</th>\n",
       "      <td>8.0</td>\n",
       "      <td>8095.0</td>\n",
       "      <td>334.468</td>\n",
       "      <td>41.32</td>\n",
       "      <td>0.099%</td>\n",
       "      <td>41.81</td>\n",
       "    </tr>\n",
       "    <tr>\n",
       "      <th>3386</th>\n",
       "      <td>10.0</td>\n",
       "      <td>10569.0</td>\n",
       "      <td>335.695</td>\n",
       "      <td>31.76</td>\n",
       "      <td>0.095%</td>\n",
       "      <td>33.57</td>\n",
       "    </tr>\n",
       "    <tr>\n",
       "      <th>3427</th>\n",
       "      <td>23.0</td>\n",
       "      <td>21602.0</td>\n",
       "      <td>1027.767</td>\n",
       "      <td>47.58</td>\n",
       "      <td>0.106%</td>\n",
       "      <td>44.69</td>\n",
       "    </tr>\n",
       "    <tr>\n",
       "      <th>3476</th>\n",
       "      <td>10.0</td>\n",
       "      <td>15940.0</td>\n",
       "      <td>740.663</td>\n",
       "      <td>46.47</td>\n",
       "      <td>0.063%</td>\n",
       "      <td>74.07</td>\n",
       "    </tr>\n",
       "    <tr>\n",
       "      <th>Total</th>\n",
       "      <td>120.0</td>\n",
       "      <td>129423.0</td>\n",
       "      <td>5970.948</td>\n",
       "      <td>46.14</td>\n",
       "      <td>0.093%</td>\n",
       "      <td>49.76</td>\n",
       "    </tr>\n",
       "  </tbody>\n",
       "</table>\n",
       "</div>"
      ],
      "text/plain": [
       "            click      Imps      cost    CPM     CTR   eCPC\n",
       "advertiser                                                 \n",
       "1458         35.0   48846.0  2594.313  53.11  0.072%  74.12\n",
       "2259          4.0    4380.0   135.818  31.01  0.091%  33.95\n",
       "2261          3.0    6416.0   258.602  40.31  0.047%  86.20\n",
       "2821          5.0    8150.0   259.526  31.84  0.061%  51.91\n",
       "2997         22.0    5425.0   284.096  52.37  0.406%  12.91\n",
       "3358          8.0    8095.0   334.468  41.32  0.099%  41.81\n",
       "3386         10.0   10569.0   335.695  31.76  0.095%  33.57\n",
       "3427         23.0   21602.0  1027.767  47.58  0.106%  44.69\n",
       "3476         10.0   15940.0   740.663  46.47  0.063%  74.07\n",
       "Total       120.0  129423.0  5970.948  46.14  0.093%  49.76"
      ]
     },
     "execution_count": 679,
     "metadata": {},
     "output_type": "execute_result"
    }
   ],
   "source": [
    "# real\n",
    "linear_1_4_result = test_performance(df_val_linear,0.25)\n",
    "linear_1_4_result "
   ]
  },
  {
   "cell_type": "markdown",
   "metadata": {},
   "source": [
    "## 1/8 budget"
   ]
  },
  {
   "cell_type": "code",
   "execution_count": 311,
   "metadata": {
    "collapsed": false
   },
   "outputs": [
    {
     "data": {
      "text/html": [
       "<div>\n",
       "<table border=\"1\" class=\"dataframe\">\n",
       "  <thead>\n",
       "    <tr style=\"text-align: right;\">\n",
       "      <th></th>\n",
       "      <th>click</th>\n",
       "      <th>Imps</th>\n",
       "      <th>cost</th>\n",
       "      <th>CPM</th>\n",
       "      <th>CTR</th>\n",
       "      <th>eCPC</th>\n",
       "    </tr>\n",
       "    <tr>\n",
       "      <th>advertiser</th>\n",
       "      <th></th>\n",
       "      <th></th>\n",
       "      <th></th>\n",
       "      <th></th>\n",
       "      <th></th>\n",
       "      <th></th>\n",
       "    </tr>\n",
       "  </thead>\n",
       "  <tbody>\n",
       "    <tr>\n",
       "      <th>1458</th>\n",
       "      <td>14.0</td>\n",
       "      <td>15835</td>\n",
       "      <td>765</td>\n",
       "      <td>48.37</td>\n",
       "      <td>0.088%</td>\n",
       "      <td>54.70</td>\n",
       "    </tr>\n",
       "    <tr>\n",
       "      <th>2259</th>\n",
       "      <td>1.0</td>\n",
       "      <td>3145</td>\n",
       "      <td>123</td>\n",
       "      <td>39.33</td>\n",
       "      <td>0.032%</td>\n",
       "      <td>123.69</td>\n",
       "    </tr>\n",
       "    <tr>\n",
       "      <th>2261</th>\n",
       "      <td>2.0</td>\n",
       "      <td>2568</td>\n",
       "      <td>91</td>\n",
       "      <td>35.82</td>\n",
       "      <td>0.078%</td>\n",
       "      <td>46.00</td>\n",
       "    </tr>\n",
       "    <tr>\n",
       "      <th>2821</th>\n",
       "      <td>2.0</td>\n",
       "      <td>5043</td>\n",
       "      <td>192</td>\n",
       "      <td>38.18</td>\n",
       "      <td>0.04%</td>\n",
       "      <td>96.27</td>\n",
       "    </tr>\n",
       "    <tr>\n",
       "      <th>2997</th>\n",
       "      <td>4.0</td>\n",
       "      <td>1467</td>\n",
       "      <td>48</td>\n",
       "      <td>32.91</td>\n",
       "      <td>0.273%</td>\n",
       "      <td>12.07</td>\n",
       "    </tr>\n",
       "    <tr>\n",
       "      <th>3358</th>\n",
       "      <td>3.0</td>\n",
       "      <td>6470</td>\n",
       "      <td>321</td>\n",
       "      <td>49.66</td>\n",
       "      <td>0.046%</td>\n",
       "      <td>107.10</td>\n",
       "    </tr>\n",
       "    <tr>\n",
       "      <th>3386</th>\n",
       "      <td>7.0</td>\n",
       "      <td>13533</td>\n",
       "      <td>644</td>\n",
       "      <td>47.62</td>\n",
       "      <td>0.052%</td>\n",
       "      <td>92.06</td>\n",
       "    </tr>\n",
       "    <tr>\n",
       "      <th>3427</th>\n",
       "      <td>13.0</td>\n",
       "      <td>11759</td>\n",
       "      <td>615</td>\n",
       "      <td>52.30</td>\n",
       "      <td>0.111%</td>\n",
       "      <td>47.31</td>\n",
       "    </tr>\n",
       "    <tr>\n",
       "      <th>3476</th>\n",
       "      <td>9.0</td>\n",
       "      <td>9302</td>\n",
       "      <td>465</td>\n",
       "      <td>50.09</td>\n",
       "      <td>0.097%</td>\n",
       "      <td>51.77</td>\n",
       "    </tr>\n",
       "    <tr>\n",
       "      <th>Total</th>\n",
       "      <td>55.0</td>\n",
       "      <td>69122</td>\n",
       "      <td>3269</td>\n",
       "      <td>47.29</td>\n",
       "      <td>0.08%</td>\n",
       "      <td>59.44</td>\n",
       "    </tr>\n",
       "  </tbody>\n",
       "</table>\n",
       "</div>"
      ],
      "text/plain": [
       "            click   Imps  cost    CPM     CTR    eCPC\n",
       "advertiser                                           \n",
       "1458         14.0  15835   765  48.37  0.088%   54.70\n",
       "2259          1.0   3145   123  39.33  0.032%  123.69\n",
       "2261          2.0   2568    91  35.82  0.078%   46.00\n",
       "2821          2.0   5043   192  38.18   0.04%   96.27\n",
       "2997          4.0   1467    48  32.91  0.273%   12.07\n",
       "3358          3.0   6470   321  49.66  0.046%  107.10\n",
       "3386          7.0  13533   644  47.62  0.052%   92.06\n",
       "3427         13.0  11759   615  52.30  0.111%   47.31\n",
       "3476          9.0   9302   465  50.09  0.097%   51.77\n",
       "Total        55.0  69122  3269  47.29   0.08%   59.44"
      ]
     },
     "execution_count": 311,
     "metadata": {},
     "output_type": "execute_result"
    }
   ],
   "source": [
    "# const bid = 88\n",
    "# adg = evaluate_result(df_val_const[:97549])\n",
    "const_1_8_result = test_performance(df_val_const,0.125)\n",
    "const_1_8_result "
   ]
  },
  {
   "cell_type": "code",
   "execution_count": 336,
   "metadata": {
    "collapsed": false
   },
   "outputs": [
    {
     "data": {
      "text/html": [
       "<div>\n",
       "<table border=\"1\" class=\"dataframe\">\n",
       "  <thead>\n",
       "    <tr style=\"text-align: right;\">\n",
       "      <th></th>\n",
       "      <th>click</th>\n",
       "      <th>Imps</th>\n",
       "      <th>cost</th>\n",
       "      <th>CPM</th>\n",
       "      <th>CTR</th>\n",
       "      <th>eCPC</th>\n",
       "    </tr>\n",
       "    <tr>\n",
       "      <th>advertiser</th>\n",
       "      <th></th>\n",
       "      <th></th>\n",
       "      <th></th>\n",
       "      <th></th>\n",
       "      <th></th>\n",
       "      <th></th>\n",
       "    </tr>\n",
       "  </thead>\n",
       "  <tbody>\n",
       "    <tr>\n",
       "      <th>1458</th>\n",
       "      <td>10.0</td>\n",
       "      <td>14443</td>\n",
       "      <td>682</td>\n",
       "      <td>47.27</td>\n",
       "      <td>0.069%</td>\n",
       "      <td>68.28</td>\n",
       "    </tr>\n",
       "    <tr>\n",
       "      <th>2259</th>\n",
       "      <td>3.0</td>\n",
       "      <td>3211</td>\n",
       "      <td>140</td>\n",
       "      <td>43.86</td>\n",
       "      <td>0.093%</td>\n",
       "      <td>46.94</td>\n",
       "    </tr>\n",
       "    <tr>\n",
       "      <th>2261</th>\n",
       "      <td>1.0</td>\n",
       "      <td>2712</td>\n",
       "      <td>108</td>\n",
       "      <td>39.83</td>\n",
       "      <td>0.037%</td>\n",
       "      <td>108.02</td>\n",
       "    </tr>\n",
       "    <tr>\n",
       "      <th>2821</th>\n",
       "      <td>1.0</td>\n",
       "      <td>5281</td>\n",
       "      <td>223</td>\n",
       "      <td>42.39</td>\n",
       "      <td>0.019%</td>\n",
       "      <td>223.87</td>\n",
       "    </tr>\n",
       "    <tr>\n",
       "      <th>2997</th>\n",
       "      <td>4.0</td>\n",
       "      <td>1584</td>\n",
       "      <td>55</td>\n",
       "      <td>35.07</td>\n",
       "      <td>0.253%</td>\n",
       "      <td>13.89</td>\n",
       "    </tr>\n",
       "    <tr>\n",
       "      <th>3358</th>\n",
       "      <td>3.0</td>\n",
       "      <td>6505</td>\n",
       "      <td>352</td>\n",
       "      <td>54.24</td>\n",
       "      <td>0.046%</td>\n",
       "      <td>117.62</td>\n",
       "    </tr>\n",
       "    <tr>\n",
       "      <th>3386</th>\n",
       "      <td>7.0</td>\n",
       "      <td>12600</td>\n",
       "      <td>596</td>\n",
       "      <td>47.32</td>\n",
       "      <td>0.056%</td>\n",
       "      <td>85.18</td>\n",
       "    </tr>\n",
       "    <tr>\n",
       "      <th>3427</th>\n",
       "      <td>14.0</td>\n",
       "      <td>10883</td>\n",
       "      <td>572</td>\n",
       "      <td>52.65</td>\n",
       "      <td>0.129%</td>\n",
       "      <td>40.93</td>\n",
       "    </tr>\n",
       "    <tr>\n",
       "      <th>3476</th>\n",
       "      <td>10.0</td>\n",
       "      <td>8529</td>\n",
       "      <td>429</td>\n",
       "      <td>50.37</td>\n",
       "      <td>0.117%</td>\n",
       "      <td>42.96</td>\n",
       "    </tr>\n",
       "    <tr>\n",
       "      <th>Total</th>\n",
       "      <td>53.0</td>\n",
       "      <td>65748</td>\n",
       "      <td>3162</td>\n",
       "      <td>48.10</td>\n",
       "      <td>0.081%</td>\n",
       "      <td>59.67</td>\n",
       "    </tr>\n",
       "  </tbody>\n",
       "</table>\n",
       "</div>"
      ],
      "text/plain": [
       "            click   Imps  cost    CPM     CTR    eCPC\n",
       "advertiser                                           \n",
       "1458         10.0  14443   682  47.27  0.069%   68.28\n",
       "2259          3.0   3211   140  43.86  0.093%   46.94\n",
       "2261          1.0   2712   108  39.83  0.037%  108.02\n",
       "2821          1.0   5281   223  42.39  0.019%  223.87\n",
       "2997          4.0   1584    55  35.07  0.253%   13.89\n",
       "3358          3.0   6505   352  54.24  0.046%  117.62\n",
       "3386          7.0  12600   596  47.32  0.056%   85.18\n",
       "3427         14.0  10883   572  52.65  0.129%   40.93\n",
       "3476         10.0   8529   429  50.37  0.117%   42.96\n",
       "Total        53.0  65748  3162  48.10  0.081%   59.67"
      ]
     },
     "execution_count": 336,
     "metadata": {},
     "output_type": "execute_result"
    }
   ],
   "source": [
    "# rand ub = 168\n",
    "# evaluate_result(df_val_rand[:118569])\n",
    "rand_1_8_result = test_performance(df_val_rand,0.125)\n",
    "rand_1_8_result "
   ]
  },
  {
   "cell_type": "code",
   "execution_count": 504,
   "metadata": {
    "collapsed": false
   },
   "outputs": [
    {
     "data": {
      "text/html": [
       "<div>\n",
       "<table border=\"1\" class=\"dataframe\">\n",
       "  <thead>\n",
       "    <tr style=\"text-align: right;\">\n",
       "      <th></th>\n",
       "      <th>click</th>\n",
       "      <th>Imps</th>\n",
       "      <th>cost</th>\n",
       "      <th>CPM</th>\n",
       "      <th>CTR</th>\n",
       "      <th>eCPC</th>\n",
       "    </tr>\n",
       "    <tr>\n",
       "      <th>advertiser</th>\n",
       "      <th></th>\n",
       "      <th></th>\n",
       "      <th></th>\n",
       "      <th></th>\n",
       "      <th></th>\n",
       "      <th></th>\n",
       "    </tr>\n",
       "  </thead>\n",
       "  <tbody>\n",
       "    <tr>\n",
       "      <th>1458</th>\n",
       "      <td>20.0</td>\n",
       "      <td>25720</td>\n",
       "      <td>1280</td>\n",
       "      <td>49.77</td>\n",
       "      <td>0.078%</td>\n",
       "      <td>64.00</td>\n",
       "    </tr>\n",
       "    <tr>\n",
       "      <th>2259</th>\n",
       "      <td>3.0</td>\n",
       "      <td>2482</td>\n",
       "      <td>76</td>\n",
       "      <td>30.63</td>\n",
       "      <td>0.121%</td>\n",
       "      <td>25.34</td>\n",
       "    </tr>\n",
       "    <tr>\n",
       "      <th>2261</th>\n",
       "      <td>3.0</td>\n",
       "      <td>3639</td>\n",
       "      <td>145</td>\n",
       "      <td>39.99</td>\n",
       "      <td>0.082%</td>\n",
       "      <td>48.51</td>\n",
       "    </tr>\n",
       "    <tr>\n",
       "      <th>2821</th>\n",
       "      <td>2.0</td>\n",
       "      <td>4686</td>\n",
       "      <td>149</td>\n",
       "      <td>31.90</td>\n",
       "      <td>0.043%</td>\n",
       "      <td>74.74</td>\n",
       "    </tr>\n",
       "    <tr>\n",
       "      <th>2997</th>\n",
       "      <td>4.0</td>\n",
       "      <td>1155</td>\n",
       "      <td>17</td>\n",
       "      <td>15.27</td>\n",
       "      <td>0.346%</td>\n",
       "      <td>4.41</td>\n",
       "    </tr>\n",
       "    <tr>\n",
       "      <th>3358</th>\n",
       "      <td>4.0</td>\n",
       "      <td>4607</td>\n",
       "      <td>189</td>\n",
       "      <td>41.12</td>\n",
       "      <td>0.087%</td>\n",
       "      <td>47.36</td>\n",
       "    </tr>\n",
       "    <tr>\n",
       "      <th>3386</th>\n",
       "      <td>7.0</td>\n",
       "      <td>8846</td>\n",
       "      <td>322</td>\n",
       "      <td>36.43</td>\n",
       "      <td>0.079%</td>\n",
       "      <td>46.04</td>\n",
       "    </tr>\n",
       "    <tr>\n",
       "      <th>3427</th>\n",
       "      <td>14.0</td>\n",
       "      <td>11420</td>\n",
       "      <td>519</td>\n",
       "      <td>45.46</td>\n",
       "      <td>0.123%</td>\n",
       "      <td>37.09</td>\n",
       "    </tr>\n",
       "    <tr>\n",
       "      <th>3476</th>\n",
       "      <td>10.0</td>\n",
       "      <td>9176</td>\n",
       "      <td>425</td>\n",
       "      <td>46.36</td>\n",
       "      <td>0.109%</td>\n",
       "      <td>42.54</td>\n",
       "    </tr>\n",
       "    <tr>\n",
       "      <th>Total</th>\n",
       "      <td>67.0</td>\n",
       "      <td>71731</td>\n",
       "      <td>3124</td>\n",
       "      <td>43.57</td>\n",
       "      <td>0.093%</td>\n",
       "      <td>46.64</td>\n",
       "    </tr>\n",
       "  </tbody>\n",
       "</table>\n",
       "</div>"
      ],
      "text/plain": [
       "            click   Imps  cost    CPM     CTR   eCPC\n",
       "advertiser                                          \n",
       "1458         20.0  25720  1280  49.77  0.078%  64.00\n",
       "2259          3.0   2482    76  30.63  0.121%  25.34\n",
       "2261          3.0   3639   145  39.99  0.082%  48.51\n",
       "2821          2.0   4686   149  31.90  0.043%  74.74\n",
       "2997          4.0   1155    17  15.27  0.346%   4.41\n",
       "3358          4.0   4607   189  41.12  0.087%  47.36\n",
       "3386          7.0   8846   322  36.43  0.079%  46.04\n",
       "3427         14.0  11420   519  45.46  0.123%  37.09\n",
       "3476         10.0   9176   425  46.36  0.109%  42.54\n",
       "Total        67.0  71731  3124  43.57  0.093%  46.64"
      ]
     },
     "execution_count": 504,
     "metadata": {},
     "output_type": "execute_result"
    }
   ],
   "source": [
    "# real\n",
    "linear_1_8_result = test_performance(df_val_linear,0.125)\n",
    "linear_1_8_result "
   ]
  },
  {
   "cell_type": "code",
   "execution_count": 238,
   "metadata": {
    "collapsed": false
   },
   "outputs": [
    {
     "data": {
      "text/html": [
       "<div>\n",
       "<table border=\"1\" class=\"dataframe\">\n",
       "  <thead>\n",
       "    <tr style=\"text-align: right;\">\n",
       "      <th></th>\n",
       "      <th>click</th>\n",
       "      <th>Imps</th>\n",
       "      <th>cost</th>\n",
       "      <th>CPM</th>\n",
       "      <th>CTR</th>\n",
       "      <th>eCPC</th>\n",
       "    </tr>\n",
       "    <tr>\n",
       "      <th>advertiser</th>\n",
       "      <th></th>\n",
       "      <th></th>\n",
       "      <th></th>\n",
       "      <th></th>\n",
       "      <th></th>\n",
       "      <th></th>\n",
       "    </tr>\n",
       "  </thead>\n",
       "  <tbody>\n",
       "    <tr>\n",
       "      <th>1458</th>\n",
       "      <td>37.0</td>\n",
       "      <td>52717</td>\n",
       "      <td>2771</td>\n",
       "      <td>52.57</td>\n",
       "      <td>0.07%</td>\n",
       "      <td>74.90</td>\n",
       "    </tr>\n",
       "    <tr>\n",
       "      <th>2259</th>\n",
       "      <td>6.0</td>\n",
       "      <td>11509</td>\n",
       "      <td>580</td>\n",
       "      <td>50.43</td>\n",
       "      <td>0.052%</td>\n",
       "      <td>96.73</td>\n",
       "    </tr>\n",
       "    <tr>\n",
       "      <th>2261</th>\n",
       "      <td>2.0</td>\n",
       "      <td>9527</td>\n",
       "      <td>449</td>\n",
       "      <td>47.14</td>\n",
       "      <td>0.021%</td>\n",
       "      <td>224.57</td>\n",
       "    </tr>\n",
       "    <tr>\n",
       "      <th>2821</th>\n",
       "      <td>8.0</td>\n",
       "      <td>18490</td>\n",
       "      <td>901</td>\n",
       "      <td>48.76</td>\n",
       "      <td>0.043%</td>\n",
       "      <td>112.70</td>\n",
       "    </tr>\n",
       "    <tr>\n",
       "      <th>2997</th>\n",
       "      <td>15.0</td>\n",
       "      <td>5091</td>\n",
       "      <td>212</td>\n",
       "      <td>41.73</td>\n",
       "      <td>0.295%</td>\n",
       "      <td>14.16</td>\n",
       "    </tr>\n",
       "    <tr>\n",
       "      <th>3358</th>\n",
       "      <td>17.0</td>\n",
       "      <td>26263</td>\n",
       "      <td>1666</td>\n",
       "      <td>63.47</td>\n",
       "      <td>0.065%</td>\n",
       "      <td>98.05</td>\n",
       "    </tr>\n",
       "    <tr>\n",
       "      <th>3386</th>\n",
       "      <td>26.0</td>\n",
       "      <td>46170</td>\n",
       "      <td>2503</td>\n",
       "      <td>54.23</td>\n",
       "      <td>0.056%</td>\n",
       "      <td>96.29</td>\n",
       "    </tr>\n",
       "    <tr>\n",
       "      <th>3427</th>\n",
       "      <td>33.0</td>\n",
       "      <td>42328</td>\n",
       "      <td>2549</td>\n",
       "      <td>60.24</td>\n",
       "      <td>0.078%</td>\n",
       "      <td>77.26</td>\n",
       "    </tr>\n",
       "    <tr>\n",
       "      <th>3476</th>\n",
       "      <td>13.0</td>\n",
       "      <td>32474</td>\n",
       "      <td>1867</td>\n",
       "      <td>57.50</td>\n",
       "      <td>0.04%</td>\n",
       "      <td>143.64</td>\n",
       "    </tr>\n",
       "    <tr>\n",
       "      <th>Total</th>\n",
       "      <td>157.0</td>\n",
       "      <td>244569</td>\n",
       "      <td>13502</td>\n",
       "      <td>55.21</td>\n",
       "      <td>0.064%</td>\n",
       "      <td>86.00</td>\n",
       "    </tr>\n",
       "  </tbody>\n",
       "</table>\n",
       "</div>"
      ],
      "text/plain": [
       "            click    Imps   cost    CPM     CTR    eCPC\n",
       "advertiser                                             \n",
       "1458         37.0   52717   2771  52.57   0.07%   74.90\n",
       "2259          6.0   11509    580  50.43  0.052%   96.73\n",
       "2261          2.0    9527    449  47.14  0.021%  224.57\n",
       "2821          8.0   18490    901  48.76  0.043%  112.70\n",
       "2997         15.0    5091    212  41.73  0.295%   14.16\n",
       "3358         17.0   26263   1666  63.47  0.065%   98.05\n",
       "3386         26.0   46170   2503  54.23  0.056%   96.29\n",
       "3427         33.0   42328   2549  60.24  0.078%   77.26\n",
       "3476         13.0   32474   1867  57.50   0.04%  143.64\n",
       "Total       157.0  244569  13502  55.21  0.064%   86.00"
      ]
     },
     "execution_count": 238,
     "metadata": {},
     "output_type": "execute_result"
    }
   ],
   "source": [
    "const_1_result = test_performance(df_val_const,1)\n",
    "const_1_result "
   ]
  },
  {
   "cell_type": "code",
   "execution_count": 239,
   "metadata": {
    "collapsed": false
   },
   "outputs": [
    {
     "data": {
      "text/html": [
       "<div>\n",
       "<table border=\"1\" class=\"dataframe\">\n",
       "  <thead>\n",
       "    <tr style=\"text-align: right;\">\n",
       "      <th></th>\n",
       "      <th>click</th>\n",
       "      <th>Imps</th>\n",
       "      <th>cost</th>\n",
       "      <th>CPM</th>\n",
       "      <th>CTR</th>\n",
       "      <th>eCPC</th>\n",
       "    </tr>\n",
       "    <tr>\n",
       "      <th>advertiser</th>\n",
       "      <th></th>\n",
       "      <th></th>\n",
       "      <th></th>\n",
       "      <th></th>\n",
       "      <th></th>\n",
       "      <th></th>\n",
       "    </tr>\n",
       "  </thead>\n",
       "  <tbody>\n",
       "    <tr>\n",
       "      <th>1458</th>\n",
       "      <td>27.0</td>\n",
       "      <td>40752</td>\n",
       "      <td>2074</td>\n",
       "      <td>50.91</td>\n",
       "      <td>0.066%</td>\n",
       "      <td>76.84</td>\n",
       "    </tr>\n",
       "    <tr>\n",
       "      <th>2259</th>\n",
       "      <td>4.0</td>\n",
       "      <td>9500</td>\n",
       "      <td>498</td>\n",
       "      <td>52.44</td>\n",
       "      <td>0.042%</td>\n",
       "      <td>124.55</td>\n",
       "    </tr>\n",
       "    <tr>\n",
       "      <th>2261</th>\n",
       "      <td>2.0</td>\n",
       "      <td>7998</td>\n",
       "      <td>388</td>\n",
       "      <td>48.58</td>\n",
       "      <td>0.025%</td>\n",
       "      <td>194.26</td>\n",
       "    </tr>\n",
       "    <tr>\n",
       "      <th>2821</th>\n",
       "      <td>6.0</td>\n",
       "      <td>15356</td>\n",
       "      <td>772</td>\n",
       "      <td>50.30</td>\n",
       "      <td>0.039%</td>\n",
       "      <td>128.72</td>\n",
       "    </tr>\n",
       "    <tr>\n",
       "      <th>2997</th>\n",
       "      <td>10.0</td>\n",
       "      <td>4247</td>\n",
       "      <td>168</td>\n",
       "      <td>39.63</td>\n",
       "      <td>0.235%</td>\n",
       "      <td>16.83</td>\n",
       "    </tr>\n",
       "    <tr>\n",
       "      <th>3358</th>\n",
       "      <td>11.0</td>\n",
       "      <td>19570</td>\n",
       "      <td>1201</td>\n",
       "      <td>61.38</td>\n",
       "      <td>0.056%</td>\n",
       "      <td>109.21</td>\n",
       "    </tr>\n",
       "    <tr>\n",
       "      <th>3386</th>\n",
       "      <td>18.0</td>\n",
       "      <td>35707</td>\n",
       "      <td>1877</td>\n",
       "      <td>52.59</td>\n",
       "      <td>0.05%</td>\n",
       "      <td>104.32</td>\n",
       "    </tr>\n",
       "    <tr>\n",
       "      <th>3427</th>\n",
       "      <td>19.0</td>\n",
       "      <td>31515</td>\n",
       "      <td>1821</td>\n",
       "      <td>57.81</td>\n",
       "      <td>0.06%</td>\n",
       "      <td>95.88</td>\n",
       "    </tr>\n",
       "    <tr>\n",
       "      <th>3476</th>\n",
       "      <td>9.0</td>\n",
       "      <td>24613</td>\n",
       "      <td>1364</td>\n",
       "      <td>55.42</td>\n",
       "      <td>0.037%</td>\n",
       "      <td>151.56</td>\n",
       "    </tr>\n",
       "    <tr>\n",
       "      <th>Total</th>\n",
       "      <td>106.0</td>\n",
       "      <td>189258</td>\n",
       "      <td>10166</td>\n",
       "      <td>53.72</td>\n",
       "      <td>0.056%</td>\n",
       "      <td>95.91</td>\n",
       "    </tr>\n",
       "  </tbody>\n",
       "</table>\n",
       "</div>"
      ],
      "text/plain": [
       "            click    Imps   cost    CPM     CTR    eCPC\n",
       "advertiser                                             \n",
       "1458         27.0   40752   2074  50.91  0.066%   76.84\n",
       "2259          4.0    9500    498  52.44  0.042%  124.55\n",
       "2261          2.0    7998    388  48.58  0.025%  194.26\n",
       "2821          6.0   15356    772  50.30  0.039%  128.72\n",
       "2997         10.0    4247    168  39.63  0.235%   16.83\n",
       "3358         11.0   19570   1201  61.38  0.056%  109.21\n",
       "3386         18.0   35707   1877  52.59   0.05%  104.32\n",
       "3427         19.0   31515   1821  57.81   0.06%   95.88\n",
       "3476          9.0   24613   1364  55.42  0.037%  151.56\n",
       "Total       106.0  189258  10166  53.72  0.056%   95.91"
      ]
     },
     "execution_count": 239,
     "metadata": {},
     "output_type": "execute_result"
    }
   ],
   "source": [
    "rand_1_result = test_performance(df_val_rand,1)\n",
    "rand_1_result "
   ]
  },
  {
   "cell_type": "code",
   "execution_count": 240,
   "metadata": {
    "collapsed": false
   },
   "outputs": [
    {
     "data": {
      "text/html": [
       "<div>\n",
       "<table border=\"1\" class=\"dataframe\">\n",
       "  <thead>\n",
       "    <tr style=\"text-align: right;\">\n",
       "      <th></th>\n",
       "      <th>click</th>\n",
       "      <th>Imps</th>\n",
       "      <th>cost</th>\n",
       "      <th>CPM</th>\n",
       "      <th>CTR</th>\n",
       "      <th>eCPC</th>\n",
       "    </tr>\n",
       "    <tr>\n",
       "      <th>advertiser</th>\n",
       "      <th></th>\n",
       "      <th></th>\n",
       "      <th></th>\n",
       "      <th></th>\n",
       "      <th></th>\n",
       "      <th></th>\n",
       "    </tr>\n",
       "  </thead>\n",
       "  <tbody>\n",
       "    <tr>\n",
       "      <th>1458</th>\n",
       "      <td>48.0</td>\n",
       "      <td>56520</td>\n",
       "      <td>3502</td>\n",
       "      <td>61.97</td>\n",
       "      <td>0.085%</td>\n",
       "      <td>72.97</td>\n",
       "    </tr>\n",
       "    <tr>\n",
       "      <th>2259</th>\n",
       "      <td>9.0</td>\n",
       "      <td>10936</td>\n",
       "      <td>716</td>\n",
       "      <td>65.52</td>\n",
       "      <td>0.082%</td>\n",
       "      <td>79.61</td>\n",
       "    </tr>\n",
       "    <tr>\n",
       "      <th>2261</th>\n",
       "      <td>4.0</td>\n",
       "      <td>9499</td>\n",
       "      <td>580</td>\n",
       "      <td>61.08</td>\n",
       "      <td>0.042%</td>\n",
       "      <td>145.04</td>\n",
       "    </tr>\n",
       "    <tr>\n",
       "      <th>2821</th>\n",
       "      <td>13.0</td>\n",
       "      <td>20136</td>\n",
       "      <td>1356</td>\n",
       "      <td>67.39</td>\n",
       "      <td>0.065%</td>\n",
       "      <td>104.38</td>\n",
       "    </tr>\n",
       "    <tr>\n",
       "      <th>2997</th>\n",
       "      <td>22.0</td>\n",
       "      <td>5425</td>\n",
       "      <td>284</td>\n",
       "      <td>52.37</td>\n",
       "      <td>0.406%</td>\n",
       "      <td>12.91</td>\n",
       "    </tr>\n",
       "    <tr>\n",
       "      <th>3358</th>\n",
       "      <td>23.0</td>\n",
       "      <td>29079</td>\n",
       "      <td>2341</td>\n",
       "      <td>80.51</td>\n",
       "      <td>0.079%</td>\n",
       "      <td>101.79</td>\n",
       "    </tr>\n",
       "    <tr>\n",
       "      <th>3386</th>\n",
       "      <td>31.0</td>\n",
       "      <td>49868</td>\n",
       "      <td>3355</td>\n",
       "      <td>67.28</td>\n",
       "      <td>0.062%</td>\n",
       "      <td>108.24</td>\n",
       "    </tr>\n",
       "    <tr>\n",
       "      <th>3427</th>\n",
       "      <td>41.0</td>\n",
       "      <td>45042</td>\n",
       "      <td>3179</td>\n",
       "      <td>70.60</td>\n",
       "      <td>0.091%</td>\n",
       "      <td>77.55</td>\n",
       "    </tr>\n",
       "    <tr>\n",
       "      <th>3476</th>\n",
       "      <td>13.0</td>\n",
       "      <td>32630</td>\n",
       "      <td>2151</td>\n",
       "      <td>65.95</td>\n",
       "      <td>0.04%</td>\n",
       "      <td>165.53</td>\n",
       "    </tr>\n",
       "    <tr>\n",
       "      <th>Total</th>\n",
       "      <td>204.0</td>\n",
       "      <td>259135</td>\n",
       "      <td>17468</td>\n",
       "      <td>67.41</td>\n",
       "      <td>0.079%</td>\n",
       "      <td>85.63</td>\n",
       "    </tr>\n",
       "  </tbody>\n",
       "</table>\n",
       "</div>"
      ],
      "text/plain": [
       "            click    Imps   cost    CPM     CTR    eCPC\n",
       "advertiser                                             \n",
       "1458         48.0   56520   3502  61.97  0.085%   72.97\n",
       "2259          9.0   10936    716  65.52  0.082%   79.61\n",
       "2261          4.0    9499    580  61.08  0.042%  145.04\n",
       "2821         13.0   20136   1356  67.39  0.065%  104.38\n",
       "2997         22.0    5425    284  52.37  0.406%   12.91\n",
       "3358         23.0   29079   2341  80.51  0.079%  101.79\n",
       "3386         31.0   49868   3355  67.28  0.062%  108.24\n",
       "3427         41.0   45042   3179  70.60  0.091%   77.55\n",
       "3476         13.0   32630   2151  65.95   0.04%  165.53\n",
       "Total       204.0  259135  17468  67.41  0.079%   85.63"
      ]
     },
     "execution_count": 240,
     "metadata": {},
     "output_type": "execute_result"
    }
   ],
   "source": [
    "linear_1_result = test_performance(df_val_linear,1)\n",
    "linear_1_result "
   ]
  },
  {
   "cell_type": "markdown",
   "metadata": {},
   "source": [
    "# Final Strategy: ORTB"
   ]
  },
  {
   "cell_type": "code",
   "execution_count": null,
   "metadata": {
    "collapsed": true
   },
   "outputs": [],
   "source": []
  },
  {
   "cell_type": "code",
   "execution_count": null,
   "metadata": {
    "collapsed": true
   },
   "outputs": [],
   "source": []
  },
  {
   "cell_type": "code",
   "execution_count": null,
   "metadata": {
    "collapsed": true
   },
   "outputs": [],
   "source": []
  },
  {
   "cell_type": "code",
   "execution_count": null,
   "metadata": {
    "collapsed": true
   },
   "outputs": [],
   "source": [
    "########################################################"
   ]
  },
  {
   "cell_type": "code",
   "execution_count": 906,
   "metadata": {
    "collapsed": true
   },
   "outputs": [],
   "source": [
    "lambda_range = [1e-7,5e-7,1e-6,5e-6,1e-5,5e-5]\n",
    "c_range = [20,50,80]\n",
    "\n",
    "ortbbids = []\n",
    "clambda = []\n",
    "\n",
    "for c in c_range:\n",
    "    for lambdas in lambda_range:\n",
    "        clambda.append((c,lambdas))\n",
    "        ortbbid = np.sqrt((c / lambdas * np.asarray(df_val_pctr.pCTR)+ c**2))  - c\n",
    "        ortbbids.append(ortbbid.tolist())"
   ]
  },
  {
   "cell_type": "code",
   "execution_count": 936,
   "metadata": {
    "collapsed": true
   },
   "outputs": [],
   "source": [
    "def ORTB_bidding(df_copy,adv):\n",
    "    ad_go_through = -1\n",
    "    impression = 0.0\n",
    "    clicks = 0\n",
    "    cost = 0.0\n",
    "#     click_cost = 0.0\n",
    "    budget = 25000000\n",
    "    \n",
    "    budget = budget / 4\n",
    "    \n",
    "#     if adv == 1458:\n",
    "#         budget = 0.091370*budget\n",
    "#     if adv == 2259:\n",
    "#         budget = 0.024868*budget  \n",
    "#     if adv == 2261:\n",
    "#         budget = 0.025867*budget  \n",
    "#     if adv == 2821:\n",
    "#         budget = 0.052661*budget\n",
    "#     if adv == 2997:\n",
    "#         budget = 0.554679*budget  \n",
    "#     if adv == 3358:\n",
    "#         budget = 0.062443*budget\n",
    "#     if adv == 3386:\n",
    "#         budget = 0.070429*budget\n",
    "#     if adv == 3427:\n",
    "#         budget = 0.069651*budget  \n",
    "#     if adv == 3476:\n",
    "#         budget = 0.048032*budget\n",
    "\n",
    "    if adv == 1458:\n",
    "        budget = float(37231239)/216496239*budget\n",
    "    if adv == 2259:\n",
    "        budget = float(13649026)/216496239*budget  \n",
    "    if adv == 2261:\n",
    "        budget = float(10789152)/216496239*budget  \n",
    "    if adv == 2821:\n",
    "        budget = float(20625766)/216496239*budget\n",
    "    if adv == 2997:\n",
    "        budget = float(3413227)/216496239*budget  \n",
    "    if adv == 3358:\n",
    "        budget = float(28145288)/216496239*budget\n",
    "    if adv == 3386:\n",
    "        budget = float(38341028)/216496239*budget\n",
    "    if adv == 3427:\n",
    "        budget = float(36820111)/216496239*budget  \n",
    "    if adv == 3476:\n",
    "        budget = float(27481402)/216496239*budget\n",
    "           \n",
    "        \n",
    "    df_copy = df_copy.reset_index()\n",
    "    for click, pay_price in df_validation_original.ix[(df_validation_original['advertiser']==adv)][['click','payprice']].values:\n",
    "        ad_go_through += 1\n",
    "        if df_copy['bidprice'][ad_go_through] > pay_price:\n",
    "            impression += 1.0\n",
    "            clicks += click\n",
    "            cost += pay_price\n",
    "        if cost >= budget:\n",
    "            break\n",
    "    return impression, clicks, cost, ad_go_through"
   ]
  },
  {
   "cell_type": "code",
   "execution_count": 937,
   "metadata": {
    "collapsed": false
   },
   "outputs": [],
   "source": [
    "# bp = {}\n",
    "clambda_list = {}\n",
    "# adv_list_linear = {}\n",
    "for adv in df_train['advertiser'].unique():\n",
    "\n",
    "    ortb = pd.DataFrame()\n",
    "    ortb['C,Lambda'] = clambda\n",
    "\n",
    "    im = []\n",
    "    clks = []\n",
    "    ct = []\n",
    "    agt = []\n",
    "\n",
    "    for bid in ortbbids:\n",
    "        df_copy = df_validation_original.copy()\n",
    "        df_copy['bidprice'] = bid\n",
    "        df_copy = df_copy.ix[(df_copy['advertiser']==adv)]\n",
    "        [imps, clicks, cost, ad_go_through] = ORTB_bidding(df_copy,adv)\n",
    "        im.append(imps)\n",
    "        clks.append(clicks)\n",
    "        ct.append(cost)\n",
    "        agt.append(ad_go_through)\n",
    "        \n",
    "#     ortb['imps_won'] = im\n",
    "#     ortb['total_spend'] = ct\n",
    "    ortb['clicks'] = clks\n",
    "#     ortb['ad_go_through'] = agt\n",
    "#     ortb['CTR'] = (ortb['clicks']/ortb['imps_won'] * 100).round(4).astype(str) + '%'\n",
    "#     ortb['CPM'] = (ortb['total_spend']/ortb['imps_won']).round(2)\n",
    "#     ortb['CPC'] = ((ortb['total_spend']/ortb['clicks'])/1000).round(2)\n",
    "    clambda_list[adv] = ortb.iloc[np.where(ortb.clicks == ortb.clicks.max())[0]].index[0]"
   ]
  },
  {
   "cell_type": "code",
   "execution_count": 938,
   "metadata": {
    "collapsed": false
   },
   "outputs": [
    {
     "data": {
      "text/plain": [
       "{1458: 0,\n",
       " 2259: 1,\n",
       " 2261: 0,\n",
       " 2821: 2,\n",
       " 2997: 11,\n",
       " 3358: 1,\n",
       " 3386: 15,\n",
       " 3427: 2,\n",
       " 3476: 1}"
      ]
     },
     "execution_count": 938,
     "metadata": {},
     "output_type": "execute_result"
    }
   ],
   "source": [
    "clambda_list"
   ]
  },
  {
   "cell_type": "code",
   "execution_count": 939,
   "metadata": {
    "collapsed": false
   },
   "outputs": [],
   "source": [
    "bp = {}\n",
    "for adv in df_train['advertiser'].unique():\n",
    "    df_copy = df_validation_original.copy()\n",
    "    df_copy['bidprice'] = ortbbids[clambda_list[adv]]\n",
    "    bp[adv] = df_copy.ix[(df_copy['advertiser']==adv)]"
   ]
  },
  {
   "cell_type": "code",
   "execution_count": 940,
   "metadata": {
    "collapsed": false
   },
   "outputs": [],
   "source": [
    "val_pred_bid_price_prtb = pd.concat([bp[1458],bp[3476],bp[3427],bp[3358],bp[2259],bp[2821],bp[3386],bp[2997],bp[2261]]).sort_index()"
   ]
  },
  {
   "cell_type": "code",
   "execution_count": 941,
   "metadata": {
    "collapsed": false
   },
   "outputs": [],
   "source": [
    "ad_go_through = -1\n",
    "impression = 0.0\n",
    "clicks = 0\n",
    "cost = 0.0\n",
    "budget = 25000 * 1000\n",
    "\n",
    "budget = budget / 4\n",
    "\n",
    "for click, pay_price in df_validation_original[['click','payprice']].values:\n",
    "    ad_go_through += 1\n",
    "    if val_pred_bid_price_prtb['bidprice'][ad_go_through] > pay_price:\n",
    "        impression += 1.0\n",
    "        clicks += click\n",
    "        cost += pay_price\n",
    "    if cost >= budget:\n",
    "        break\n",
    "    if ad_go_through == 299749:\n",
    "        break"
   ]
  },
  {
   "cell_type": "code",
   "execution_count": 942,
   "metadata": {
    "collapsed": false
   },
   "outputs": [
    {
     "data": {
      "text/plain": [
       "6250005.0"
      ]
     },
     "execution_count": 942,
     "metadata": {},
     "output_type": "execute_result"
    }
   ],
   "source": [
    "cost"
   ]
  },
  {
   "cell_type": "code",
   "execution_count": 943,
   "metadata": {
    "collapsed": false
   },
   "outputs": [
    {
     "data": {
      "text/plain": [
       "164869"
      ]
     },
     "execution_count": 943,
     "metadata": {},
     "output_type": "execute_result"
    }
   ],
   "source": [
    "ad_go_through"
   ]
  },
  {
   "cell_type": "code",
   "execution_count": 945,
   "metadata": {
    "collapsed": true
   },
   "outputs": [],
   "source": [
    "# df_val_ortb_1_4_cost = val_pred_bid_price_prtb.copy()"
   ]
  },
  {
   "cell_type": "code",
   "execution_count": 944,
   "metadata": {
    "collapsed": false
   },
   "outputs": [
    {
     "data": {
      "text/html": [
       "<div>\n",
       "<table border=\"1\" class=\"dataframe\">\n",
       "  <thead>\n",
       "    <tr style=\"text-align: right;\">\n",
       "      <th></th>\n",
       "      <th>click</th>\n",
       "      <th>Imps</th>\n",
       "      <th>cost</th>\n",
       "      <th>CPM</th>\n",
       "      <th>CTR</th>\n",
       "      <th>eCPC</th>\n",
       "    </tr>\n",
       "    <tr>\n",
       "      <th>advertiser</th>\n",
       "      <th></th>\n",
       "      <th></th>\n",
       "      <th></th>\n",
       "      <th></th>\n",
       "      <th></th>\n",
       "      <th></th>\n",
       "    </tr>\n",
       "  </thead>\n",
       "  <tbody>\n",
       "    <tr>\n",
       "      <th>1458</th>\n",
       "      <td>29.0</td>\n",
       "      <td>32922.0</td>\n",
       "      <td>2239.829</td>\n",
       "      <td>68.03</td>\n",
       "      <td>0.088%</td>\n",
       "      <td>77.24</td>\n",
       "    </tr>\n",
       "    <tr>\n",
       "      <th>2259</th>\n",
       "      <td>3.0</td>\n",
       "      <td>4583.0</td>\n",
       "      <td>189.168</td>\n",
       "      <td>41.28</td>\n",
       "      <td>0.065%</td>\n",
       "      <td>63.06</td>\n",
       "    </tr>\n",
       "    <tr>\n",
       "      <th>2261</th>\n",
       "      <td>4.0</td>\n",
       "      <td>6133.0</td>\n",
       "      <td>428.288</td>\n",
       "      <td>69.83</td>\n",
       "      <td>0.065%</td>\n",
       "      <td>107.07</td>\n",
       "    </tr>\n",
       "    <tr>\n",
       "      <th>2821</th>\n",
       "      <td>2.0</td>\n",
       "      <td>8076.0</td>\n",
       "      <td>324.769</td>\n",
       "      <td>40.21</td>\n",
       "      <td>0.025%</td>\n",
       "      <td>162.38</td>\n",
       "    </tr>\n",
       "    <tr>\n",
       "      <th>2997</th>\n",
       "      <td>4.0</td>\n",
       "      <td>1358.0</td>\n",
       "      <td>23.766</td>\n",
       "      <td>17.50</td>\n",
       "      <td>0.295%</td>\n",
       "      <td>5.94</td>\n",
       "    </tr>\n",
       "    <tr>\n",
       "      <th>3358</th>\n",
       "      <td>11.0</td>\n",
       "      <td>13841.0</td>\n",
       "      <td>912.062</td>\n",
       "      <td>65.90</td>\n",
       "      <td>0.079%</td>\n",
       "      <td>82.91</td>\n",
       "    </tr>\n",
       "    <tr>\n",
       "      <th>3386</th>\n",
       "      <td>7.0</td>\n",
       "      <td>9606.0</td>\n",
       "      <td>317.731</td>\n",
       "      <td>33.08</td>\n",
       "      <td>0.073%</td>\n",
       "      <td>45.39</td>\n",
       "    </tr>\n",
       "    <tr>\n",
       "      <th>3427</th>\n",
       "      <td>19.0</td>\n",
       "      <td>18140.0</td>\n",
       "      <td>967.566</td>\n",
       "      <td>53.34</td>\n",
       "      <td>0.105%</td>\n",
       "      <td>50.92</td>\n",
       "    </tr>\n",
       "    <tr>\n",
       "      <th>3476</th>\n",
       "      <td>11.0</td>\n",
       "      <td>15578.0</td>\n",
       "      <td>846.756</td>\n",
       "      <td>54.36</td>\n",
       "      <td>0.071%</td>\n",
       "      <td>76.98</td>\n",
       "    </tr>\n",
       "    <tr>\n",
       "      <th>Total</th>\n",
       "      <td>90.0</td>\n",
       "      <td>110237.0</td>\n",
       "      <td>6249.935</td>\n",
       "      <td>56.70</td>\n",
       "      <td>0.082%</td>\n",
       "      <td>69.44</td>\n",
       "    </tr>\n",
       "  </tbody>\n",
       "</table>\n",
       "</div>"
      ],
      "text/plain": [
       "            click      Imps      cost    CPM     CTR    eCPC\n",
       "advertiser                                                  \n",
       "1458         29.0   32922.0  2239.829  68.03  0.088%   77.24\n",
       "2259          3.0    4583.0   189.168  41.28  0.065%   63.06\n",
       "2261          4.0    6133.0   428.288  69.83  0.065%  107.07\n",
       "2821          2.0    8076.0   324.769  40.21  0.025%  162.38\n",
       "2997          4.0    1358.0    23.766  17.50  0.295%    5.94\n",
       "3358         11.0   13841.0   912.062  65.90  0.079%   82.91\n",
       "3386          7.0    9606.0   317.731  33.08  0.073%   45.39\n",
       "3427         19.0   18140.0   967.566  53.34  0.105%   50.92\n",
       "3476         11.0   15578.0   846.756  54.36  0.071%   76.98\n",
       "Total        90.0  110237.0  6249.935  56.70  0.082%   69.44"
      ]
     },
     "execution_count": 944,
     "metadata": {},
     "output_type": "execute_result"
    }
   ],
   "source": [
    "# ortb_1_4_ecpc =\n",
    "evaluate_result(val_pred_bid_price_prtb[:ad_go_through])\n",
    "# ortb_1_4_ecpc"
   ]
  },
  {
   "cell_type": "code",
   "execution_count": 366,
   "metadata": {
    "collapsed": false
   },
   "outputs": [],
   "source": [
    "#\n",
    "ortb_1_8_result = evaluate_result(df_val_ortb[:271453])"
   ]
  },
  {
   "cell_type": "code",
   "execution_count": 601,
   "metadata": {
    "collapsed": false
   },
   "outputs": [
    {
     "data": {
      "text/html": [
       "<div>\n",
       "<table border=\"1\" class=\"dataframe\">\n",
       "  <thead>\n",
       "    <tr style=\"text-align: right;\">\n",
       "      <th></th>\n",
       "      <th>click</th>\n",
       "      <th>Imps</th>\n",
       "      <th>cost</th>\n",
       "      <th>CPM</th>\n",
       "      <th>CTR</th>\n",
       "      <th>eCPC</th>\n",
       "    </tr>\n",
       "    <tr>\n",
       "      <th>advertiser</th>\n",
       "      <th></th>\n",
       "      <th></th>\n",
       "      <th></th>\n",
       "      <th></th>\n",
       "      <th></th>\n",
       "      <th></th>\n",
       "    </tr>\n",
       "  </thead>\n",
       "  <tbody>\n",
       "    <tr>\n",
       "      <th>1458</th>\n",
       "      <td>14.0</td>\n",
       "      <td>25532</td>\n",
       "      <td>922</td>\n",
       "      <td>36.15</td>\n",
       "      <td>0.055%</td>\n",
       "      <td>65.92</td>\n",
       "    </tr>\n",
       "    <tr>\n",
       "      <th>2259</th>\n",
       "      <td>1.0</td>\n",
       "      <td>2538</td>\n",
       "      <td>52</td>\n",
       "      <td>20.59</td>\n",
       "      <td>0.039%</td>\n",
       "      <td>52.26</td>\n",
       "    </tr>\n",
       "    <tr>\n",
       "      <th>2261</th>\n",
       "      <td>1.0</td>\n",
       "      <td>2791</td>\n",
       "      <td>54</td>\n",
       "      <td>19.62</td>\n",
       "      <td>0.036%</td>\n",
       "      <td>54.77</td>\n",
       "    </tr>\n",
       "    <tr>\n",
       "      <th>2821</th>\n",
       "      <td>4.0</td>\n",
       "      <td>8077</td>\n",
       "      <td>241</td>\n",
       "      <td>29.84</td>\n",
       "      <td>0.05%</td>\n",
       "      <td>60.26</td>\n",
       "    </tr>\n",
       "    <tr>\n",
       "      <th>2997</th>\n",
       "      <td>16.0</td>\n",
       "      <td>4904</td>\n",
       "      <td>246</td>\n",
       "      <td>50.27</td>\n",
       "      <td>0.326%</td>\n",
       "      <td>15.41</td>\n",
       "    </tr>\n",
       "    <tr>\n",
       "      <th>3358</th>\n",
       "      <td>6.0</td>\n",
       "      <td>8197</td>\n",
       "      <td>316</td>\n",
       "      <td>38.58</td>\n",
       "      <td>0.073%</td>\n",
       "      <td>52.71</td>\n",
       "    </tr>\n",
       "    <tr>\n",
       "      <th>3386</th>\n",
       "      <td>11.0</td>\n",
       "      <td>15762</td>\n",
       "      <td>517</td>\n",
       "      <td>32.86</td>\n",
       "      <td>0.07%</td>\n",
       "      <td>47.09</td>\n",
       "    </tr>\n",
       "    <tr>\n",
       "      <th>3427</th>\n",
       "      <td>14.0</td>\n",
       "      <td>13539</td>\n",
       "      <td>488</td>\n",
       "      <td>36.06</td>\n",
       "      <td>0.103%</td>\n",
       "      <td>34.87</td>\n",
       "    </tr>\n",
       "    <tr>\n",
       "      <th>3476</th>\n",
       "      <td>6.0</td>\n",
       "      <td>8672</td>\n",
       "      <td>285</td>\n",
       "      <td>32.87</td>\n",
       "      <td>0.069%</td>\n",
       "      <td>47.51</td>\n",
       "    </tr>\n",
       "    <tr>\n",
       "      <th>Total</th>\n",
       "      <td>73.0</td>\n",
       "      <td>90012</td>\n",
       "      <td>3124</td>\n",
       "      <td>34.72</td>\n",
       "      <td>0.081%</td>\n",
       "      <td>42.81</td>\n",
       "    </tr>\n",
       "  </tbody>\n",
       "</table>\n",
       "</div>"
      ],
      "text/plain": [
       "            click   Imps  cost    CPM     CTR   eCPC\n",
       "advertiser                                          \n",
       "1458         14.0  25532   922  36.15  0.055%  65.92\n",
       "2259          1.0   2538    52  20.59  0.039%  52.26\n",
       "2261          1.0   2791    54  19.62  0.036%  54.77\n",
       "2821          4.0   8077   241  29.84   0.05%  60.26\n",
       "2997         16.0   4904   246  50.27  0.326%  15.41\n",
       "3358          6.0   8197   316  38.58  0.073%  52.71\n",
       "3386         11.0  15762   517  32.86   0.07%  47.09\n",
       "3427         14.0  13539   488  36.06  0.103%  34.87\n",
       "3476          6.0   8672   285  32.87  0.069%  47.51\n",
       "Total        73.0  90012  3124  34.72  0.081%  42.81"
      ]
     },
     "execution_count": 601,
     "metadata": {},
     "output_type": "execute_result"
    }
   ],
   "source": [
    "ortb_1_8_result"
   ]
  },
  {
   "cell_type": "code",
   "execution_count": 378,
   "metadata": {
    "collapsed": false
   },
   "outputs": [],
   "source": [
    "#\n",
    "ortb_1_4_result = evaluate_result(df_val_ortb[:199135])"
   ]
  },
  {
   "cell_type": "code",
   "execution_count": 418,
   "metadata": {
    "collapsed": false
   },
   "outputs": [
    {
     "data": {
      "text/html": [
       "<div>\n",
       "<table border=\"1\" class=\"dataframe\">\n",
       "  <thead>\n",
       "    <tr style=\"text-align: right;\">\n",
       "      <th></th>\n",
       "      <th>click</th>\n",
       "      <th>Imps</th>\n",
       "      <th>cost</th>\n",
       "      <th>CPM</th>\n",
       "      <th>CTR</th>\n",
       "      <th>eCPC</th>\n",
       "    </tr>\n",
       "    <tr>\n",
       "      <th>advertiser</th>\n",
       "      <th></th>\n",
       "      <th></th>\n",
       "      <th></th>\n",
       "      <th></th>\n",
       "      <th></th>\n",
       "      <th></th>\n",
       "    </tr>\n",
       "  </thead>\n",
       "  <tbody>\n",
       "    <tr>\n",
       "      <th>1458</th>\n",
       "      <td>25.0</td>\n",
       "      <td>32195</td>\n",
       "      <td>1599</td>\n",
       "      <td>49.68</td>\n",
       "      <td>0.078%</td>\n",
       "      <td>63.97</td>\n",
       "    </tr>\n",
       "    <tr>\n",
       "      <th>2259</th>\n",
       "      <td>2.0</td>\n",
       "      <td>4089</td>\n",
       "      <td>133</td>\n",
       "      <td>32.75</td>\n",
       "      <td>0.049%</td>\n",
       "      <td>66.96</td>\n",
       "    </tr>\n",
       "    <tr>\n",
       "      <th>2261</th>\n",
       "      <td>2.0</td>\n",
       "      <td>3912</td>\n",
       "      <td>115</td>\n",
       "      <td>29.61</td>\n",
       "      <td>0.051%</td>\n",
       "      <td>57.93</td>\n",
       "    </tr>\n",
       "    <tr>\n",
       "      <th>2821</th>\n",
       "      <td>3.0</td>\n",
       "      <td>9769</td>\n",
       "      <td>394</td>\n",
       "      <td>40.36</td>\n",
       "      <td>0.031%</td>\n",
       "      <td>131.42</td>\n",
       "    </tr>\n",
       "    <tr>\n",
       "      <th>2997</th>\n",
       "      <td>14.0</td>\n",
       "      <td>3873</td>\n",
       "      <td>226</td>\n",
       "      <td>58.41</td>\n",
       "      <td>0.361%</td>\n",
       "      <td>16.16</td>\n",
       "    </tr>\n",
       "    <tr>\n",
       "      <th>3358</th>\n",
       "      <td>8.0</td>\n",
       "      <td>12836</td>\n",
       "      <td>711</td>\n",
       "      <td>55.45</td>\n",
       "      <td>0.062%</td>\n",
       "      <td>88.97</td>\n",
       "    </tr>\n",
       "    <tr>\n",
       "      <th>3386</th>\n",
       "      <td>11.0</td>\n",
       "      <td>24729</td>\n",
       "      <td>1212</td>\n",
       "      <td>49.04</td>\n",
       "      <td>0.044%</td>\n",
       "      <td>110.25</td>\n",
       "    </tr>\n",
       "    <tr>\n",
       "      <th>3427</th>\n",
       "      <td>21.0</td>\n",
       "      <td>21923</td>\n",
       "      <td>1169</td>\n",
       "      <td>53.34</td>\n",
       "      <td>0.096%</td>\n",
       "      <td>55.69</td>\n",
       "    </tr>\n",
       "    <tr>\n",
       "      <th>3476</th>\n",
       "      <td>10.0</td>\n",
       "      <td>14470</td>\n",
       "      <td>686</td>\n",
       "      <td>47.44</td>\n",
       "      <td>0.069%</td>\n",
       "      <td>68.64</td>\n",
       "    </tr>\n",
       "    <tr>\n",
       "      <th>Total</th>\n",
       "      <td>96.0</td>\n",
       "      <td>127796</td>\n",
       "      <td>6249</td>\n",
       "      <td>48.91</td>\n",
       "      <td>0.075%</td>\n",
       "      <td>65.10</td>\n",
       "    </tr>\n",
       "  </tbody>\n",
       "</table>\n",
       "</div>"
      ],
      "text/plain": [
       "            click    Imps  cost    CPM     CTR    eCPC\n",
       "advertiser                                            \n",
       "1458         25.0   32195  1599  49.68  0.078%   63.97\n",
       "2259          2.0    4089   133  32.75  0.049%   66.96\n",
       "2261          2.0    3912   115  29.61  0.051%   57.93\n",
       "2821          3.0    9769   394  40.36  0.031%  131.42\n",
       "2997         14.0    3873   226  58.41  0.361%   16.16\n",
       "3358          8.0   12836   711  55.45  0.062%   88.97\n",
       "3386         11.0   24729  1212  49.04  0.044%  110.25\n",
       "3427         21.0   21923  1169  53.34  0.096%   55.69\n",
       "3476         10.0   14470   686  47.44  0.069%   68.64\n",
       "Total        96.0  127796  6249  48.91  0.075%   65.10"
      ]
     },
     "execution_count": 418,
     "metadata": {},
     "output_type": "execute_result"
    }
   ],
   "source": [
    "ortb_1_4_result"
   ]
  },
  {
   "cell_type": "code",
   "execution_count": 419,
   "metadata": {
    "collapsed": false
   },
   "outputs": [
    {
     "data": {
      "text/html": [
       "<div>\n",
       "<table border=\"1\" class=\"dataframe\">\n",
       "  <thead>\n",
       "    <tr style=\"text-align: right;\">\n",
       "      <th></th>\n",
       "      <th>click</th>\n",
       "      <th>Imps</th>\n",
       "      <th>cost</th>\n",
       "      <th>CPM</th>\n",
       "      <th>CTR</th>\n",
       "      <th>eCPC</th>\n",
       "    </tr>\n",
       "    <tr>\n",
       "      <th>advertiser</th>\n",
       "      <th></th>\n",
       "      <th></th>\n",
       "      <th></th>\n",
       "      <th></th>\n",
       "      <th></th>\n",
       "      <th></th>\n",
       "    </tr>\n",
       "  </thead>\n",
       "  <tbody>\n",
       "    <tr>\n",
       "      <th>1458</th>\n",
       "      <td>36.0</td>\n",
       "      <td>52216</td>\n",
       "      <td>2923</td>\n",
       "      <td>55.98</td>\n",
       "      <td>0.069%</td>\n",
       "      <td>81.20</td>\n",
       "    </tr>\n",
       "    <tr>\n",
       "      <th>2259</th>\n",
       "      <td>4.0</td>\n",
       "      <td>7358</td>\n",
       "      <td>296</td>\n",
       "      <td>40.28</td>\n",
       "      <td>0.054%</td>\n",
       "      <td>74.09</td>\n",
       "    </tr>\n",
       "    <tr>\n",
       "      <th>2261</th>\n",
       "      <td>2.0</td>\n",
       "      <td>6864</td>\n",
       "      <td>256</td>\n",
       "      <td>37.30</td>\n",
       "      <td>0.029%</td>\n",
       "      <td>128.02</td>\n",
       "    </tr>\n",
       "    <tr>\n",
       "      <th>2821</th>\n",
       "      <td>8.0</td>\n",
       "      <td>16966</td>\n",
       "      <td>874</td>\n",
       "      <td>51.57</td>\n",
       "      <td>0.047%</td>\n",
       "      <td>109.36</td>\n",
       "    </tr>\n",
       "    <tr>\n",
       "      <th>2997</th>\n",
       "      <td>24.0</td>\n",
       "      <td>5812</td>\n",
       "      <td>364</td>\n",
       "      <td>62.68</td>\n",
       "      <td>0.413%</td>\n",
       "      <td>15.18</td>\n",
       "    </tr>\n",
       "    <tr>\n",
       "      <th>3358</th>\n",
       "      <td>17.0</td>\n",
       "      <td>23670</td>\n",
       "      <td>1541</td>\n",
       "      <td>65.13</td>\n",
       "      <td>0.072%</td>\n",
       "      <td>90.68</td>\n",
       "    </tr>\n",
       "    <tr>\n",
       "      <th>3386</th>\n",
       "      <td>25.0</td>\n",
       "      <td>43370</td>\n",
       "      <td>2469</td>\n",
       "      <td>56.95</td>\n",
       "      <td>0.058%</td>\n",
       "      <td>98.80</td>\n",
       "    </tr>\n",
       "    <tr>\n",
       "      <th>3427</th>\n",
       "      <td>34.0</td>\n",
       "      <td>39050</td>\n",
       "      <td>2388</td>\n",
       "      <td>61.16</td>\n",
       "      <td>0.087%</td>\n",
       "      <td>70.25</td>\n",
       "    </tr>\n",
       "    <tr>\n",
       "      <th>3476</th>\n",
       "      <td>11.0</td>\n",
       "      <td>25850</td>\n",
       "      <td>1385</td>\n",
       "      <td>53.59</td>\n",
       "      <td>0.043%</td>\n",
       "      <td>125.95</td>\n",
       "    </tr>\n",
       "    <tr>\n",
       "      <th>Total</th>\n",
       "      <td>161.0</td>\n",
       "      <td>221156</td>\n",
       "      <td>12499</td>\n",
       "      <td>56.52</td>\n",
       "      <td>0.073%</td>\n",
       "      <td>77.64</td>\n",
       "    </tr>\n",
       "  </tbody>\n",
       "</table>\n",
       "</div>"
      ],
      "text/plain": [
       "            click    Imps   cost    CPM     CTR    eCPC\n",
       "advertiser                                             \n",
       "1458         36.0   52216   2923  55.98  0.069%   81.20\n",
       "2259          4.0    7358    296  40.28  0.054%   74.09\n",
       "2261          2.0    6864    256  37.30  0.029%  128.02\n",
       "2821          8.0   16966    874  51.57  0.047%  109.36\n",
       "2997         24.0    5812    364  62.68  0.413%   15.18\n",
       "3358         17.0   23670   1541  65.13  0.072%   90.68\n",
       "3386         25.0   43370   2469  56.95  0.058%   98.80\n",
       "3427         34.0   39050   2388  61.16  0.087%   70.25\n",
       "3476         11.0   25850   1385  53.59  0.043%  125.95\n",
       "Total       161.0  221156  12499  56.52  0.073%   77.64"
      ]
     },
     "execution_count": 419,
     "metadata": {},
     "output_type": "execute_result"
    }
   ],
   "source": [
    "ortb_1_2_result"
   ]
  },
  {
   "cell_type": "code",
   "execution_count": 389,
   "metadata": {
    "collapsed": false
   },
   "outputs": [],
   "source": [
    "#\n",
    "ortb_1_2_result = evaluate_result(df_val_ortb[:291246])"
   ]
  },
  {
   "cell_type": "markdown",
   "metadata": {},
   "source": [
    "# Compare all the strategies"
   ]
  },
  {
   "cell_type": "markdown",
   "metadata": {},
   "source": [
    "## 1/2 budget"
   ]
  },
  {
   "cell_type": "code",
   "execution_count": 243,
   "metadata": {
    "collapsed": false
   },
   "outputs": [],
   "source": [
    "# bud_1 = pd.concat([\n",
    "#     const_1_result.iloc[9].rename('const'),\n",
    "#     rand_1_result.iloc[9].rename('rand'),\n",
    "#     linear_1_result.iloc[9].rename('linear'),\n",
    "#     ortb_1_result.iloc[9].rename('ortb')\n",
    "# ],axis=1).transpose()\n",
    "# # .to_csv('compare_1_2_result.csv')"
   ]
  },
  {
   "cell_type": "code",
   "execution_count": 531,
   "metadata": {
    "collapsed": false
   },
   "outputs": [
    {
     "data": {
      "text/html": [
       "<div>\n",
       "<table border=\"1\" class=\"dataframe\">\n",
       "  <thead>\n",
       "    <tr style=\"text-align: right;\">\n",
       "      <th></th>\n",
       "      <th>click</th>\n",
       "      <th>Imps</th>\n",
       "      <th>cost</th>\n",
       "      <th>CPM</th>\n",
       "      <th>CTR</th>\n",
       "      <th>eCPC</th>\n",
       "    </tr>\n",
       "  </thead>\n",
       "  <tbody>\n",
       "    <tr>\n",
       "      <th>const</th>\n",
       "      <td>145</td>\n",
       "      <td>227638</td>\n",
       "      <td>12557</td>\n",
       "      <td>55.16</td>\n",
       "      <td>0.064%</td>\n",
       "      <td>86.60</td>\n",
       "    </tr>\n",
       "    <tr>\n",
       "      <th>rand</th>\n",
       "      <td>132</td>\n",
       "      <td>204891</td>\n",
       "      <td>11906</td>\n",
       "      <td>58.11</td>\n",
       "      <td>0.064%</td>\n",
       "      <td>90.20</td>\n",
       "    </tr>\n",
       "    <tr>\n",
       "      <th>linear</th>\n",
       "      <td>154</td>\n",
       "      <td>207642</td>\n",
       "      <td>12499</td>\n",
       "      <td>60.20</td>\n",
       "      <td>0.074%</td>\n",
       "      <td>81.17</td>\n",
       "    </tr>\n",
       "    <tr>\n",
       "      <th>ortb</th>\n",
       "      <td>161</td>\n",
       "      <td>221156</td>\n",
       "      <td>12499</td>\n",
       "      <td>56.52</td>\n",
       "      <td>0.073%</td>\n",
       "      <td>77.64</td>\n",
       "    </tr>\n",
       "  </tbody>\n",
       "</table>\n",
       "</div>"
      ],
      "text/plain": [
       "       click    Imps   cost    CPM     CTR   eCPC\n",
       "const    145  227638  12557  55.16  0.064%  86.60\n",
       "rand     132  204891  11906  58.11  0.064%  90.20\n",
       "linear   154  207642  12499  60.20  0.074%  81.17\n",
       "ortb     161  221156  12499  56.52  0.073%  77.64"
      ]
     },
     "execution_count": 531,
     "metadata": {},
     "output_type": "execute_result"
    }
   ],
   "source": [
    "# bud_1_2 = \n",
    "pd.concat([\n",
    "    const_1_2_result.iloc[9].rename('const'),\n",
    "    rand_1_2_result.iloc[9].rename('rand'),\n",
    "    linear_1_2_result.iloc[9].rename('linear'),\n",
    "    ortb_1_2_result.iloc[9].rename('ortb')\n",
    "],axis=1).transpose()\n",
    "# .to_csv('compare_1_2_result.csv')"
   ]
  },
  {
   "cell_type": "code",
   "execution_count": 972,
   "metadata": {
    "collapsed": false
   },
   "outputs": [],
   "source": [
    "# bud_1_4 =\n",
    "pd.concat([\n",
    "    const_1_4_result.iloc[9].rename('const'),\n",
    "    rand_1_4_result.iloc[9].rename('rand'),\n",
    "    linear_cost.iloc[9].rename('linear'),\n",
    "    ortb_ecpc.iloc[9].rename('ortb')\n",
    "],axis=1).transpose()\n",
    "# .to_csv('compare_1_4_result.csv')"
   ]
  },
  {
   "cell_type": "code",
   "execution_count": 508,
   "metadata": {
    "collapsed": false
   },
   "outputs": [
    {
     "data": {
      "text/html": [
       "<div>\n",
       "<table border=\"1\" class=\"dataframe\">\n",
       "  <thead>\n",
       "    <tr style=\"text-align: right;\">\n",
       "      <th></th>\n",
       "      <th>click</th>\n",
       "      <th>Imps</th>\n",
       "      <th>cost</th>\n",
       "      <th>CPM</th>\n",
       "      <th>CTR</th>\n",
       "      <th>eCPC</th>\n",
       "    </tr>\n",
       "  </thead>\n",
       "  <tbody>\n",
       "    <tr>\n",
       "      <th>const</th>\n",
       "      <td>55</td>\n",
       "      <td>69122</td>\n",
       "      <td>3269</td>\n",
       "      <td>47.29</td>\n",
       "      <td>0.08%</td>\n",
       "      <td>59.44</td>\n",
       "    </tr>\n",
       "    <tr>\n",
       "      <th>rand</th>\n",
       "      <td>53</td>\n",
       "      <td>65748</td>\n",
       "      <td>3162</td>\n",
       "      <td>48.10</td>\n",
       "      <td>0.081%</td>\n",
       "      <td>59.67</td>\n",
       "    </tr>\n",
       "    <tr>\n",
       "      <th>linear</th>\n",
       "      <td>67</td>\n",
       "      <td>71731</td>\n",
       "      <td>3124</td>\n",
       "      <td>43.57</td>\n",
       "      <td>0.093%</td>\n",
       "      <td>46.64</td>\n",
       "    </tr>\n",
       "    <tr>\n",
       "      <th>ortb</th>\n",
       "      <td>73</td>\n",
       "      <td>90012</td>\n",
       "      <td>3124</td>\n",
       "      <td>34.72</td>\n",
       "      <td>0.081%</td>\n",
       "      <td>42.81</td>\n",
       "    </tr>\n",
       "  </tbody>\n",
       "</table>\n",
       "</div>"
      ],
      "text/plain": [
       "       click   Imps  cost    CPM     CTR   eCPC\n",
       "const     55  69122  3269  47.29   0.08%  59.44\n",
       "rand      53  65748  3162  48.10  0.081%  59.67\n",
       "linear    67  71731  3124  43.57  0.093%  46.64\n",
       "ortb      73  90012  3124  34.72  0.081%  42.81"
      ]
     },
     "execution_count": 508,
     "metadata": {},
     "output_type": "execute_result"
    }
   ],
   "source": [
    "# bud_1_8 = \n",
    "pd.concat([\n",
    "    const_1_8_result.iloc[9].rename('const'),\n",
    "    rand_1_8_result.iloc[9].rename('rand'),\n",
    "    linear_1_8_result.iloc[9].rename('linear'),\n",
    "    ortb_1_8_result.iloc[9].rename('ortb')\n",
    "],axis=1).transpose()\n",
    "# .to_csv('compare_1_8_result.csv')"
   ]
  },
  {
   "cell_type": "code",
   "execution_count": 412,
   "metadata": {
    "collapsed": false
   },
   "outputs": [],
   "source": [
    "# pic=plt.figure(figsize=(12,9))\n",
    "# alpha_level = 0.55\n",
    "\n",
    "# pic1 = pic.add_subplot(2,3,1)\n",
    "# bud_1['click'].plot(kind='bar',alpha=alpha_level)\n",
    "# pic1.set_xticklabels([\"const\", \"rand\",'linear','ortb'], rotation=0)\n",
    "# plt.title(\"Budget (1/1)\")\n",
    "# plt.ylabel('Total Clicks')\n",
    "\n",
    "# pic2 = pic.add_subplot(2,3,2)   #share the same y axis with `pic1`\n",
    "# bud_1_2['click'].plot(kind='bar',alpha=alpha_level)\n",
    "# pic1.set_xticklabels([\"const\", \"rand\",'linear','ortb'], rotation=0)\n",
    "# plt.title(\"Budget (1/2)\")\n",
    "\n",
    "# pic3 = pic.add_subplot(2,3,3)\n",
    "\n",
    "# bud_1_4['click'].plot(kind='bar',alpha=alpha_level)\n",
    "# pic2.set_xticklabels([\"const\", \"rand\",'linear','ortb'], rotation=0)\n",
    "# plt.title(\"Budget (1/4)\")\n",
    "\n",
    "# pic4 = pic.add_subplot(2,3,4) \n",
    "# pd.to_numeric(bud_1['eCPC']).plot(kind='bar',alpha=alpha_level)\n",
    "# pic4.set_xticklabels([\"const\", \"rand\",'linear','ortb'], rotation=0)\n",
    "# plt.title(\"Budget (1/1)\")\n",
    "# plt.gca().set_ylim([40,100])\n",
    "# plt.ylabel('eCPC')\n",
    "\n",
    "# pic5 = pic.add_subplot(2,3,5)   #share the same y axis with `pic1`\n",
    "# pd.to_numeric(bud_1_2['eCPC']).plot(kind='bar',alpha=alpha_level)\n",
    "# pic4.set_xticklabels([\"const\", \"rand\",'linear','ortb'], rotation=0)\n",
    "# plt.title(\"Budget (1/2)\")\n",
    "# plt.gca().set_ylim([40,100])\n",
    "\n",
    "# pic6 = pic.add_subplot(2,3,6)\n",
    "# pd.to_numeric(bud_1_4['eCPC']).plot(kind='bar',alpha=alpha_level)\n",
    "# pic5.set_xticklabels([\"const\", \"rand\",'linear','ortb'], rotation=0)\n",
    "# plt.title(\"Budget (1/4)\")\n",
    "# plt.gca().set_ylim([40,100])\n",
    "\n"
   ]
  },
  {
   "cell_type": "code",
   "execution_count": 973,
   "metadata": {
    "collapsed": false
   },
   "outputs": [
    {
     "data": {
      "text/plain": [
       "(40, 100)"
      ]
     },
     "execution_count": 973,
     "metadata": {},
     "output_type": "execute_result"
    },
    {
     "data": {
      "image/png": "[encoded data removed]",
      "text/plain": [
       "<matplotlib.figure.Figure at 0x1c61a32d0>"
      ]
     },
     "metadata": {},
     "output_type": "display_data"
    }
   ],
   "source": [
    "pic=plt.figure(figsize=(12,9))\n",
    "alpha_level = 0.55\n",
    "\n",
    "pic1 = pic.add_subplot(2,3,1)\n",
    "\n",
    "\n",
    "bud_1_2['click'].plot(kind='bar',alpha=alpha_level)\n",
    "pic1.set_xticklabels([\"const\", \"rand\",'linear','ortb'], rotation=0)\n",
    "plt.title(\"Budget (1/2)\")\n",
    "plt.ylabel('Total Clicks')\n",
    "\n",
    "pic2 = pic.add_subplot(2,3,2)   #share the same y axis with `pic1`\n",
    "\n",
    "bud_1_4['click'].plot(kind='bar',alpha=alpha_level)\n",
    "pic2.set_xticklabels([\"const\", \"rand\",'linear','ortb'], rotation=0)\n",
    "plt.title(\"Budget (1/4)\")\n",
    "\n",
    "pic3 = pic.add_subplot(2,3,3)\n",
    "\n",
    "bud_1_8['click'].plot(kind='bar',alpha=alpha_level)\n",
    "pic3.set_xticklabels([\"const\", \"rand\",'linear','ortb'], rotation=0)\n",
    "plt.title(\"Budget (1/8)\")\n",
    "\n",
    "pic4 = pic.add_subplot(2,3,4) \n",
    "pd.to_numeric(bud_1_2['eCPC']).plot(kind='bar',alpha=alpha_level)\n",
    "pic4.set_xticklabels([\"const\", \"rand\",'linear','ortb'], rotation=0)\n",
    "plt.title(\"Budget (1/2)\")\n",
    "plt.gca().set_ylim([40,100])\n",
    "plt.ylabel('eCPC')\n",
    "\n",
    "pic5 = pic.add_subplot(2,3,5)   #share the same y axis with `pic1`\n",
    "\n",
    "pd.to_numeric(bud_1_4['eCPC']).plot(kind='bar',alpha=alpha_level)\n",
    "pic5.set_xticklabels([\"const\", \"rand\",'linear','ortb'], rotation=0)\n",
    "plt.title(\"Budget (1/4)\")\n",
    "plt.gca().set_ylim([40,100])\n",
    "\n",
    "pic6 = pic.add_subplot(2,3,6)\n",
    "\n",
    "pd.to_numeric(bud_1_8['eCPC']).plot(kind='bar',alpha=alpha_level)\n",
    "pic6.set_xticklabels([\"const\", \"rand\",'linear','ortb'], rotation=0)\n",
    "plt.title(\"Budget (1/8)\")\n",
    "plt.gca().set_ylim([40,100])\n"
   ]
  },
  {
   "cell_type": "code",
   "execution_count": 511,
   "metadata": {
    "collapsed": false
   },
   "outputs": [
    {
     "data": {
      "text/plain": [
       "0     37.284370\n",
       "1     48.313616\n",
       "2    119.108105\n",
       "3     77.402952\n",
       "4     59.631773\n",
       "Name: division, dtype: float64"
      ]
     },
     "execution_count": 511,
     "metadata": {},
     "output_type": "execute_result"
    }
   ],
   "source": [
    "val_pred_bid_price_1_4[:5]"
   ]
  },
  {
   "cell_type": "code",
   "execution_count": 512,
   "metadata": {
    "collapsed": false
   },
   "outputs": [
    {
     "data": {
      "text/plain": [
       "0     32.737496\n",
       "1     21.657828\n",
       "2    104.582726\n",
       "3     67.963568\n",
       "4     47.705419\n",
       "Name: division, dtype: float64"
      ]
     },
     "execution_count": 512,
     "metadata": {},
     "output_type": "execute_result"
    }
   ],
   "source": [
    "val_pred_bid_price_1_8[:5]"
   ]
  },
  {
   "cell_type": "code",
   "execution_count": null,
   "metadata": {
    "collapsed": true
   },
   "outputs": [],
   "source": []
  },
  {
   "cell_type": "code",
   "execution_count": null,
   "metadata": {
    "collapsed": true
   },
   "outputs": [],
   "source": []
  },
  {
   "cell_type": "markdown",
   "metadata": {},
   "source": [
    "# ORTB vs Linear"
   ]
  },
  {
   "cell_type": "code",
   "execution_count": null,
   "metadata": {
    "collapsed": true
   },
   "outputs": [],
   "source": [
    "linear_1_4_result"
   ]
  },
  {
   "cell_type": "code",
   "execution_count": null,
   "metadata": {
    "collapsed": true
   },
   "outputs": [],
   "source": [
    "ortb_1_4_result"
   ]
  },
  {
   "cell_type": "code",
   "execution_count": null,
   "metadata": {
    "collapsed": true
   },
   "outputs": [],
   "source": []
  },
  {
   "cell_type": "code",
   "execution_count": null,
   "metadata": {
    "collapsed": true
   },
   "outputs": [],
   "source": []
  },
  {
   "cell_type": "markdown",
   "metadata": {},
   "source": [
    "### Test"
   ]
  },
  {
   "cell_type": "code",
   "execution_count": 1015,
   "metadata": {
    "collapsed": false
   },
   "outputs": [],
   "source": [
    "df_test_pctr['advertiser'] = df_test_original['advertiser']"
   ]
  },
  {
   "cell_type": "code",
   "execution_count": 1016,
   "metadata": {
    "collapsed": true
   },
   "outputs": [],
   "source": [
    "df_test_pctr['division'] = df_test_pctr.apply(div,axis=1)"
   ]
  },
  {
   "cell_type": "code",
   "execution_count": 1017,
   "metadata": {
    "collapsed": false
   },
   "outputs": [],
   "source": [
    "bp_test = {}\n",
    "for adv in df_train['advertiser'].unique():\n",
    "    bp_test[adv] = basebid[adv] * df_test_pctr.ix[(df_test_pctr['advertiser']==adv)]['division']\n",
    "test_pred_bid_price = pd.concat([bp_test[1458],bp_test[3476],bp_test[3427],bp_test[3358],bp_test[2259],bp_test[2821],bp_test[3386],bp_test[2997],bp_test[2261]]).sort_index()    "
   ]
  },
  {
   "cell_type": "markdown",
   "metadata": {},
   "source": [
    "# Output file"
   ]
  },
  {
   "cell_type": "code",
   "execution_count": 1018,
   "metadata": {
    "collapsed": false
   },
   "outputs": [],
   "source": [
    "df_pred = pd.DataFrame(test_pred_bid_price.tolist(), index = df_test_original[\"bidid\"], columns=[\"bidprice\"])"
   ]
  },
  {
   "cell_type": "code",
   "execution_count": 1019,
   "metadata": {
    "collapsed": true
   },
   "outputs": [],
   "source": [
    "# df_pred.to_csv('testing_bidding_price.csv', header=True, index_label='bidid')"
   ]
  },
  {
   "cell_type": "code",
   "execution_count": 1020,
   "metadata": {
    "collapsed": true
   },
   "outputs": [],
   "source": [
    "df_pred.to_csv('Final_testing_bidding_price.csv', header=True, index_label='bidid')"
   ]
  },
  {
   "cell_type": "code",
   "execution_count": 1021,
   "metadata": {
    "collapsed": false
   },
   "outputs": [
    {
     "data": {
      "text/html": [
       "<div>\n",
       "<table border=\"1\" class=\"dataframe\">\n",
       "  <thead>\n",
       "    <tr style=\"text-align: right;\">\n",
       "      <th></th>\n",
       "      <th>bidprice</th>\n",
       "    </tr>\n",
       "    <tr>\n",
       "      <th>bidid</th>\n",
       "      <th></th>\n",
       "    </tr>\n",
       "  </thead>\n",
       "  <tbody>\n",
       "    <tr>\n",
       "      <th>fe2e06dff1dfd227471fd1ca717888ac</th>\n",
       "      <td>73.181431</td>\n",
       "    </tr>\n",
       "    <tr>\n",
       "      <th>92ea762b7b2cfd7aee30a2e88e1f5899</th>\n",
       "      <td>82.386003</td>\n",
       "    </tr>\n",
       "    <tr>\n",
       "      <th>617dfab714eedf4988c4aa9ad5425eca</th>\n",
       "      <td>63.510216</td>\n",
       "    </tr>\n",
       "    <tr>\n",
       "      <th>7fa016aaa3db39413b482f757facc3f4</th>\n",
       "      <td>33.274025</td>\n",
       "    </tr>\n",
       "    <tr>\n",
       "      <th>49db062ac10d19591dc7d988d730aad5</th>\n",
       "      <td>74.817970</td>\n",
       "    </tr>\n",
       "    <tr>\n",
       "      <th>6d86a43fbda12fc89c98620f4d8aedc1</th>\n",
       "      <td>45.342619</td>\n",
       "    </tr>\n",
       "    <tr>\n",
       "      <th>3b6b3f3227d42ad74971be4b9a26c189</th>\n",
       "      <td>17.648238</td>\n",
       "    </tr>\n",
       "    <tr>\n",
       "      <th>2cc65c3a9f97620d33d4c3ddfb368869</th>\n",
       "      <td>87.509817</td>\n",
       "    </tr>\n",
       "    <tr>\n",
       "      <th>be487ced968062be378892fc87013ff9</th>\n",
       "      <td>124.010770</td>\n",
       "    </tr>\n",
       "    <tr>\n",
       "      <th>7f7a7e763db7ec8123ddeb8a8c90689f</th>\n",
       "      <td>52.830343</td>\n",
       "    </tr>\n",
       "    <tr>\n",
       "      <th>a7a39744abc9fb0cda090dcb1c8124a3</th>\n",
       "      <td>3.797806</td>\n",
       "    </tr>\n",
       "    <tr>\n",
       "      <th>555881fe723734b534380df038cf96b8</th>\n",
       "      <td>9.559500</td>\n",
       "    </tr>\n",
       "    <tr>\n",
       "      <th>004fc1b86be2edaa84e0198bd5932a31</th>\n",
       "      <td>44.071210</td>\n",
       "    </tr>\n",
       "    <tr>\n",
       "      <th>705b532e4d07bd00f442002d311b5a2d</th>\n",
       "      <td>65.426769</td>\n",
       "    </tr>\n",
       "    <tr>\n",
       "      <th>539d178fd7b9c29af35533c53b8c98ec</th>\n",
       "      <td>56.482938</td>\n",
       "    </tr>\n",
       "    <tr>\n",
       "      <th>afc4f71205d852cce27df606c0644c42</th>\n",
       "      <td>76.923858</td>\n",
       "    </tr>\n",
       "    <tr>\n",
       "      <th>a70f214d127567f890958cce16c04916</th>\n",
       "      <td>10.743266</td>\n",
       "    </tr>\n",
       "    <tr>\n",
       "      <th>a508a897ead098124f513282449236fa</th>\n",
       "      <td>369.927958</td>\n",
       "    </tr>\n",
       "    <tr>\n",
       "      <th>b0279546e885d652b6483c0213b2d951</th>\n",
       "      <td>11.807356</td>\n",
       "    </tr>\n",
       "    <tr>\n",
       "      <th>5a9ad63fdc7b51985737c16f7a56eb9c</th>\n",
       "      <td>42.038977</td>\n",
       "    </tr>\n",
       "    <tr>\n",
       "      <th>b1a68056e579505ac6ad018d82a4f0a4</th>\n",
       "      <td>64.817398</td>\n",
       "    </tr>\n",
       "    <tr>\n",
       "      <th>0f827877408b6dbd1c0e4a40aec312c4</th>\n",
       "      <td>414.843734</td>\n",
       "    </tr>\n",
       "    <tr>\n",
       "      <th>d46c14bc869f485f88f7b1a31239c8ab</th>\n",
       "      <td>90.921180</td>\n",
       "    </tr>\n",
       "    <tr>\n",
       "      <th>157fa190f544e5b805bea449b18e4228</th>\n",
       "      <td>27.500658</td>\n",
       "    </tr>\n",
       "    <tr>\n",
       "      <th>c2841133526a311fd9258a7915b7aaa2</th>\n",
       "      <td>43.222742</td>\n",
       "    </tr>\n",
       "    <tr>\n",
       "      <th>a3f0f6f43517eb949b96db354eb16d66</th>\n",
       "      <td>47.142190</td>\n",
       "    </tr>\n",
       "    <tr>\n",
       "      <th>df7c81369edbfafd97b232f778632f35</th>\n",
       "      <td>39.249701</td>\n",
       "    </tr>\n",
       "    <tr>\n",
       "      <th>9d79913f545946aea1335e2d367f1005</th>\n",
       "      <td>82.959377</td>\n",
       "    </tr>\n",
       "    <tr>\n",
       "      <th>40f47b2ddc1d9d682fb3828e7dd0a629</th>\n",
       "      <td>159.354393</td>\n",
       "    </tr>\n",
       "    <tr>\n",
       "      <th>e151da8f94235740a9a579e188e05e4c</th>\n",
       "      <td>55.477920</td>\n",
       "    </tr>\n",
       "    <tr>\n",
       "      <th>...</th>\n",
       "      <td>...</td>\n",
       "    </tr>\n",
       "    <tr>\n",
       "      <th>dfbc52ba9efc41d4e308f9fb38dccedf</th>\n",
       "      <td>412.367800</td>\n",
       "    </tr>\n",
       "    <tr>\n",
       "      <th>d82c7f63e7f81e3a5fc1653c666c2bff</th>\n",
       "      <td>287.795329</td>\n",
       "    </tr>\n",
       "    <tr>\n",
       "      <th>164c194d1b2f712f320423b0e0dc2fa7</th>\n",
       "      <td>152.584037</td>\n",
       "    </tr>\n",
       "    <tr>\n",
       "      <th>3bc603dc4134f6f55f3a5c009a904e3a</th>\n",
       "      <td>8.195151</td>\n",
       "    </tr>\n",
       "    <tr>\n",
       "      <th>0c1200a6fa7b6fdd9173927e282a584f</th>\n",
       "      <td>76.578278</td>\n",
       "    </tr>\n",
       "    <tr>\n",
       "      <th>2c0859e6824e03ff1b42b19d5341a18b</th>\n",
       "      <td>99.539602</td>\n",
       "    </tr>\n",
       "    <tr>\n",
       "      <th>03c9448d51c5e1bad0c83f17cf09e392</th>\n",
       "      <td>25.586491</td>\n",
       "    </tr>\n",
       "    <tr>\n",
       "      <th>757c05fe2bfe79e0c15a58560d7c2b5f</th>\n",
       "      <td>82.479151</td>\n",
       "    </tr>\n",
       "    <tr>\n",
       "      <th>1f15230f1604555f3d85adb2c3f6bfd9</th>\n",
       "      <td>149.613596</td>\n",
       "    </tr>\n",
       "    <tr>\n",
       "      <th>51168a0636411a0bdb8ba972b89b49ac</th>\n",
       "      <td>238.667371</td>\n",
       "    </tr>\n",
       "    <tr>\n",
       "      <th>4feacdc544123d36dd7970cf3823c4c2</th>\n",
       "      <td>66.765410</td>\n",
       "    </tr>\n",
       "    <tr>\n",
       "      <th>2addea009ed7405f8129d21dc2be880a</th>\n",
       "      <td>71.350012</td>\n",
       "    </tr>\n",
       "    <tr>\n",
       "      <th>1b42d95cbc6958cd196401df670553b5</th>\n",
       "      <td>278.097758</td>\n",
       "    </tr>\n",
       "    <tr>\n",
       "      <th>59a2c1b2f339a5d832d4461647ae4df2</th>\n",
       "      <td>22.832171</td>\n",
       "    </tr>\n",
       "    <tr>\n",
       "      <th>16d33ffc8bed863e9d3fca102d4ebca5</th>\n",
       "      <td>90.085343</td>\n",
       "    </tr>\n",
       "    <tr>\n",
       "      <th>b062edcc09d5b04116852201ee8773e7</th>\n",
       "      <td>194.547669</td>\n",
       "    </tr>\n",
       "    <tr>\n",
       "      <th>122852b66e696889e9876e4c37e76f0a</th>\n",
       "      <td>7.908008</td>\n",
       "    </tr>\n",
       "    <tr>\n",
       "      <th>892aa5bb0249ff4f288df8a9e988c6b1</th>\n",
       "      <td>5.467115</td>\n",
       "    </tr>\n",
       "    <tr>\n",
       "      <th>3dafe4edf7bc45f9517004a167a6a2e8</th>\n",
       "      <td>110.019327</td>\n",
       "    </tr>\n",
       "    <tr>\n",
       "      <th>ab8da8144065f021bb1b49a859be5df1</th>\n",
       "      <td>34.270354</td>\n",
       "    </tr>\n",
       "    <tr>\n",
       "      <th>d16b4e7b52f9ff566c1a0a5fa3e25497</th>\n",
       "      <td>46.223847</td>\n",
       "    </tr>\n",
       "    <tr>\n",
       "      <th>244ac136e808f325155dc661b61a85b5</th>\n",
       "      <td>34.198002</td>\n",
       "    </tr>\n",
       "    <tr>\n",
       "      <th>5ad09692c6e8ab38f46e0a1afdccbf36</th>\n",
       "      <td>44.687093</td>\n",
       "    </tr>\n",
       "    <tr>\n",
       "      <th>2c3d30098820970ab0841e717ce1952d</th>\n",
       "      <td>175.663892</td>\n",
       "    </tr>\n",
       "    <tr>\n",
       "      <th>12ba0e62802b068ab7587684246e022b</th>\n",
       "      <td>34.721922</td>\n",
       "    </tr>\n",
       "    <tr>\n",
       "      <th>5ea93704cda9298fcb9c081264ce7fe4</th>\n",
       "      <td>97.841147</td>\n",
       "    </tr>\n",
       "    <tr>\n",
       "      <th>6220470327fcf18112285dc38cf93b51</th>\n",
       "      <td>64.756967</td>\n",
       "    </tr>\n",
       "    <tr>\n",
       "      <th>fde0d35a65c8253289c00290e0e80230</th>\n",
       "      <td>44.551751</td>\n",
       "    </tr>\n",
       "    <tr>\n",
       "      <th>2c43ea3b1cedb829ce0965f7bbbe81da</th>\n",
       "      <td>45.289149</td>\n",
       "    </tr>\n",
       "    <tr>\n",
       "      <th>be099b68183c051ba5e6b339b603ce22</th>\n",
       "      <td>49.761543</td>\n",
       "    </tr>\n",
       "  </tbody>\n",
       "</table>\n",
       "<p>299749 rows × 1 columns</p>\n",
       "</div>"
      ],
      "text/plain": [
       "                                    bidprice\n",
       "bidid                                       \n",
       "fe2e06dff1dfd227471fd1ca717888ac   73.181431\n",
       "92ea762b7b2cfd7aee30a2e88e1f5899   82.386003\n",
       "617dfab714eedf4988c4aa9ad5425eca   63.510216\n",
       "7fa016aaa3db39413b482f757facc3f4   33.274025\n",
       "49db062ac10d19591dc7d988d730aad5   74.817970\n",
       "6d86a43fbda12fc89c98620f4d8aedc1   45.342619\n",
       "3b6b3f3227d42ad74971be4b9a26c189   17.648238\n",
       "2cc65c3a9f97620d33d4c3ddfb368869   87.509817\n",
       "be487ced968062be378892fc87013ff9  124.010770\n",
       "7f7a7e763db7ec8123ddeb8a8c90689f   52.830343\n",
       "a7a39744abc9fb0cda090dcb1c8124a3    3.797806\n",
       "555881fe723734b534380df038cf96b8    9.559500\n",
       "004fc1b86be2edaa84e0198bd5932a31   44.071210\n",
       "705b532e4d07bd00f442002d311b5a2d   65.426769\n",
       "539d178fd7b9c29af35533c53b8c98ec   56.482938\n",
       "afc4f71205d852cce27df606c0644c42   76.923858\n",
       "a70f214d127567f890958cce16c04916   10.743266\n",
       "a508a897ead098124f513282449236fa  369.927958\n",
       "b0279546e885d652b6483c0213b2d951   11.807356\n",
       "5a9ad63fdc7b51985737c16f7a56eb9c   42.038977\n",
       "b1a68056e579505ac6ad018d82a4f0a4   64.817398\n",
       "0f827877408b6dbd1c0e4a40aec312c4  414.843734\n",
       "d46c14bc869f485f88f7b1a31239c8ab   90.921180\n",
       "157fa190f544e5b805bea449b18e4228   27.500658\n",
       "c2841133526a311fd9258a7915b7aaa2   43.222742\n",
       "a3f0f6f43517eb949b96db354eb16d66   47.142190\n",
       "df7c81369edbfafd97b232f778632f35   39.249701\n",
       "9d79913f545946aea1335e2d367f1005   82.959377\n",
       "40f47b2ddc1d9d682fb3828e7dd0a629  159.354393\n",
       "e151da8f94235740a9a579e188e05e4c   55.477920\n",
       "...                                      ...\n",
       "dfbc52ba9efc41d4e308f9fb38dccedf  412.367800\n",
       "d82c7f63e7f81e3a5fc1653c666c2bff  287.795329\n",
       "164c194d1b2f712f320423b0e0dc2fa7  152.584037\n",
       "3bc603dc4134f6f55f3a5c009a904e3a    8.195151\n",
       "0c1200a6fa7b6fdd9173927e282a584f   76.578278\n",
       "2c0859e6824e03ff1b42b19d5341a18b   99.539602\n",
       "03c9448d51c5e1bad0c83f17cf09e392   25.586491\n",
       "757c05fe2bfe79e0c15a58560d7c2b5f   82.479151\n",
       "1f15230f1604555f3d85adb2c3f6bfd9  149.613596\n",
       "51168a0636411a0bdb8ba972b89b49ac  238.667371\n",
       "4feacdc544123d36dd7970cf3823c4c2   66.765410\n",
       "2addea009ed7405f8129d21dc2be880a   71.350012\n",
       "1b42d95cbc6958cd196401df670553b5  278.097758\n",
       "59a2c1b2f339a5d832d4461647ae4df2   22.832171\n",
       "16d33ffc8bed863e9d3fca102d4ebca5   90.085343\n",
       "b062edcc09d5b04116852201ee8773e7  194.547669\n",
       "122852b66e696889e9876e4c37e76f0a    7.908008\n",
       "892aa5bb0249ff4f288df8a9e988c6b1    5.467115\n",
       "3dafe4edf7bc45f9517004a167a6a2e8  110.019327\n",
       "ab8da8144065f021bb1b49a859be5df1   34.270354\n",
       "d16b4e7b52f9ff566c1a0a5fa3e25497   46.223847\n",
       "244ac136e808f325155dc661b61a85b5   34.198002\n",
       "5ad09692c6e8ab38f46e0a1afdccbf36   44.687093\n",
       "2c3d30098820970ab0841e717ce1952d  175.663892\n",
       "12ba0e62802b068ab7587684246e022b   34.721922\n",
       "5ea93704cda9298fcb9c081264ce7fe4   97.841147\n",
       "6220470327fcf18112285dc38cf93b51   64.756967\n",
       "fde0d35a65c8253289c00290e0e80230   44.551751\n",
       "2c43ea3b1cedb829ce0965f7bbbe81da   45.289149\n",
       "be099b68183c051ba5e6b339b603ce22   49.761543\n",
       "\n",
       "[299749 rows x 1 columns]"
      ]
     },
     "execution_count": 1021,
     "metadata": {},
     "output_type": "execute_result"
    }
   ],
   "source": [
    "df_pred"
   ]
  },
  {
   "cell_type": "code",
   "execution_count": null,
   "metadata": {
    "collapsed": true
   },
   "outputs": [],
   "source": []
  },
  {
   "cell_type": "code",
   "execution_count": null,
   "metadata": {
    "collapsed": true
   },
   "outputs": [],
   "source": []
  },
  {
   "cell_type": "code",
   "execution_count": null,
   "metadata": {
    "collapsed": true
   },
   "outputs": [],
   "source": []
  },
  {
   "cell_type": "code",
   "execution_count": null,
   "metadata": {
    "collapsed": true
   },
   "outputs": [],
   "source": []
  },
  {
   "cell_type": "code",
   "execution_count": null,
   "metadata": {
    "collapsed": true
   },
   "outputs": [],
   "source": []
  },
  {
   "cell_type": "code",
   "execution_count": null,
   "metadata": {
    "collapsed": true
   },
   "outputs": [],
   "source": []
  },
  {
   "cell_type": "code",
   "execution_count": 425,
   "metadata": {
    "collapsed": false
   },
   "outputs": [],
   "source": [
    "rand_1_4_result.to_csv('rand_1_4_result.csv')"
   ]
  },
  {
   "cell_type": "code",
   "execution_count": 426,
   "metadata": {
    "collapsed": false
   },
   "outputs": [],
   "source": [
    "const_1_4_result.to_csv('const_1_4_result.csv')"
   ]
  },
  {
   "cell_type": "code",
   "execution_count": 602,
   "metadata": {
    "collapsed": false
   },
   "outputs": [],
   "source": [
    "linear_1_4_result.to_csv('linear_1_4_result.csv')"
   ]
  },
  {
   "cell_type": "code",
   "execution_count": 428,
   "metadata": {
    "collapsed": false
   },
   "outputs": [],
   "source": [
    "ortb_1_4_result.to_csv('ortb_1_4_result.csv')"
   ]
  },
  {
   "cell_type": "code",
   "execution_count": null,
   "metadata": {
    "collapsed": true
   },
   "outputs": [],
   "source": []
  },
  {
   "cell_type": "code",
   "execution_count": null,
   "metadata": {
    "collapsed": true
   },
   "outputs": [],
   "source": []
  },
  {
   "cell_type": "code",
   "execution_count": null,
   "metadata": {
    "collapsed": true
   },
   "outputs": [],
   "source": []
  },
  {
   "cell_type": "code",
   "execution_count": 967,
   "metadata": {
    "collapsed": true
   },
   "outputs": [],
   "source": [
    "ortb_ecpc.to_csv('ortb_ecpc.csv')"
   ]
  },
  {
   "cell_type": "code",
   "execution_count": 935,
   "metadata": {
    "collapsed": false
   },
   "outputs": [
    {
     "data": {
      "text/html": [
       "<div>\n",
       "<table border=\"1\" class=\"dataframe\">\n",
       "  <thead>\n",
       "    <tr style=\"text-align: right;\">\n",
       "      <th></th>\n",
       "      <th>click</th>\n",
       "      <th>Imps</th>\n",
       "      <th>cost</th>\n",
       "      <th>CPM</th>\n",
       "      <th>CTR</th>\n",
       "      <th>eCPC</th>\n",
       "    </tr>\n",
       "    <tr>\n",
       "      <th>advertiser</th>\n",
       "      <th></th>\n",
       "      <th></th>\n",
       "      <th></th>\n",
       "      <th></th>\n",
       "      <th></th>\n",
       "      <th></th>\n",
       "    </tr>\n",
       "  </thead>\n",
       "  <tbody>\n",
       "    <tr>\n",
       "      <th>1458</th>\n",
       "      <td>38.0</td>\n",
       "      <td>41300.0</td>\n",
       "      <td>2805.957</td>\n",
       "      <td>67.94</td>\n",
       "      <td>0.092%</td>\n",
       "      <td>73.84</td>\n",
       "    </tr>\n",
       "    <tr>\n",
       "      <th>2259</th>\n",
       "      <td>3.0</td>\n",
       "      <td>5751.0</td>\n",
       "      <td>236.337</td>\n",
       "      <td>41.09</td>\n",
       "      <td>0.052%</td>\n",
       "      <td>78.78</td>\n",
       "    </tr>\n",
       "    <tr>\n",
       "      <th>2261</th>\n",
       "      <td>3.0</td>\n",
       "      <td>6101.0</td>\n",
       "      <td>309.652</td>\n",
       "      <td>50.75</td>\n",
       "      <td>0.049%</td>\n",
       "      <td>103.22</td>\n",
       "    </tr>\n",
       "    <tr>\n",
       "      <th>2821</th>\n",
       "      <td>2.0</td>\n",
       "      <td>5596.0</td>\n",
       "      <td>155.394</td>\n",
       "      <td>27.77</td>\n",
       "      <td>0.036%</td>\n",
       "      <td>77.70</td>\n",
       "    </tr>\n",
       "    <tr>\n",
       "      <th>2997</th>\n",
       "      <td>16.0</td>\n",
       "      <td>4143.0</td>\n",
       "      <td>263.649</td>\n",
       "      <td>63.64</td>\n",
       "      <td>0.386%</td>\n",
       "      <td>16.48</td>\n",
       "    </tr>\n",
       "    <tr>\n",
       "      <th>3358</th>\n",
       "      <td>6.0</td>\n",
       "      <td>6187.0</td>\n",
       "      <td>237.872</td>\n",
       "      <td>38.45</td>\n",
       "      <td>0.097%</td>\n",
       "      <td>39.65</td>\n",
       "    </tr>\n",
       "    <tr>\n",
       "      <th>3386</th>\n",
       "      <td>7.0</td>\n",
       "      <td>10668.0</td>\n",
       "      <td>316.746</td>\n",
       "      <td>29.69</td>\n",
       "      <td>0.066%</td>\n",
       "      <td>45.25</td>\n",
       "    </tr>\n",
       "    <tr>\n",
       "      <th>3427</th>\n",
       "      <td>22.0</td>\n",
       "      <td>22707.0</td>\n",
       "      <td>1211.999</td>\n",
       "      <td>53.38</td>\n",
       "      <td>0.097%</td>\n",
       "      <td>55.09</td>\n",
       "    </tr>\n",
       "    <tr>\n",
       "      <th>3476</th>\n",
       "      <td>10.0</td>\n",
       "      <td>15008.0</td>\n",
       "      <td>712.391</td>\n",
       "      <td>47.47</td>\n",
       "      <td>0.067%</td>\n",
       "      <td>71.24</td>\n",
       "    </tr>\n",
       "    <tr>\n",
       "      <th>Total</th>\n",
       "      <td>107.0</td>\n",
       "      <td>117461.0</td>\n",
       "      <td>6249.997</td>\n",
       "      <td>53.21</td>\n",
       "      <td>0.091%</td>\n",
       "      <td>58.41</td>\n",
       "    </tr>\n",
       "  </tbody>\n",
       "</table>\n",
       "</div>"
      ],
      "text/plain": [
       "            click      Imps      cost    CPM     CTR    eCPC\n",
       "advertiser                                                  \n",
       "1458         38.0   41300.0  2805.957  67.94  0.092%   73.84\n",
       "2259          3.0    5751.0   236.337  41.09  0.052%   78.78\n",
       "2261          3.0    6101.0   309.652  50.75  0.049%  103.22\n",
       "2821          2.0    5596.0   155.394  27.77  0.036%   77.70\n",
       "2997         16.0    4143.0   263.649  63.64  0.386%   16.48\n",
       "3358          6.0    6187.0   237.872  38.45  0.097%   39.65\n",
       "3386          7.0   10668.0   316.746  29.69  0.066%   45.25\n",
       "3427         22.0   22707.0  1211.999  53.38  0.097%   55.09\n",
       "3476         10.0   15008.0   712.391  47.47  0.067%   71.24\n",
       "Total       107.0  117461.0  6249.997  53.21  0.091%   58.41"
      ]
     },
     "execution_count": 935,
     "metadata": {},
     "output_type": "execute_result"
    }
   ],
   "source": [
    "ortb_ecpc = evaluate_result(df_val_ortb_1_4_ecpc[:206286])\n",
    "ortb_ecpc"
   ]
  },
  {
   "cell_type": "code",
   "execution_count": 974,
   "metadata": {
    "collapsed": true
   },
   "outputs": [],
   "source": [
    "# linear_ecpc.to_csv('Optimal_Lin.csv')"
   ]
  },
  {
   "cell_type": "code",
   "execution_count": 948,
   "metadata": {
    "collapsed": false
   },
   "outputs": [
    {
     "data": {
      "text/html": [
       "<div>\n",
       "<table border=\"1\" class=\"dataframe\">\n",
       "  <thead>\n",
       "    <tr style=\"text-align: right;\">\n",
       "      <th></th>\n",
       "      <th>click</th>\n",
       "      <th>Imps</th>\n",
       "      <th>cost</th>\n",
       "      <th>CPM</th>\n",
       "      <th>CTR</th>\n",
       "      <th>eCPC</th>\n",
       "    </tr>\n",
       "    <tr>\n",
       "      <th>advertiser</th>\n",
       "      <th></th>\n",
       "      <th></th>\n",
       "      <th></th>\n",
       "      <th></th>\n",
       "      <th></th>\n",
       "      <th></th>\n",
       "    </tr>\n",
       "  </thead>\n",
       "  <tbody>\n",
       "    <tr>\n",
       "      <th>1458</th>\n",
       "      <td>35.0</td>\n",
       "      <td>48846.0</td>\n",
       "      <td>2594.313</td>\n",
       "      <td>53.11</td>\n",
       "      <td>0.072%</td>\n",
       "      <td>74.12</td>\n",
       "    </tr>\n",
       "    <tr>\n",
       "      <th>2259</th>\n",
       "      <td>4.0</td>\n",
       "      <td>4380.0</td>\n",
       "      <td>135.818</td>\n",
       "      <td>31.01</td>\n",
       "      <td>0.091%</td>\n",
       "      <td>33.95</td>\n",
       "    </tr>\n",
       "    <tr>\n",
       "      <th>2261</th>\n",
       "      <td>3.0</td>\n",
       "      <td>6416.0</td>\n",
       "      <td>258.602</td>\n",
       "      <td>40.31</td>\n",
       "      <td>0.047%</td>\n",
       "      <td>86.20</td>\n",
       "    </tr>\n",
       "    <tr>\n",
       "      <th>2821</th>\n",
       "      <td>5.0</td>\n",
       "      <td>8150.0</td>\n",
       "      <td>259.526</td>\n",
       "      <td>31.84</td>\n",
       "      <td>0.061%</td>\n",
       "      <td>51.91</td>\n",
       "    </tr>\n",
       "    <tr>\n",
       "      <th>2997</th>\n",
       "      <td>22.0</td>\n",
       "      <td>5425.0</td>\n",
       "      <td>284.096</td>\n",
       "      <td>52.37</td>\n",
       "      <td>0.406%</td>\n",
       "      <td>12.91</td>\n",
       "    </tr>\n",
       "    <tr>\n",
       "      <th>3358</th>\n",
       "      <td>8.0</td>\n",
       "      <td>8095.0</td>\n",
       "      <td>334.468</td>\n",
       "      <td>41.32</td>\n",
       "      <td>0.099%</td>\n",
       "      <td>41.81</td>\n",
       "    </tr>\n",
       "    <tr>\n",
       "      <th>3386</th>\n",
       "      <td>10.0</td>\n",
       "      <td>10569.0</td>\n",
       "      <td>335.695</td>\n",
       "      <td>31.76</td>\n",
       "      <td>0.095%</td>\n",
       "      <td>33.57</td>\n",
       "    </tr>\n",
       "    <tr>\n",
       "      <th>3427</th>\n",
       "      <td>23.0</td>\n",
       "      <td>21602.0</td>\n",
       "      <td>1027.767</td>\n",
       "      <td>47.58</td>\n",
       "      <td>0.106%</td>\n",
       "      <td>44.69</td>\n",
       "    </tr>\n",
       "    <tr>\n",
       "      <th>3476</th>\n",
       "      <td>10.0</td>\n",
       "      <td>15940.0</td>\n",
       "      <td>740.663</td>\n",
       "      <td>46.47</td>\n",
       "      <td>0.063%</td>\n",
       "      <td>74.07</td>\n",
       "    </tr>\n",
       "    <tr>\n",
       "      <th>Total</th>\n",
       "      <td>120.0</td>\n",
       "      <td>129423.0</td>\n",
       "      <td>5970.948</td>\n",
       "      <td>46.14</td>\n",
       "      <td>0.093%</td>\n",
       "      <td>49.76</td>\n",
       "    </tr>\n",
       "  </tbody>\n",
       "</table>\n",
       "</div>"
      ],
      "text/plain": [
       "            click      Imps      cost    CPM     CTR   eCPC\n",
       "advertiser                                                 \n",
       "1458         35.0   48846.0  2594.313  53.11  0.072%  74.12\n",
       "2259          4.0    4380.0   135.818  31.01  0.091%  33.95\n",
       "2261          3.0    6416.0   258.602  40.31  0.047%  86.20\n",
       "2821          5.0    8150.0   259.526  31.84  0.061%  51.91\n",
       "2997         22.0    5425.0   284.096  52.37  0.406%  12.91\n",
       "3358          8.0    8095.0   334.468  41.32  0.099%  41.81\n",
       "3386         10.0   10569.0   335.695  31.76  0.095%  33.57\n",
       "3427         23.0   21602.0  1027.767  47.58  0.106%  44.69\n",
       "3476         10.0   15940.0   740.663  46.47  0.063%  74.07\n",
       "Total       120.0  129423.0  5970.948  46.14  0.093%  49.76"
      ]
     },
     "execution_count": 948,
     "metadata": {},
     "output_type": "execute_result"
    }
   ],
   "source": [
    "linear_ecpc = evaluate_result(df_val_linear_1_4_ecpc[:299748])\n",
    "linear_ecpc"
   ]
  },
  {
   "cell_type": "code",
   "execution_count": 904,
   "metadata": {
    "collapsed": true
   },
   "outputs": [],
   "source": [
    "df_val_ortb_1_4_cost"
   ]
  },
  {
   "cell_type": "code",
   "execution_count": 946,
   "metadata": {
    "collapsed": false
   },
   "outputs": [
    {
     "data": {
      "text/html": [
       "<div>\n",
       "<table border=\"1\" class=\"dataframe\">\n",
       "  <thead>\n",
       "    <tr style=\"text-align: right;\">\n",
       "      <th></th>\n",
       "      <th>click</th>\n",
       "      <th>Imps</th>\n",
       "      <th>cost</th>\n",
       "      <th>CPM</th>\n",
       "      <th>CTR</th>\n",
       "      <th>eCPC</th>\n",
       "    </tr>\n",
       "    <tr>\n",
       "      <th>advertiser</th>\n",
       "      <th></th>\n",
       "      <th></th>\n",
       "      <th></th>\n",
       "      <th></th>\n",
       "      <th></th>\n",
       "      <th></th>\n",
       "    </tr>\n",
       "  </thead>\n",
       "  <tbody>\n",
       "    <tr>\n",
       "      <th>1458</th>\n",
       "      <td>29.0</td>\n",
       "      <td>32922.0</td>\n",
       "      <td>2239.829</td>\n",
       "      <td>68.03</td>\n",
       "      <td>0.088%</td>\n",
       "      <td>77.24</td>\n",
       "    </tr>\n",
       "    <tr>\n",
       "      <th>2259</th>\n",
       "      <td>3.0</td>\n",
       "      <td>4583.0</td>\n",
       "      <td>189.168</td>\n",
       "      <td>41.28</td>\n",
       "      <td>0.065%</td>\n",
       "      <td>63.06</td>\n",
       "    </tr>\n",
       "    <tr>\n",
       "      <th>2261</th>\n",
       "      <td>4.0</td>\n",
       "      <td>6133.0</td>\n",
       "      <td>428.288</td>\n",
       "      <td>69.83</td>\n",
       "      <td>0.065%</td>\n",
       "      <td>107.07</td>\n",
       "    </tr>\n",
       "    <tr>\n",
       "      <th>2821</th>\n",
       "      <td>2.0</td>\n",
       "      <td>8076.0</td>\n",
       "      <td>324.769</td>\n",
       "      <td>40.21</td>\n",
       "      <td>0.025%</td>\n",
       "      <td>162.38</td>\n",
       "    </tr>\n",
       "    <tr>\n",
       "      <th>2997</th>\n",
       "      <td>4.0</td>\n",
       "      <td>1358.0</td>\n",
       "      <td>23.766</td>\n",
       "      <td>17.50</td>\n",
       "      <td>0.295%</td>\n",
       "      <td>5.94</td>\n",
       "    </tr>\n",
       "    <tr>\n",
       "      <th>3358</th>\n",
       "      <td>11.0</td>\n",
       "      <td>13841.0</td>\n",
       "      <td>912.062</td>\n",
       "      <td>65.90</td>\n",
       "      <td>0.079%</td>\n",
       "      <td>82.91</td>\n",
       "    </tr>\n",
       "    <tr>\n",
       "      <th>3386</th>\n",
       "      <td>7.0</td>\n",
       "      <td>9606.0</td>\n",
       "      <td>317.731</td>\n",
       "      <td>33.08</td>\n",
       "      <td>0.073%</td>\n",
       "      <td>45.39</td>\n",
       "    </tr>\n",
       "    <tr>\n",
       "      <th>3427</th>\n",
       "      <td>19.0</td>\n",
       "      <td>18140.0</td>\n",
       "      <td>967.566</td>\n",
       "      <td>53.34</td>\n",
       "      <td>0.105%</td>\n",
       "      <td>50.92</td>\n",
       "    </tr>\n",
       "    <tr>\n",
       "      <th>3476</th>\n",
       "      <td>11.0</td>\n",
       "      <td>15578.0</td>\n",
       "      <td>846.756</td>\n",
       "      <td>54.36</td>\n",
       "      <td>0.071%</td>\n",
       "      <td>76.98</td>\n",
       "    </tr>\n",
       "    <tr>\n",
       "      <th>Total</th>\n",
       "      <td>90.0</td>\n",
       "      <td>110237.0</td>\n",
       "      <td>6249.935</td>\n",
       "      <td>56.70</td>\n",
       "      <td>0.082%</td>\n",
       "      <td>69.44</td>\n",
       "    </tr>\n",
       "  </tbody>\n",
       "</table>\n",
       "</div>"
      ],
      "text/plain": [
       "            click      Imps      cost    CPM     CTR    eCPC\n",
       "advertiser                                                  \n",
       "1458         29.0   32922.0  2239.829  68.03  0.088%   77.24\n",
       "2259          3.0    4583.0   189.168  41.28  0.065%   63.06\n",
       "2261          4.0    6133.0   428.288  69.83  0.065%  107.07\n",
       "2821          2.0    8076.0   324.769  40.21  0.025%  162.38\n",
       "2997          4.0    1358.0    23.766  17.50  0.295%    5.94\n",
       "3358         11.0   13841.0   912.062  65.90  0.079%   82.91\n",
       "3386          7.0    9606.0   317.731  33.08  0.073%   45.39\n",
       "3427         19.0   18140.0   967.566  53.34  0.105%   50.92\n",
       "3476         11.0   15578.0   846.756  54.36  0.071%   76.98\n",
       "Total        90.0  110237.0  6249.935  56.70  0.082%   69.44"
      ]
     },
     "execution_count": 946,
     "metadata": {},
     "output_type": "execute_result"
    }
   ],
   "source": [
    "ortb_cost"
   ]
  },
  {
   "cell_type": "code",
   "execution_count": 899,
   "metadata": {
    "collapsed": false
   },
   "outputs": [
    {
     "data": {
      "text/html": [
       "<div>\n",
       "<table border=\"1\" class=\"dataframe\">\n",
       "  <thead>\n",
       "    <tr style=\"text-align: right;\">\n",
       "      <th></th>\n",
       "      <th>click</th>\n",
       "      <th>Imps</th>\n",
       "      <th>cost</th>\n",
       "      <th>CPM</th>\n",
       "      <th>CTR</th>\n",
       "      <th>eCPC</th>\n",
       "    </tr>\n",
       "    <tr>\n",
       "      <th>advertiser</th>\n",
       "      <th></th>\n",
       "      <th></th>\n",
       "      <th></th>\n",
       "      <th></th>\n",
       "      <th></th>\n",
       "      <th></th>\n",
       "    </tr>\n",
       "  </thead>\n",
       "  <tbody>\n",
       "    <tr>\n",
       "      <th>1458</th>\n",
       "      <td>36.0</td>\n",
       "      <td>39170.0</td>\n",
       "      <td>2414.969</td>\n",
       "      <td>61.65</td>\n",
       "      <td>0.092%</td>\n",
       "      <td>67.08</td>\n",
       "    </tr>\n",
       "    <tr>\n",
       "      <th>2259</th>\n",
       "      <td>4.0</td>\n",
       "      <td>5370.0</td>\n",
       "      <td>260.000</td>\n",
       "      <td>48.42</td>\n",
       "      <td>0.074%</td>\n",
       "      <td>65.00</td>\n",
       "    </tr>\n",
       "    <tr>\n",
       "      <th>2261</th>\n",
       "      <td>4.0</td>\n",
       "      <td>6567.0</td>\n",
       "      <td>403.486</td>\n",
       "      <td>61.44</td>\n",
       "      <td>0.061%</td>\n",
       "      <td>100.87</td>\n",
       "    </tr>\n",
       "    <tr>\n",
       "      <th>2821</th>\n",
       "      <td>4.0</td>\n",
       "      <td>9256.0</td>\n",
       "      <td>405.942</td>\n",
       "      <td>43.86</td>\n",
       "      <td>0.043%</td>\n",
       "      <td>101.49</td>\n",
       "    </tr>\n",
       "    <tr>\n",
       "      <th>2997</th>\n",
       "      <td>7.0</td>\n",
       "      <td>2354.0</td>\n",
       "      <td>61.486</td>\n",
       "      <td>26.12</td>\n",
       "      <td>0.297%</td>\n",
       "      <td>8.78</td>\n",
       "    </tr>\n",
       "    <tr>\n",
       "      <th>3358</th>\n",
       "      <td>7.0</td>\n",
       "      <td>7542.0</td>\n",
       "      <td>355.073</td>\n",
       "      <td>47.08</td>\n",
       "      <td>0.093%</td>\n",
       "      <td>50.72</td>\n",
       "    </tr>\n",
       "    <tr>\n",
       "      <th>3386</th>\n",
       "      <td>10.0</td>\n",
       "      <td>13673.0</td>\n",
       "      <td>557.626</td>\n",
       "      <td>40.78</td>\n",
       "      <td>0.073%</td>\n",
       "      <td>55.76</td>\n",
       "    </tr>\n",
       "    <tr>\n",
       "      <th>3427</th>\n",
       "      <td>19.0</td>\n",
       "      <td>15759.0</td>\n",
       "      <td>767.129</td>\n",
       "      <td>48.68</td>\n",
       "      <td>0.121%</td>\n",
       "      <td>40.38</td>\n",
       "    </tr>\n",
       "    <tr>\n",
       "      <th>3476</th>\n",
       "      <td>11.0</td>\n",
       "      <td>17935.0</td>\n",
       "      <td>1024.282</td>\n",
       "      <td>57.11</td>\n",
       "      <td>0.061%</td>\n",
       "      <td>93.12</td>\n",
       "    </tr>\n",
       "    <tr>\n",
       "      <th>Total</th>\n",
       "      <td>102.0</td>\n",
       "      <td>117626.0</td>\n",
       "      <td>6249.993</td>\n",
       "      <td>53.13</td>\n",
       "      <td>0.087%</td>\n",
       "      <td>61.27</td>\n",
       "    </tr>\n",
       "  </tbody>\n",
       "</table>\n",
       "</div>"
      ],
      "text/plain": [
       "            click      Imps      cost    CPM     CTR    eCPC\n",
       "advertiser                                                  \n",
       "1458         36.0   39170.0  2414.969  61.65  0.092%   67.08\n",
       "2259          4.0    5370.0   260.000  48.42  0.074%   65.00\n",
       "2261          4.0    6567.0   403.486  61.44  0.061%  100.87\n",
       "2821          4.0    9256.0   405.942  43.86  0.043%  101.49\n",
       "2997          7.0    2354.0    61.486  26.12  0.297%    8.78\n",
       "3358          7.0    7542.0   355.073  47.08  0.093%   50.72\n",
       "3386         10.0   13673.0   557.626  40.78  0.073%   55.76\n",
       "3427         19.0   15759.0   767.129  48.68  0.121%   40.38\n",
       "3476         11.0   17935.0  1024.282  57.11  0.061%   93.12\n",
       "Total       102.0  117626.0  6249.993  53.13  0.087%   61.27"
      ]
     },
     "execution_count": 899,
     "metadata": {},
     "output_type": "execute_result"
    }
   ],
   "source": [
    "linear_cost = evaluate_result(df_val_linear_1_4_cost[:207347])\n",
    "linear_cost"
   ]
  },
  {
   "cell_type": "code",
   "execution_count": 920,
   "metadata": {
    "collapsed": false
   },
   "outputs": [],
   "source": [
    "df_click = pd.concat([linear_ecpc['click'].rename(columns = {'click':'linear_ecpc'}),linear_cost['click'].rename(columns = {'click':'linear_cost'}), ortb_ecpc['click'].rename(columns = {'click':'ortb_ecpc'}),ortb_cost['click'].rename(columns = {'click':'ortb_cost'})],axis=1)\n",
    "df_click = df_click.rename(columns = {0:'linear_ecpc',1:'linear_cost',2:'ortb_ecpc',3:'ortb_cost'})"
   ]
  },
  {
   "cell_type": "code",
   "execution_count": 921,
   "metadata": {
    "collapsed": false
   },
   "outputs": [],
   "source": [
    "df_Imps = pd.concat([linear_ecpc['Imps'].rename(columns = {'click':'linear_ecpc'}),linear_cost['Imps'].rename(columns = {'click':'linear_cost'}), ortb_ecpc['Imps'].rename(columns = {'click':'ortb_ecpc'}),ortb_cost['Imps'].rename(columns = {'click':'ortb_cost'})],axis=1)\n",
    "df_Imps = df_Imps.rename(columns = {0:'linear_ecpc',1:'linear_cost',2:'ortb_ecpc',3:'ortb_cost'})"
   ]
  },
  {
   "cell_type": "code",
   "execution_count": 922,
   "metadata": {
    "collapsed": false
   },
   "outputs": [],
   "source": [
    "df_cost = pd.concat([linear_ecpc['cost'].rename(columns = {'click':'linear_ecpc'}),linear_cost['cost'].rename(columns = {'click':'linear_cost'}), ortb_ecpc['cost'].rename(columns = {'click':'ortb_ecpc'}),ortb_cost['cost'].rename(columns = {'click':'ortb_cost'})],axis=1)\n",
    "df_cost = df_cost.rename(columns = {0:'linear_ecpc',1:'linear_cost',2:'ortb_ecpc',3:'ortb_cost'})"
   ]
  },
  {
   "cell_type": "code",
   "execution_count": 923,
   "metadata": {
    "collapsed": true
   },
   "outputs": [],
   "source": [
    "df_cpm = pd.concat([linear_ecpc['CPM'].rename(columns = {'click':'linear_ecpc'}),linear_cost['CPM'].rename(columns = {'click':'linear_cost'}), ortb_ecpc['CPM'].rename(columns = {'click':'ortb_ecpc'}),ortb_cost['CPM'].rename(columns = {'click':'ortb_cost'})],axis=1)\n",
    "df_cpm = df_cpm.rename(columns = {0:'linear_ecpc',1:'linear_cost',2:'ortb_ecpc',3:'ortb_cost'})"
   ]
  },
  {
   "cell_type": "code",
   "execution_count": 924,
   "metadata": {
    "collapsed": true
   },
   "outputs": [],
   "source": [
    "df_ctr = pd.concat([linear_ecpc['CTR'].rename(columns = {'click':'linear_ecpc'}),linear_cost['CTR'].rename(columns = {'click':'linear_cost'}), ortb_ecpc['CTR'].rename(columns = {'click':'ortb_ecpc'}),ortb_cost['CTR'].rename(columns = {'click':'ortb_cost'})],axis=1)\n",
    "df_ctr = df_ctr.rename(columns = {0:'linear_ecpc',1:'linear_cost',2:'ortb_ecpc',3:'ortb_cost'})"
   ]
  },
  {
   "cell_type": "code",
   "execution_count": 925,
   "metadata": {
    "collapsed": true
   },
   "outputs": [],
   "source": [
    "df_ecpc = pd.concat([linear_ecpc['eCPC'].rename(columns = {'click':'linear_ecpc'}),linear_cost['eCPC'].rename(columns = {'click':'linear_cost'}), ortb_ecpc['eCPC'].rename(columns = {'click':'ortb_ecpc'}),ortb_cost['eCPC'].rename(columns = {'click':'ortb_cost'})],axis=1)\n",
    "df_ecpc = df_ecpc.rename(columns = {0:'linear_ecpc',1:'linear_cost',2:'ortb_ecpc',3:'ortb_cost'})"
   ]
  },
  {
   "cell_type": "code",
   "execution_count": 926,
   "metadata": {
    "collapsed": false
   },
   "outputs": [
    {
     "name": "stderr",
     "output_type": "stream",
     "text": [
      "/usr/local/lib/python2.7/site-packages/ipykernel/__main__.py:1: FutureWarning: convert_objects is deprecated.  Use the data-type specific converters pd.to_datetime, pd.to_timedelta and pd.to_numeric.\n",
      "  if __name__ == '__main__':\n"
     ]
    }
   ],
   "source": [
    "df_ecpc = df_ecpc.convert_objects(convert_numeric=1)"
   ]
  },
  {
   "cell_type": "code",
   "execution_count": 927,
   "metadata": {
    "collapsed": false
   },
   "outputs": [
    {
     "name": "stderr",
     "output_type": "stream",
     "text": [
      "/usr/local/lib/python2.7/site-packages/ipykernel/__main__.py:1: FutureWarning: convert_objects is deprecated.  Use the data-type specific converters pd.to_datetime, pd.to_timedelta and pd.to_numeric.\n",
      "  if __name__ == '__main__':\n"
     ]
    }
   ],
   "source": [
    "df_cpm = df_cpm.convert_objects(convert_numeric=1)"
   ]
  },
  {
   "cell_type": "code",
   "execution_count": 928,
   "metadata": {
    "collapsed": true
   },
   "outputs": [],
   "source": [
    "def xxx(data):\n",
    "    return float(data.strip('%'))/100"
   ]
  },
  {
   "cell_type": "code",
   "execution_count": 929,
   "metadata": {
    "collapsed": false
   },
   "outputs": [],
   "source": [
    "df_ctr=df_ctr.applymap(xxx)"
   ]
  },
  {
   "cell_type": "code",
   "execution_count": 930,
   "metadata": {
    "collapsed": false
   },
   "outputs": [
    {
     "data": {
      "text/plain": [
       "<matplotlib.text.Text at 0x15d7ccd10>"
      ]
     },
     "execution_count": 930,
     "metadata": {},
     "output_type": "execute_result"
    },
    {
     "data": {
      "image/png": "[encoded data removed]",
      "text/plain": [
       "<matplotlib.figure.Figure at 0x1d2e6c590>"
      ]
     },
     "metadata": {},
     "output_type": "display_data"
    },
    {
     "data": {
      "image/png": "[encoded data removed]",
      "text/plain": [
       "<matplotlib.figure.Figure at 0x1d2eadb50>"
      ]
     },
     "metadata": {},
     "output_type": "display_data"
    },
    {
     "data": {
      "image/png": "[encoded data removed]",
      "text/plain": [
       "<matplotlib.figure.Figure at 0x16b24b190>"
      ]
     },
     "metadata": {},
     "output_type": "display_data"
    },
    {
     "data": {
      "image/png": "[encoded data removed]",
      "text/plain": [
       "<matplotlib.figure.Figure at 0x1bcf510d0>"
      ]
     },
     "metadata": {},
     "output_type": "display_data"
    },
    {
     "data": {
      "image/png": "[encoded data removed]",
      "text/plain": [
       "<matplotlib.figure.Figure at 0x15b9162d0>"
      ]
     },
     "metadata": {},
     "output_type": "display_data"
    },
    {
     "data": {
      "image/png": "[encoded data removed]",
      "text/plain": [
       "<matplotlib.figure.Figure at 0x1bdb6c8d0>"
      ]
     },
     "metadata": {},
     "output_type": "display_data"
    }
   ],
   "source": [
    "df_click.iloc[:9].plot.bar()\n",
    "# plt.title(\"Budget (1/2)\")\n",
    "plt.ylabel('Total Clicks')\n",
    "\n",
    "df_Imps.iloc[:9].plot.bar()\n",
    "# plt.title(\"Budget (1/2)\")\n",
    "plt.ylabel('Total Impressions')\n",
    "\n",
    "df_cost.iloc[:9].plot.bar()\n",
    "# plt.title(\"Budget (1/2)\")\n",
    "plt.ylabel('Cost')\n",
    "\n",
    "df_cpm.iloc[:9].plot.bar()\n",
    "# plt.title(\"Budget (1/2)\")\n",
    "# plt.set_xlim(xmin=,)\n",
    "plt.gca().set_ylim([0,100])\n",
    "plt.ylabel('CPM')\n",
    "\n",
    "df_ctr.iloc[:9].plot.bar()\n",
    "# plt.title(\"Budget (1/2)\")\n",
    "plt.ylabel('CTR')\n",
    "\n",
    "df_ecpc.iloc[:9].plot.bar()\n",
    "# plt.title(\"Budget (1/2)\")\n",
    "plt.ylabel('eCPC')"
   ]
  },
  {
   "cell_type": "code",
   "execution_count": null,
   "metadata": {
    "collapsed": true
   },
   "outputs": [],
   "source": []
  },
  {
   "cell_type": "code",
   "execution_count": 961,
   "metadata": {
    "collapsed": true
   },
   "outputs": [],
   "source": [
    "a = df_val_linear_1_4_ecpc.ix[(df_val_linear_1_4_ecpc['advertiser']!=1458)]"
   ]
  },
  {
   "cell_type": "code",
   "execution_count": 962,
   "metadata": {
    "collapsed": true
   },
   "outputs": [],
   "source": [
    "b = df_val_ortb_1_4_ecpc.ix[(df_val_ortb_1_4_ecpc['advertiser']==1458)]"
   ]
  },
  {
   "cell_type": "code",
   "execution_count": 963,
   "metadata": {
    "collapsed": false
   },
   "outputs": [],
   "source": [
    "allab = pd.concat([a,b]).sort_index()"
   ]
  },
  {
   "cell_type": "code",
   "execution_count": 964,
   "metadata": {
    "collapsed": true
   },
   "outputs": [],
   "source": [
    "ad_go_through = -1\n",
    "impression = 0.0\n",
    "clicks = 0\n",
    "cost = 0.0\n",
    "budget = 25000 * 1000\n",
    "\n",
    "budget = budget / 4\n",
    "\n",
    "for click, pay_price in df_validation_original[['click','payprice']].values:\n",
    "    ad_go_through += 1\n",
    "    if allab['bidprice'][ad_go_through] > pay_price:\n",
    "        impression += 1.0\n",
    "        clicks += click\n",
    "        cost += pay_price\n",
    "    if cost >= budget:\n",
    "        break\n",
    "    if ad_go_through == 299749:\n",
    "        break"
   ]
  },
  {
   "cell_type": "code",
   "execution_count": 965,
   "metadata": {
    "collapsed": false
   },
   "outputs": [
    {
     "data": {
      "text/plain": [
       "251644"
      ]
     },
     "execution_count": 965,
     "metadata": {},
     "output_type": "execute_result"
    }
   ],
   "source": [
    "ad_go_through"
   ]
  },
  {
   "cell_type": "code",
   "execution_count": 966,
   "metadata": {
    "collapsed": false
   },
   "outputs": [
    {
     "data": {
      "text/html": [
       "<div>\n",
       "<table border=\"1\" class=\"dataframe\">\n",
       "  <thead>\n",
       "    <tr style=\"text-align: right;\">\n",
       "      <th></th>\n",
       "      <th>click</th>\n",
       "      <th>Imps</th>\n",
       "      <th>cost</th>\n",
       "      <th>CPM</th>\n",
       "      <th>CTR</th>\n",
       "      <th>eCPC</th>\n",
       "    </tr>\n",
       "    <tr>\n",
       "      <th>advertiser</th>\n",
       "      <th></th>\n",
       "      <th></th>\n",
       "      <th></th>\n",
       "      <th></th>\n",
       "      <th></th>\n",
       "      <th></th>\n",
       "    </tr>\n",
       "  </thead>\n",
       "  <tbody>\n",
       "    <tr>\n",
       "      <th>1458</th>\n",
       "      <td>41.0</td>\n",
       "      <td>50387.0</td>\n",
       "      <td>3421.506</td>\n",
       "      <td>67.90</td>\n",
       "      <td>0.081%</td>\n",
       "      <td>83.45</td>\n",
       "    </tr>\n",
       "    <tr>\n",
       "      <th>2259</th>\n",
       "      <td>3.0</td>\n",
       "      <td>3664.0</td>\n",
       "      <td>113.327</td>\n",
       "      <td>30.93</td>\n",
       "      <td>0.082%</td>\n",
       "      <td>37.78</td>\n",
       "    </tr>\n",
       "    <tr>\n",
       "      <th>2261</th>\n",
       "      <td>3.0</td>\n",
       "      <td>5365.0</td>\n",
       "      <td>213.847</td>\n",
       "      <td>39.86</td>\n",
       "      <td>0.056%</td>\n",
       "      <td>71.28</td>\n",
       "    </tr>\n",
       "    <tr>\n",
       "      <th>2821</th>\n",
       "      <td>4.0</td>\n",
       "      <td>6841.0</td>\n",
       "      <td>219.047</td>\n",
       "      <td>32.02</td>\n",
       "      <td>0.058%</td>\n",
       "      <td>54.76</td>\n",
       "    </tr>\n",
       "    <tr>\n",
       "      <th>2997</th>\n",
       "      <td>16.0</td>\n",
       "      <td>4549.0</td>\n",
       "      <td>237.037</td>\n",
       "      <td>52.11</td>\n",
       "      <td>0.352%</td>\n",
       "      <td>14.81</td>\n",
       "    </tr>\n",
       "    <tr>\n",
       "      <th>3358</th>\n",
       "      <td>6.0</td>\n",
       "      <td>6734.0</td>\n",
       "      <td>277.437</td>\n",
       "      <td>41.20</td>\n",
       "      <td>0.089%</td>\n",
       "      <td>46.24</td>\n",
       "    </tr>\n",
       "    <tr>\n",
       "      <th>3386</th>\n",
       "      <td>7.0</td>\n",
       "      <td>8926.0</td>\n",
       "      <td>285.711</td>\n",
       "      <td>32.01</td>\n",
       "      <td>0.078%</td>\n",
       "      <td>40.82</td>\n",
       "    </tr>\n",
       "    <tr>\n",
       "      <th>3427</th>\n",
       "      <td>20.0</td>\n",
       "      <td>18126.0</td>\n",
       "      <td>861.651</td>\n",
       "      <td>47.54</td>\n",
       "      <td>0.11%</td>\n",
       "      <td>43.08</td>\n",
       "    </tr>\n",
       "    <tr>\n",
       "      <th>3476</th>\n",
       "      <td>10.0</td>\n",
       "      <td>13374.0</td>\n",
       "      <td>620.428</td>\n",
       "      <td>46.39</td>\n",
       "      <td>0.075%</td>\n",
       "      <td>62.04</td>\n",
       "    </tr>\n",
       "    <tr>\n",
       "      <th>Total</th>\n",
       "      <td>110.0</td>\n",
       "      <td>117966.0</td>\n",
       "      <td>6249.991</td>\n",
       "      <td>52.98</td>\n",
       "      <td>0.093%</td>\n",
       "      <td>56.82</td>\n",
       "    </tr>\n",
       "  </tbody>\n",
       "</table>\n",
       "</div>"
      ],
      "text/plain": [
       "            click      Imps      cost    CPM     CTR   eCPC\n",
       "advertiser                                                 \n",
       "1458         41.0   50387.0  3421.506  67.90  0.081%  83.45\n",
       "2259          3.0    3664.0   113.327  30.93  0.082%  37.78\n",
       "2261          3.0    5365.0   213.847  39.86  0.056%  71.28\n",
       "2821          4.0    6841.0   219.047  32.02  0.058%  54.76\n",
       "2997         16.0    4549.0   237.037  52.11  0.352%  14.81\n",
       "3358          6.0    6734.0   277.437  41.20  0.089%  46.24\n",
       "3386          7.0    8926.0   285.711  32.01  0.078%  40.82\n",
       "3427         20.0   18126.0   861.651  47.54   0.11%  43.08\n",
       "3476         10.0   13374.0   620.428  46.39  0.075%  62.04\n",
       "Total       110.0  117966.0  6249.991  52.98  0.093%  56.82"
      ]
     },
     "execution_count": 966,
     "metadata": {},
     "output_type": "execute_result"
    }
   ],
   "source": [
    "evaluate_result(allab[:251644])"
   ]
  },
  {
   "cell_type": "code",
   "execution_count": 957,
   "metadata": {
    "collapsed": false
   },
   "outputs": [
    {
     "data": {
      "text/plain": [
       "242340"
      ]
     },
     "execution_count": 957,
     "metadata": {},
     "output_type": "execute_result"
    }
   ],
   "source": [
    "ad_go_through"
   ]
  },
  {
   "cell_type": "code",
   "execution_count": 958,
   "metadata": {
    "collapsed": false
   },
   "outputs": [
    {
     "data": {
      "text/plain": [
       "57409"
      ]
     },
     "execution_count": 958,
     "metadata": {},
     "output_type": "execute_result"
    }
   ],
   "source": [
    "299749 - 242340"
   ]
  },
  {
   "cell_type": "code",
   "execution_count": null,
   "metadata": {
    "collapsed": true
   },
   "outputs": [],
   "source": []
  }
 ],
 "metadata": {
  "anaconda-cloud": {},
  "kernelspec": {
   "display_name": "Python 2",
   "language": "python",
   "name": "python2"
  },
  "language_info": {
   "codemirror_mode": {
    "name": "ipython",
    "version": 2
   },
   "file_extension": ".py",
   "mimetype": "text/x-python",
   "name": "python",
   "nbconvert_exporter": "python",
   "pygments_lexer": "ipython2",
   "version": "2.7.12"
  }
 },
 "nbformat": 4,
 "nbformat_minor": 1
}
